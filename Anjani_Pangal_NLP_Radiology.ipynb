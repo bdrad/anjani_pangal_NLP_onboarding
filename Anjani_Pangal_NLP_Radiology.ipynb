{
  "nbformat": 4,
  "nbformat_minor": 0,
  "metadata": {
    "colab": {
      "provenance": [],
      "collapsed_sections": [
        "ZS3gRR_Y2Cd8"
      ]
    },
    "kernelspec": {
      "name": "python3",
      "display_name": "Python 3"
    },
    "language_info": {
      "name": "python"
    }
  },
  "cells": [
    {
      "cell_type": "markdown",
      "metadata": {
        "id": "Aa9xRyBkjaPF"
      },
      "source": [
        "# DLL 52 Basics of NLP in Radiology - RSNA 2021\n",
        "\n",
        "This session will feature a brief lecture introducing the basics of natural language processing (NLP) and highlight potential uses for it in radiology. This accompanying notebook will provide hands-on opportunity to explore some of the basic tools of NLP available in Python. \n",
        "\n",
        "**Learning Objectives:**\n",
        "1.   Understand common terminology and preprocessing techniques in NLP\n",
        "2.   Identify several classic and modern approaches used to capture semantic meaning in text\n",
        "3. Learn how to implement a basic NLP pipeline from preprocessing to performance evaluation\n",
        "\n",
        "**Session Authors**\n",
        "\n",
        "Timothy L. Chen MD - University of California San Francisco, San Francisco, USA\n",
        "\n",
        "Jae Ho Sohn MD, MS - University of California San Francisco, San Francisco, USA\n",
        "\n",
        "\n",
        "\n"
      ]
    },
    {
      "cell_type": "markdown",
      "metadata": {
        "id": "rFZdK4accSlG"
      },
      "source": [
        "# Install Packages\n",
        "\n",
        "We will use a number of prepackaged python NLP tools for this demonstration. Google colab instances come preloaded with a number of packages but not everything. We will install the missing packages here.\n",
        "\n",
        "Natural Language Toolkit ([NLTK](https://www.nltk.org/))\n",
        "\n",
        "[spacy](https://spacy.io/) and [scispacy](https://allenai.github.io/scispacy/)\n",
        "\n",
        "[gensim](https://radimrehurek.com/gensim/)\n",
        "\n",
        "[sklearn](https://scikit-learn.org/stable/)\n",
        "\n",
        "\n",
        "\n",
        "\n"
      ]
    },
    {
      "cell_type": "code",
      "metadata": {
        "id": "W4QbilZBcYyx",
        "outputId": "5e82abfb-33dc-4a42-8c27-4a89de189356",
        "colab": {
          "base_uri": "https://localhost:8080/"
        }
      },
      "source": [
        "#@title Installing missing required packages\n",
        "!pip install xmltodict >/dev/null\n",
        "!pip install spacy > /dev/null \n",
        "!pip install scispacy > /dev/null\n",
        "!pip install negspacy > /dev/null\n",
        "!pip install https://s3-us-west-2.amazonaws.com/ai2-s2-scispacy/releases/v0.4.0/en_core_sci_md-0.4.0.tar.gz> /dev/null\n",
        "\n",
        "#! pip freeze"
      ],
      "execution_count": null,
      "outputs": [
        {
          "output_type": "stream",
          "name": "stdout",
          "text": [
            "\u001b[31mERROR: pip's dependency resolver does not currently take into account all the packages that are installed. This behaviour is the source of the following dependency conflicts.\n",
            "en-core-web-sm 3.5.0 requires spacy<3.6.0,>=3.5.0, but you have spacy 3.4.4 which is incompatible.\n",
            "en-core-sci-md 0.4.0 requires spacy<3.1.0,>=3.0.1, but you have spacy 3.4.4 which is incompatible.\u001b[0m\u001b[31m\n",
            "\u001b[0m\u001b[31mERROR: pip's dependency resolver does not currently take into account all the packages that are installed. This behaviour is the source of the following dependency conflicts.\n",
            "scispacy 0.5.1 requires spacy<3.5.0,>=3.4.0, but you have spacy 3.0.9 which is incompatible.\n",
            "en-core-web-sm 3.5.0 requires spacy<3.6.0,>=3.5.0, but you have spacy 3.0.9 which is incompatible.\u001b[0m\u001b[31m\n",
            "\u001b[0m"
          ]
        }
      ]
    },
    {
      "cell_type": "markdown",
      "metadata": {
        "id": "NxJj3ct4Q58_"
      },
      "source": [
        "# Acquiring Data\n",
        "\n",
        "This demo will utilize data from the [Indiana University CXR dataset](https://openi.nlm.nih.gov/faq). \n",
        "\n",
        "More information regarding the creation of this dataset is detailed in [1] *Demner-Fushman et. al. \"Preparing a collection of radiology examinations for distirbution and retrieval\". J. Am. Med. Inform. Assoc. 2016. doi: [10.1093/jamia/ocv080](https://academic.oup.com/jamia/article/23/2/304/2572395)*"
      ]
    },
    {
      "cell_type": "code",
      "metadata": {
        "colab": {
          "base_uri": "https://localhost:8080/"
        },
        "id": "LdlPCIiCLYHe",
        "outputId": "b5640fdf-a1df-4eff-d679-6702209a5b5b"
      },
      "source": [
        "# Download the data\n",
        "# tar options - x -extract, v - show progress of archive file, z - filter archive through gzip\n",
        "!curl https://openi.nlm.nih.gov/imgs/collections/NLMCXR_reports.tgz > NLMCXR_reports.tgz\n",
        "!tar xvf /content/NLMCXR_reports.tgz >/dev/null\n"
      ],
      "execution_count": null,
      "outputs": [
        {
          "output_type": "stream",
          "name": "stdout",
          "text": [
            "  % Total    % Received % Xferd  Average Speed   Time    Time     Time  Current\n",
            "                                 Dload  Upload   Total   Spent    Left  Speed\n",
            "\r  0     0    0     0    0     0      0      0 --:--:-- --:--:-- --:--:--     0\r100 1086k  100 1086k    0     0  8108k      0 --:--:-- --:--:-- --:--:-- 8108k\n"
          ]
        }
      ]
    },
    {
      "cell_type": "code",
      "metadata": {
        "id": "mAsCZXsE-HQe",
        "colab": {
          "base_uri": "https://localhost:8080/"
        },
        "outputId": "d3c6ad4a-0868-49aa-a931-d90309a6d89e"
      },
      "source": [
        "# taking a closer look at our file hierarchy\n",
        "!dir"
      ],
      "execution_count": null,
      "outputs": [
        {
          "output_type": "stream",
          "name": "stdout",
          "text": [
            "ecgen-radiology  NLMCXR_reports.tgz  sample_data\n"
          ]
        }
      ]
    },
    {
      "cell_type": "code",
      "source": [
        "#source: https://stackoverflow.com/questions/41059264/simple-csv-to-xml-conversion-python\n",
        "\n",
        "import csv  \n",
        "import pandas as pd\n",
        "            \n",
        "csv_file_name = ''\n",
        "\n",
        "f = open(csv_file_name)\n",
        "csv_f = csv.reader(f)   \n",
        "data = []\n",
        "\n",
        "for row in csv_f: \n",
        "   data.append(row)\n",
        "f.close()\n",
        "\n",
        "df = pd.read_csv(csv_file_name)\n",
        "header= list(df.columns)\n",
        "\n",
        "def convert_row(row):\n",
        "     str_row = \"\"\"<%s>%s</%s> \\n\"\"\"*(len(header)-1)\n",
        "     str_row = \"\"\"<%s>%s\"\"\" +\"\\n\"+ str_row + \"\"\"</%s>\"\"\"\n",
        "     var_values = [list_of_elments[k] for k in range(1,len(header)) for list_of_elments in [header,row,header]]\n",
        "     var_values = [header[0],row[0]]+var_values+[header[0]]\n",
        "     var_values =tuple(var_values)\n",
        "     return str_row % var_values\n",
        "\n",
        "text =\"\"\"\"\"\"+\"\\n\"+'\\n'.join([convert_row(row) for row in data[1:]])+\"\\n\" +\"\"\n",
        "print(text)\n",
        "with open('output.xml', 'w') as myfile: \n",
        "  myfile.write(text)\n",
        "\n",
        "\n"
      ],
      "metadata": {
        "colab": {
          "base_uri": "https://localhost:8080/",
          "height": 240
        },
        "id": "sg5XA0DqwdmO",
        "outputId": "afe2becc-c564-441d-e8cf-5c09ffca6b92"
      },
      "execution_count": null,
      "outputs": [
        {
          "output_type": "error",
          "ename": "FileNotFoundError",
          "evalue": "ignored",
          "traceback": [
            "\u001b[0;31m---------------------------------------------------------------------------\u001b[0m",
            "\u001b[0;31mFileNotFoundError\u001b[0m                         Traceback (most recent call last)",
            "\u001b[0;32m<ipython-input-3-da9c914f4687>\u001b[0m in \u001b[0;36m<cell line: 8>\u001b[0;34m()\u001b[0m\n\u001b[1;32m      6\u001b[0m \u001b[0mcsv_file_name\u001b[0m \u001b[0;34m=\u001b[0m \u001b[0;34m''\u001b[0m\u001b[0;34m\u001b[0m\u001b[0;34m\u001b[0m\u001b[0m\n\u001b[1;32m      7\u001b[0m \u001b[0;34m\u001b[0m\u001b[0m\n\u001b[0;32m----> 8\u001b[0;31m \u001b[0mf\u001b[0m \u001b[0;34m=\u001b[0m \u001b[0mopen\u001b[0m\u001b[0;34m(\u001b[0m\u001b[0mcsv_file_name\u001b[0m\u001b[0;34m)\u001b[0m\u001b[0;34m\u001b[0m\u001b[0;34m\u001b[0m\u001b[0m\n\u001b[0m\u001b[1;32m      9\u001b[0m \u001b[0mcsv_f\u001b[0m \u001b[0;34m=\u001b[0m \u001b[0mcsv\u001b[0m\u001b[0;34m.\u001b[0m\u001b[0mreader\u001b[0m\u001b[0;34m(\u001b[0m\u001b[0mf\u001b[0m\u001b[0;34m)\u001b[0m\u001b[0;34m\u001b[0m\u001b[0;34m\u001b[0m\u001b[0m\n\u001b[1;32m     10\u001b[0m \u001b[0mdata\u001b[0m \u001b[0;34m=\u001b[0m \u001b[0;34m[\u001b[0m\u001b[0;34m]\u001b[0m\u001b[0;34m\u001b[0m\u001b[0;34m\u001b[0m\u001b[0m\n",
            "\u001b[0;31mFileNotFoundError\u001b[0m: [Errno 2] No such file or directory: ''"
          ]
        }
      ]
    },
    {
      "cell_type": "markdown",
      "metadata": {
        "id": "rPkhaPx3gXmI"
      },
      "source": [
        "With permission from [2] Wiggins et. al., we borrow code to parse the xml. More information about this code can be found here: [Natural Language Processing of Radiology Text Reports: Interactive Text Classification](https://pubs.rsna.org/doi/full/10.1148/ryai.2021210035)\n",
        "\n",
        "The XML file format stores data under various headers which we store as key-value pairs in a python dictionary object.\n",
        "\n",
        "Here we first examine the data stucture of one such xml using an explicit file path. We want to extract the relevant text information from each file. We are interested in the text from the \"FINDINGS\" AND \"IMPRESSION\" keys. In addition, the reports are labeled as normal under the MeSH key - we will use this for labeling the reports as normal (if normal is present under MeSH) or abnormal.\n",
        "\n",
        "If we closely examine the data, there are some oddities. Some entries are multiple xrays together. For example, 875.xml contains text for both CXR and a knee X-ray. Some CXR have no text under FINDINGS and IMPRESSION. For some chest x-ray, there is no label given (\"No Indexing\"). These \"No Indexing\" labels will be considered as normal for this exercise. "
      ]
    },
    {
      "cell_type": "code",
      "metadata": {
        "id": "MIA9a7rckKil"
      },
      "source": [
        "import xmltodict\n",
        "\n",
        "# function from Wiggins et. al.\n",
        "def xml_parse(f):\n",
        "  with open(f) as xml:\n",
        "    report_dict = xmltodict.parse(xml.read())\n",
        "    xml.close()\n",
        "  return report_dict"
      ],
      "execution_count": null,
      "outputs": []
    },
    {
      "cell_type": "markdown",
      "metadata": {
        "id": "GeqrbiKb2R_z"
      },
      "source": [
        "Let's take a look at a random xml file and see the contents after parsing"
      ]
    },
    {
      "cell_type": "code",
      "metadata": {
        "colab": {
          "base_uri": "https://localhost:8080/"
        },
        "id": "vptTTkdh2RbE",
        "outputId": "d3a19523-06c2-4d5e-9648-7a6c362629cd"
      },
      "source": [
        "reportdict_1 = xml_parse(\"./ecgen-radiology/1404.xml\")\n",
        "reportdict_1"
      ],
      "execution_count": null,
      "outputs": [
        {
          "output_type": "execute_result",
          "data": {
            "text/plain": [
              "{'eCitation': {'meta': {'@type': 'rr'},\n",
              "  'uId': {'@id': 'CXR1404'},\n",
              "  'pmcId': {'@id': '1404'},\n",
              "  'docSource': 'CXR',\n",
              "  'IUXRId': {'@id': '1404'},\n",
              "  'licenseType': 'open-access',\n",
              "  'licenseURL': 'http://creativecommons.org/licenses/by-nc-nd/4.0/',\n",
              "  'ccLicense': 'byncnd',\n",
              "  'articleURL': None,\n",
              "  'articleDate': '2013-08-01',\n",
              "  'articleType': 'XR',\n",
              "  'publisher': 'Indiana University',\n",
              "  'title': 'Indiana University Chest X-ray Collection',\n",
              "  'note': 'The data are drawn from multiple hospital systems.',\n",
              "  'specialty': 'pulmonary diseases',\n",
              "  'subset': 'CXR',\n",
              "  'MedlineCitation': {'@Owner': 'Indiana University',\n",
              "   '@Status': 'supplied by publisher',\n",
              "   'Article': {'@PubModel': 'Electronic',\n",
              "    'Journal': {'JournalIssue': {'PubDate': {'Year': '2013',\n",
              "       'Month': '08',\n",
              "       'Day': '01'}}},\n",
              "    'ArticleTitle': 'Indiana University Chest X-ray Collection',\n",
              "    'Abstract': {'AbstractText': [{'@Label': 'COMPARISON', '#text': 'XXXX'},\n",
              "      {'@Label': 'INDICATION',\n",
              "       '#text': 'XXXX year old with chest pain, shortness of breath, hypertension.'},\n",
              "      {'@Label': 'FINDINGS',\n",
              "       '#text': 'No focal lung consolidation. Heart size and pulmonary vascularity are within normal limits. No pneumothorax or pleural effusion. No acute bony abnormalities. There are stable anterior wedge XXXX deformities of 2 midthoracic vertebral bodies.'},\n",
              "      {'@Label': 'IMPRESSION',\n",
              "       '#text': '1. No acute findings. 2. Stable midthoracic vertebral body XXXX fractures.'}]},\n",
              "    'Affiliation': 'Indiana University',\n",
              "    'AuthorList': {'@CompleteYN': 'Y',\n",
              "     'Author': [{'@ValidYN': 'Y',\n",
              "       'LastName': 'Kohli',\n",
              "       'ForeName': 'Marc',\n",
              "       'Initials': 'MD'},\n",
              "      {'@ValidYN': 'Y',\n",
              "       'LastName': 'Rosenman',\n",
              "       'ForeName': 'Marc',\n",
              "       'Initials': 'M'}]},\n",
              "    'Language': 'eng',\n",
              "    'PublicationTypeList': {'PublicationType': 'Radiology Report'},\n",
              "    'ArticleDate': {'Year': '2013', 'Month': '08', 'Day': '01'}},\n",
              "   'EssieArticleTitle': 'Indiana University Chest X-ray Collection',\n",
              "   'IMedAuthor': ['Marc David Kohli MD', 'Marc Rosenman M']},\n",
              "  'MeSH': {'major': ['Deformity/thoracic vertebrae/anterior/multiple',\n",
              "    'Fractures, Bone/Thoracic Vertebrae'],\n",
              "   'automatic': ['deformity', 'fracture', 'Spinal Fractures', 'Spine']},\n",
              "  'parentImage': [{'@id': 'CXR1404_IM-0258-1001',\n",
              "    'figureId': 'F1',\n",
              "    'caption': 'CHEST PA and Lateral on XXXX, XXXX',\n",
              "    'panel': {'@type': 'single',\n",
              "     'url': '/hadoop/storage/radiology/extract/CXR1404_IM-0258-1001.jpg',\n",
              "     'imgModality': '7',\n",
              "     'region': {'@type': 'panel',\n",
              "      'globalImageFeatures': {'CEDD': 'f2p0k680',\n",
              "       'ColorLayout': 'f1p0k26',\n",
              "       'EdgeHistogram': 'f0p0k338',\n",
              "       'FCTH': 'f4p0k369',\n",
              "       'SemanticContext60': 'f3p0k74'}}}},\n",
              "   {'@id': 'CXR1404_IM-0258-2001',\n",
              "    'figureId': 'F2',\n",
              "    'caption': 'CHEST PA and Lateral on XXXX, XXXX',\n",
              "    'panel': {'@type': 'single',\n",
              "     'url': '/hadoop/storage/radiology/extract/CXR1404_IM-0258-2001.jpg',\n",
              "     'imgModality': '7',\n",
              "     'region': {'@type': 'panel',\n",
              "      'globalImageFeatures': {'CEDD': 'f2p0k1637',\n",
              "       'ColorLayout': 'f1p0k25',\n",
              "       'EdgeHistogram': 'f0p0k518',\n",
              "       'FCTH': 'f4p0k1142',\n",
              "       'SemanticContext60': 'f3p0k151'}}}}]}}"
            ]
          },
          "metadata": {},
          "execution_count": 5
        }
      ]
    },
    {
      "cell_type": "markdown",
      "metadata": {
        "id": "kBZb655Tp2qp"
      },
      "source": [
        "\n",
        "The entirety of the of the xml data files were uncompressed into the \"ecgen-radiology\" folder, so we will need to go through each file and extract the relevant information. The [glob](https://docs.python.org/3/library/glob.html) function in the glob module makes this easy by matching all files whose pathname matches a given pattern using [fnmatch](https://docs.python.org/3/library/fnmatch.html#module-fnmatch)\n",
        "\n",
        "Additionally, we will extract relevant information from each xml file and store it into a pandas dataframe (which is basically a table)."
      ]
    },
    {
      "cell_type": "code",
      "metadata": {
        "id": "k-N2UbgWnU8P"
      },
      "source": [
        "# functions from Wiggins et. al. , slightly modified to remove dependence on fastai L class\n",
        "\n",
        "def get_label(report):\n",
        "    label = report['eCitation']['MeSH']['major']\n",
        "    return 'normal' if label == 'normal' or label == \"No Indexing\" else 'abnormal'\n",
        "\n",
        "def get_text(report):\n",
        "    text_dict = {}\n",
        "    text_dict['id'] = report['eCitation']['IUXRId']['@id']\n",
        "    text = report['eCitation']['MedlineCitation']['Article']['Abstract']['AbstractText']\n",
        "    findings = text[2]['#text'] if '#text' in text[2] else ''\n",
        "    text_dict['findings'] = findings\n",
        "    impression = text[3]['#text'] if '#text' in text[3] else ''\n",
        "    text_dict['impression'] = impression\n",
        "    text_dict['full-text'] = ' '.join([findings, impression])\n",
        "    return text_dict\n",
        "\n",
        "def process_report(report):\n",
        "    label = get_label(report)\n",
        "    report_dict = get_text(report)\n",
        "    report_dict['label'] = label\n",
        "    return report_dict\n"
      ],
      "execution_count": null,
      "outputs": []
    },
    {
      "cell_type": "code",
      "metadata": {
        "id": "tLhLsKYJoces"
      },
      "source": [
        "import glob\n",
        "import pandas as pd\n",
        "\n",
        "files = glob.glob(\"./ecgen-radiology/*\")\n",
        "reports = list()\n",
        "reports_unlabeled = list()\n",
        "\n",
        "for file in files:\n",
        "  report_extract = xml_parse(file)\n",
        "  if report_extract['eCitation']['MeSH']['major'] == \"No Indexing\":\n",
        "    reports_unlabeled.append(file)\n",
        "    \n",
        "  reports.append(process_report(report_extract))\n",
        "  \n",
        "reports_df = pd.DataFrame(reports)\n"
      ],
      "execution_count": null,
      "outputs": []
    },
    {
      "cell_type": "markdown",
      "metadata": {
        "id": "p48E2P5r2wMh"
      },
      "source": [
        "Let's examine some of the data in our table\n",
        "\n",
        "The .head() function will return the first n rows (default 5) of the table. The .sample() method will randomly choose n rows of the table to display (default is 1)"
      ]
    },
    {
      "cell_type": "code",
      "metadata": {
        "colab": {
          "base_uri": "https://localhost:8080/",
          "height": 650
        },
        "id": "kpOxPVK1uzHv",
        "outputId": "5cc4619b-ca71-4e8f-a1e0-8799a287afd7"
      },
      "source": [
        "print(\"# of reports:\",reports_df.shape[0])\n",
        "pd.options.display.max_colwidth = 0\n",
        "reports_df.head()"
      ],
      "execution_count": null,
      "outputs": [
        {
          "output_type": "stream",
          "name": "stdout",
          "text": [
            "# of reports: 3955\n"
          ]
        },
        {
          "output_type": "execute_result",
          "data": {
            "text/plain": [
              "     id  \\\n",
              "0  1958   \n",
              "1  3304   \n",
              "2  1593   \n",
              "3  927    \n",
              "4  1071   \n",
              "\n",
              "                                                                                                                                                                                                                                                                  findings  \\\n",
              "0  The lungs are hyperaerated suggestive of chronic obstructive pulmonary disease. No focal lung consolidation. No pleural effusion. No definite pneumothorax. Heart is not enlarged. Postsurgical changes with mediastinal clips and XXXX XXXX.                             \n",
              "1  The cardiomediastinal silhouette is normal size and configuration. Pulmonary vasculature within normal limits. The lungs are well-aerated. There is no pneumothorax, pleural effusion, or focal consolidation. There is levoscoliosis of the thoracic spine.              \n",
              "2  Moderate sized right loculated pleural effusion with right lower lobe atelectasis. Normal cardiac contour with atherosclerotic changes throughout the aorta. Clear left lung XXXX.                                                                                        \n",
              "3  Heart size, mediastinal contour, and pulmonary vascularity are within normal limits. Stable tortuosity of the thoracic aorta. No focal consolidation, pleural effusion, or pneumothorax is identified. No acute osseous abnormality identified.                           \n",
              "4  The heart is normal in size. The pulmonary vascularity is within normal limits in appearance. The patient is mildly rotated. No focal consolidations, pneumothorax or pleural effusions. Mild degenerative changes of the thoracic spine. No acute displaced fractures.   \n",
              "\n",
              "                                                              impression  \\\n",
              "0  COPD. No acute abnormality.                                             \n",
              "1  No acute cardiopulmonary disease. .                                     \n",
              "2  1. Moderate right pleural effusion.                                     \n",
              "3  No acute cardiopulmonary abnormality. .                                 \n",
              "4  No acute cardiopulmonary abnormalities. No acute displaced fractures.   \n",
              "\n",
              "                                                                                                                                                                                                                                                                                                                                       full-text  \\\n",
              "0  The lungs are hyperaerated suggestive of chronic obstructive pulmonary disease. No focal lung consolidation. No pleural effusion. No definite pneumothorax. Heart is not enlarged. Postsurgical changes with mediastinal clips and XXXX XXXX. COPD. No acute abnormality.                                                                       \n",
              "1  The cardiomediastinal silhouette is normal size and configuration. Pulmonary vasculature within normal limits. The lungs are well-aerated. There is no pneumothorax, pleural effusion, or focal consolidation. There is levoscoliosis of the thoracic spine. No acute cardiopulmonary disease. .                                                \n",
              "2  Moderate sized right loculated pleural effusion with right lower lobe atelectasis. Normal cardiac contour with atherosclerotic changes throughout the aorta. Clear left lung XXXX. 1. Moderate right pleural effusion.                                                                                                                          \n",
              "3  Heart size, mediastinal contour, and pulmonary vascularity are within normal limits. Stable tortuosity of the thoracic aorta. No focal consolidation, pleural effusion, or pneumothorax is identified. No acute osseous abnormality identified. No acute cardiopulmonary abnormality. .                                                         \n",
              "4  The heart is normal in size. The pulmonary vascularity is within normal limits in appearance. The patient is mildly rotated. No focal consolidations, pneumothorax or pleural effusions. Mild degenerative changes of the thoracic spine. No acute displaced fractures. No acute cardiopulmonary abnormalities. No acute displaced fractures.   \n",
              "\n",
              "      label  \n",
              "0  abnormal  \n",
              "1  abnormal  \n",
              "2  abnormal  \n",
              "3  abnormal  \n",
              "4  abnormal  "
            ],
            "text/html": [
              "\n",
              "  <div id=\"df-a6fb046e-b2fc-4342-a797-2ca2a7dc6155\">\n",
              "    <div class=\"colab-df-container\">\n",
              "      <div>\n",
              "<style scoped>\n",
              "    .dataframe tbody tr th:only-of-type {\n",
              "        vertical-align: middle;\n",
              "    }\n",
              "\n",
              "    .dataframe tbody tr th {\n",
              "        vertical-align: top;\n",
              "    }\n",
              "\n",
              "    .dataframe thead th {\n",
              "        text-align: right;\n",
              "    }\n",
              "</style>\n",
              "<table border=\"1\" class=\"dataframe\">\n",
              "  <thead>\n",
              "    <tr style=\"text-align: right;\">\n",
              "      <th></th>\n",
              "      <th>id</th>\n",
              "      <th>findings</th>\n",
              "      <th>impression</th>\n",
              "      <th>full-text</th>\n",
              "      <th>label</th>\n",
              "    </tr>\n",
              "  </thead>\n",
              "  <tbody>\n",
              "    <tr>\n",
              "      <th>0</th>\n",
              "      <td>1958</td>\n",
              "      <td>The lungs are hyperaerated suggestive of chronic obstructive pulmonary disease. No focal lung consolidation. No pleural effusion. No definite pneumothorax. Heart is not enlarged. Postsurgical changes with mediastinal clips and XXXX XXXX.</td>\n",
              "      <td>COPD. No acute abnormality.</td>\n",
              "      <td>The lungs are hyperaerated suggestive of chronic obstructive pulmonary disease. No focal lung consolidation. No pleural effusion. No definite pneumothorax. Heart is not enlarged. Postsurgical changes with mediastinal clips and XXXX XXXX. COPD. No acute abnormality.</td>\n",
              "      <td>abnormal</td>\n",
              "    </tr>\n",
              "    <tr>\n",
              "      <th>1</th>\n",
              "      <td>3304</td>\n",
              "      <td>The cardiomediastinal silhouette is normal size and configuration. Pulmonary vasculature within normal limits. The lungs are well-aerated. There is no pneumothorax, pleural effusion, or focal consolidation. There is levoscoliosis of the thoracic spine.</td>\n",
              "      <td>No acute cardiopulmonary disease. .</td>\n",
              "      <td>The cardiomediastinal silhouette is normal size and configuration. Pulmonary vasculature within normal limits. The lungs are well-aerated. There is no pneumothorax, pleural effusion, or focal consolidation. There is levoscoliosis of the thoracic spine. No acute cardiopulmonary disease. .</td>\n",
              "      <td>abnormal</td>\n",
              "    </tr>\n",
              "    <tr>\n",
              "      <th>2</th>\n",
              "      <td>1593</td>\n",
              "      <td>Moderate sized right loculated pleural effusion with right lower lobe atelectasis. Normal cardiac contour with atherosclerotic changes throughout the aorta. Clear left lung XXXX.</td>\n",
              "      <td>1. Moderate right pleural effusion.</td>\n",
              "      <td>Moderate sized right loculated pleural effusion with right lower lobe atelectasis. Normal cardiac contour with atherosclerotic changes throughout the aorta. Clear left lung XXXX. 1. Moderate right pleural effusion.</td>\n",
              "      <td>abnormal</td>\n",
              "    </tr>\n",
              "    <tr>\n",
              "      <th>3</th>\n",
              "      <td>927</td>\n",
              "      <td>Heart size, mediastinal contour, and pulmonary vascularity are within normal limits. Stable tortuosity of the thoracic aorta. No focal consolidation, pleural effusion, or pneumothorax is identified. No acute osseous abnormality identified.</td>\n",
              "      <td>No acute cardiopulmonary abnormality. .</td>\n",
              "      <td>Heart size, mediastinal contour, and pulmonary vascularity are within normal limits. Stable tortuosity of the thoracic aorta. No focal consolidation, pleural effusion, or pneumothorax is identified. No acute osseous abnormality identified. No acute cardiopulmonary abnormality. .</td>\n",
              "      <td>abnormal</td>\n",
              "    </tr>\n",
              "    <tr>\n",
              "      <th>4</th>\n",
              "      <td>1071</td>\n",
              "      <td>The heart is normal in size. The pulmonary vascularity is within normal limits in appearance. The patient is mildly rotated. No focal consolidations, pneumothorax or pleural effusions. Mild degenerative changes of the thoracic spine. No acute displaced fractures.</td>\n",
              "      <td>No acute cardiopulmonary abnormalities. No acute displaced fractures.</td>\n",
              "      <td>The heart is normal in size. The pulmonary vascularity is within normal limits in appearance. The patient is mildly rotated. No focal consolidations, pneumothorax or pleural effusions. Mild degenerative changes of the thoracic spine. No acute displaced fractures. No acute cardiopulmonary abnormalities. No acute displaced fractures.</td>\n",
              "      <td>abnormal</td>\n",
              "    </tr>\n",
              "  </tbody>\n",
              "</table>\n",
              "</div>\n",
              "      <button class=\"colab-df-convert\" onclick=\"convertToInteractive('df-a6fb046e-b2fc-4342-a797-2ca2a7dc6155')\"\n",
              "              title=\"Convert this dataframe to an interactive table.\"\n",
              "              style=\"display:none;\">\n",
              "        \n",
              "  <svg xmlns=\"http://www.w3.org/2000/svg\" height=\"24px\"viewBox=\"0 0 24 24\"\n",
              "       width=\"24px\">\n",
              "    <path d=\"M0 0h24v24H0V0z\" fill=\"none\"/>\n",
              "    <path d=\"M18.56 5.44l.94 2.06.94-2.06 2.06-.94-2.06-.94-.94-2.06-.94 2.06-2.06.94zm-11 1L8.5 8.5l.94-2.06 2.06-.94-2.06-.94L8.5 2.5l-.94 2.06-2.06.94zm10 10l.94 2.06.94-2.06 2.06-.94-2.06-.94-.94-2.06-.94 2.06-2.06.94z\"/><path d=\"M17.41 7.96l-1.37-1.37c-.4-.4-.92-.59-1.43-.59-.52 0-1.04.2-1.43.59L10.3 9.45l-7.72 7.72c-.78.78-.78 2.05 0 2.83L4 21.41c.39.39.9.59 1.41.59.51 0 1.02-.2 1.41-.59l7.78-7.78 2.81-2.81c.8-.78.8-2.07 0-2.86zM5.41 20L4 18.59l7.72-7.72 1.47 1.35L5.41 20z\"/>\n",
              "  </svg>\n",
              "      </button>\n",
              "      \n",
              "  <style>\n",
              "    .colab-df-container {\n",
              "      display:flex;\n",
              "      flex-wrap:wrap;\n",
              "      gap: 12px;\n",
              "    }\n",
              "\n",
              "    .colab-df-convert {\n",
              "      background-color: #E8F0FE;\n",
              "      border: none;\n",
              "      border-radius: 50%;\n",
              "      cursor: pointer;\n",
              "      display: none;\n",
              "      fill: #1967D2;\n",
              "      height: 32px;\n",
              "      padding: 0 0 0 0;\n",
              "      width: 32px;\n",
              "    }\n",
              "\n",
              "    .colab-df-convert:hover {\n",
              "      background-color: #E2EBFA;\n",
              "      box-shadow: 0px 1px 2px rgba(60, 64, 67, 0.3), 0px 1px 3px 1px rgba(60, 64, 67, 0.15);\n",
              "      fill: #174EA6;\n",
              "    }\n",
              "\n",
              "    [theme=dark] .colab-df-convert {\n",
              "      background-color: #3B4455;\n",
              "      fill: #D2E3FC;\n",
              "    }\n",
              "\n",
              "    [theme=dark] .colab-df-convert:hover {\n",
              "      background-color: #434B5C;\n",
              "      box-shadow: 0px 1px 3px 1px rgba(0, 0, 0, 0.15);\n",
              "      filter: drop-shadow(0px 1px 2px rgba(0, 0, 0, 0.3));\n",
              "      fill: #FFFFFF;\n",
              "    }\n",
              "  </style>\n",
              "\n",
              "      <script>\n",
              "        const buttonEl =\n",
              "          document.querySelector('#df-a6fb046e-b2fc-4342-a797-2ca2a7dc6155 button.colab-df-convert');\n",
              "        buttonEl.style.display =\n",
              "          google.colab.kernel.accessAllowed ? 'block' : 'none';\n",
              "\n",
              "        async function convertToInteractive(key) {\n",
              "          const element = document.querySelector('#df-a6fb046e-b2fc-4342-a797-2ca2a7dc6155');\n",
              "          const dataTable =\n",
              "            await google.colab.kernel.invokeFunction('convertToInteractive',\n",
              "                                                     [key], {});\n",
              "          if (!dataTable) return;\n",
              "\n",
              "          const docLinkHtml = 'Like what you see? Visit the ' +\n",
              "            '<a target=\"_blank\" href=https://colab.research.google.com/notebooks/data_table.ipynb>data table notebook</a>'\n",
              "            + ' to learn more about interactive tables.';\n",
              "          element.innerHTML = '';\n",
              "          dataTable['output_type'] = 'display_data';\n",
              "          await google.colab.output.renderOutput(dataTable, element);\n",
              "          const docLink = document.createElement('div');\n",
              "          docLink.innerHTML = docLinkHtml;\n",
              "          element.appendChild(docLink);\n",
              "        }\n",
              "      </script>\n",
              "    </div>\n",
              "  </div>\n",
              "  "
            ]
          },
          "metadata": {},
          "execution_count": 8
        }
      ]
    },
    {
      "cell_type": "code",
      "metadata": {
        "colab": {
          "base_uri": "https://localhost:8080/",
          "height": 597
        },
        "id": "gPf0e-SE9Uwc",
        "outputId": "ceaad88f-8d79-4d02-af89-cde250719a00"
      },
      "source": [
        "reports_df.sample(5)"
      ],
      "execution_count": null,
      "outputs": [
        {
          "output_type": "execute_result",
          "data": {
            "text/plain": [
              "       id  \\\n",
              "991  545    \n",
              "16   401    \n",
              "362  76     \n",
              "314  1235   \n",
              "601  744    \n",
              "\n",
              "                                                                                                                                                                                                                                                                                                                                                                                                                                              findings  \\\n",
              "991  Lung volumes are XXXX. XXXX opacities are present in both lung bases. A hiatal hernia is present. Heart and pulmonary XXXX are normal.                                                                                                                                                                                                                                                                                                              \n",
              "16   Mediastinal contours are normal. Blunting of the left costophrenic XXXX. Increased interstitial opacities.. There is no pneumothorax or large pleural effusion.                                                                                                                                                                                                                                                                                     \n",
              "362  Apparent scarring within the lingula. Lungs are otherwise clear. No pleural effusions or pneumothoraces. Heart and mediastinum of normal size and contour.                                                                                                                                                                                                                                                                                          \n",
              "314  Lung volumes are XXXX. XXXX opacities are present in the angulate. No focal infiltrates. Heart size normal.                                                                                                                                                                                                                                                                                                                                         \n",
              "601  The heart size and pulmonary vascularity appear within normal limits. Left XXXX-a-XXXX is in XXXX. No pleural effusion or pneumothorax is seen. Right upper lobe area of dense opacity is seen in the medial right apex. On a previous outside XXXX scan (XXXX), the right upper lobe was consolidated. Comparison to the XXXX XXXX from that exam shows this opacity to have decreased. No films were available, however, for direct comparison.   \n",
              "\n",
              "                                                                                impression  \\\n",
              "991  Hypoinflation with bibasilar focal atelectasis.                                         \n",
              "16   Diffuse interstitial lung disease with pleural effusion.                                \n",
              "362  Apparent scarring within the lingula, otherwise unremarkable.                           \n",
              "314  Hypoinflation with lingular focal atelectasis.                                          \n",
              "601  1. Right upper lobe opacity which appears improved as compared to previous XXXX scan.   \n",
              "\n",
              "                                                                                                                                                                                                                                                                                                                                                                                                                                                                                                                                   full-text  \\\n",
              "991  Lung volumes are XXXX. XXXX opacities are present in both lung bases. A hiatal hernia is present. Heart and pulmonary XXXX are normal. Hypoinflation with bibasilar focal atelectasis.                                                                                                                                                                                                                                                                                                                                                    \n",
              "16   Mediastinal contours are normal. Blunting of the left costophrenic XXXX. Increased interstitial opacities.. There is no pneumothorax or large pleural effusion. Diffuse interstitial lung disease with pleural effusion.                                                                                                                                                                                                                                                                                                                  \n",
              "362  Apparent scarring within the lingula. Lungs are otherwise clear. No pleural effusions or pneumothoraces. Heart and mediastinum of normal size and contour. Apparent scarring within the lingula, otherwise unremarkable.                                                                                                                                                                                                                                                                                                                  \n",
              "314  Lung volumes are XXXX. XXXX opacities are present in the angulate. No focal infiltrates. Heart size normal. Hypoinflation with lingular focal atelectasis.                                                                                                                                                                                                                                                                                                                                                                                \n",
              "601  The heart size and pulmonary vascularity appear within normal limits. Left XXXX-a-XXXX is in XXXX. No pleural effusion or pneumothorax is seen. Right upper lobe area of dense opacity is seen in the medial right apex. On a previous outside XXXX scan (XXXX), the right upper lobe was consolidated. Comparison to the XXXX XXXX from that exam shows this opacity to have decreased. No films were available, however, for direct comparison. 1. Right upper lobe opacity which appears improved as compared to previous XXXX scan.   \n",
              "\n",
              "        label  \n",
              "991  abnormal  \n",
              "16   abnormal  \n",
              "362  abnormal  \n",
              "314  abnormal  \n",
              "601  abnormal  "
            ],
            "text/html": [
              "\n",
              "  <div id=\"df-f957d9fd-7758-49e3-8bda-805cf29588f1\">\n",
              "    <div class=\"colab-df-container\">\n",
              "      <div>\n",
              "<style scoped>\n",
              "    .dataframe tbody tr th:only-of-type {\n",
              "        vertical-align: middle;\n",
              "    }\n",
              "\n",
              "    .dataframe tbody tr th {\n",
              "        vertical-align: top;\n",
              "    }\n",
              "\n",
              "    .dataframe thead th {\n",
              "        text-align: right;\n",
              "    }\n",
              "</style>\n",
              "<table border=\"1\" class=\"dataframe\">\n",
              "  <thead>\n",
              "    <tr style=\"text-align: right;\">\n",
              "      <th></th>\n",
              "      <th>id</th>\n",
              "      <th>findings</th>\n",
              "      <th>impression</th>\n",
              "      <th>full-text</th>\n",
              "      <th>label</th>\n",
              "    </tr>\n",
              "  </thead>\n",
              "  <tbody>\n",
              "    <tr>\n",
              "      <th>991</th>\n",
              "      <td>545</td>\n",
              "      <td>Lung volumes are XXXX. XXXX opacities are present in both lung bases. A hiatal hernia is present. Heart and pulmonary XXXX are normal.</td>\n",
              "      <td>Hypoinflation with bibasilar focal atelectasis.</td>\n",
              "      <td>Lung volumes are XXXX. XXXX opacities are present in both lung bases. A hiatal hernia is present. Heart and pulmonary XXXX are normal. Hypoinflation with bibasilar focal atelectasis.</td>\n",
              "      <td>abnormal</td>\n",
              "    </tr>\n",
              "    <tr>\n",
              "      <th>16</th>\n",
              "      <td>401</td>\n",
              "      <td>Mediastinal contours are normal. Blunting of the left costophrenic XXXX. Increased interstitial opacities.. There is no pneumothorax or large pleural effusion.</td>\n",
              "      <td>Diffuse interstitial lung disease with pleural effusion.</td>\n",
              "      <td>Mediastinal contours are normal. Blunting of the left costophrenic XXXX. Increased interstitial opacities.. There is no pneumothorax or large pleural effusion. Diffuse interstitial lung disease with pleural effusion.</td>\n",
              "      <td>abnormal</td>\n",
              "    </tr>\n",
              "    <tr>\n",
              "      <th>362</th>\n",
              "      <td>76</td>\n",
              "      <td>Apparent scarring within the lingula. Lungs are otherwise clear. No pleural effusions or pneumothoraces. Heart and mediastinum of normal size and contour.</td>\n",
              "      <td>Apparent scarring within the lingula, otherwise unremarkable.</td>\n",
              "      <td>Apparent scarring within the lingula. Lungs are otherwise clear. No pleural effusions or pneumothoraces. Heart and mediastinum of normal size and contour. Apparent scarring within the lingula, otherwise unremarkable.</td>\n",
              "      <td>abnormal</td>\n",
              "    </tr>\n",
              "    <tr>\n",
              "      <th>314</th>\n",
              "      <td>1235</td>\n",
              "      <td>Lung volumes are XXXX. XXXX opacities are present in the angulate. No focal infiltrates. Heart size normal.</td>\n",
              "      <td>Hypoinflation with lingular focal atelectasis.</td>\n",
              "      <td>Lung volumes are XXXX. XXXX opacities are present in the angulate. No focal infiltrates. Heart size normal. Hypoinflation with lingular focal atelectasis.</td>\n",
              "      <td>abnormal</td>\n",
              "    </tr>\n",
              "    <tr>\n",
              "      <th>601</th>\n",
              "      <td>744</td>\n",
              "      <td>The heart size and pulmonary vascularity appear within normal limits. Left XXXX-a-XXXX is in XXXX. No pleural effusion or pneumothorax is seen. Right upper lobe area of dense opacity is seen in the medial right apex. On a previous outside XXXX scan (XXXX), the right upper lobe was consolidated. Comparison to the XXXX XXXX from that exam shows this opacity to have decreased. No films were available, however, for direct comparison.</td>\n",
              "      <td>1. Right upper lobe opacity which appears improved as compared to previous XXXX scan.</td>\n",
              "      <td>The heart size and pulmonary vascularity appear within normal limits. Left XXXX-a-XXXX is in XXXX. No pleural effusion or pneumothorax is seen. Right upper lobe area of dense opacity is seen in the medial right apex. On a previous outside XXXX scan (XXXX), the right upper lobe was consolidated. Comparison to the XXXX XXXX from that exam shows this opacity to have decreased. No films were available, however, for direct comparison. 1. Right upper lobe opacity which appears improved as compared to previous XXXX scan.</td>\n",
              "      <td>abnormal</td>\n",
              "    </tr>\n",
              "  </tbody>\n",
              "</table>\n",
              "</div>\n",
              "      <button class=\"colab-df-convert\" onclick=\"convertToInteractive('df-f957d9fd-7758-49e3-8bda-805cf29588f1')\"\n",
              "              title=\"Convert this dataframe to an interactive table.\"\n",
              "              style=\"display:none;\">\n",
              "        \n",
              "  <svg xmlns=\"http://www.w3.org/2000/svg\" height=\"24px\"viewBox=\"0 0 24 24\"\n",
              "       width=\"24px\">\n",
              "    <path d=\"M0 0h24v24H0V0z\" fill=\"none\"/>\n",
              "    <path d=\"M18.56 5.44l.94 2.06.94-2.06 2.06-.94-2.06-.94-.94-2.06-.94 2.06-2.06.94zm-11 1L8.5 8.5l.94-2.06 2.06-.94-2.06-.94L8.5 2.5l-.94 2.06-2.06.94zm10 10l.94 2.06.94-2.06 2.06-.94-2.06-.94-.94-2.06-.94 2.06-2.06.94z\"/><path d=\"M17.41 7.96l-1.37-1.37c-.4-.4-.92-.59-1.43-.59-.52 0-1.04.2-1.43.59L10.3 9.45l-7.72 7.72c-.78.78-.78 2.05 0 2.83L4 21.41c.39.39.9.59 1.41.59.51 0 1.02-.2 1.41-.59l7.78-7.78 2.81-2.81c.8-.78.8-2.07 0-2.86zM5.41 20L4 18.59l7.72-7.72 1.47 1.35L5.41 20z\"/>\n",
              "  </svg>\n",
              "      </button>\n",
              "      \n",
              "  <style>\n",
              "    .colab-df-container {\n",
              "      display:flex;\n",
              "      flex-wrap:wrap;\n",
              "      gap: 12px;\n",
              "    }\n",
              "\n",
              "    .colab-df-convert {\n",
              "      background-color: #E8F0FE;\n",
              "      border: none;\n",
              "      border-radius: 50%;\n",
              "      cursor: pointer;\n",
              "      display: none;\n",
              "      fill: #1967D2;\n",
              "      height: 32px;\n",
              "      padding: 0 0 0 0;\n",
              "      width: 32px;\n",
              "    }\n",
              "\n",
              "    .colab-df-convert:hover {\n",
              "      background-color: #E2EBFA;\n",
              "      box-shadow: 0px 1px 2px rgba(60, 64, 67, 0.3), 0px 1px 3px 1px rgba(60, 64, 67, 0.15);\n",
              "      fill: #174EA6;\n",
              "    }\n",
              "\n",
              "    [theme=dark] .colab-df-convert {\n",
              "      background-color: #3B4455;\n",
              "      fill: #D2E3FC;\n",
              "    }\n",
              "\n",
              "    [theme=dark] .colab-df-convert:hover {\n",
              "      background-color: #434B5C;\n",
              "      box-shadow: 0px 1px 3px 1px rgba(0, 0, 0, 0.15);\n",
              "      filter: drop-shadow(0px 1px 2px rgba(0, 0, 0, 0.3));\n",
              "      fill: #FFFFFF;\n",
              "    }\n",
              "  </style>\n",
              "\n",
              "      <script>\n",
              "        const buttonEl =\n",
              "          document.querySelector('#df-f957d9fd-7758-49e3-8bda-805cf29588f1 button.colab-df-convert');\n",
              "        buttonEl.style.display =\n",
              "          google.colab.kernel.accessAllowed ? 'block' : 'none';\n",
              "\n",
              "        async function convertToInteractive(key) {\n",
              "          const element = document.querySelector('#df-f957d9fd-7758-49e3-8bda-805cf29588f1');\n",
              "          const dataTable =\n",
              "            await google.colab.kernel.invokeFunction('convertToInteractive',\n",
              "                                                     [key], {});\n",
              "          if (!dataTable) return;\n",
              "\n",
              "          const docLinkHtml = 'Like what you see? Visit the ' +\n",
              "            '<a target=\"_blank\" href=https://colab.research.google.com/notebooks/data_table.ipynb>data table notebook</a>'\n",
              "            + ' to learn more about interactive tables.';\n",
              "          element.innerHTML = '';\n",
              "          dataTable['output_type'] = 'display_data';\n",
              "          await google.colab.output.renderOutput(dataTable, element);\n",
              "          const docLink = document.createElement('div');\n",
              "          docLink.innerHTML = docLinkHtml;\n",
              "          element.appendChild(docLink);\n",
              "        }\n",
              "      </script>\n",
              "    </div>\n",
              "  </div>\n",
              "  "
            ]
          },
          "metadata": {},
          "execution_count": 9
        }
      ]
    },
    {
      "cell_type": "markdown",
      "metadata": {
        "id": "L7TwCTMm9cqB"
      },
      "source": [
        "# Some characteristics of the data\n",
        "\n",
        "We previously already noticed that not all reports had labels associated with them and kept track of a list of such reports in reports_unlabeled. Through further examination of the data we see that some reports (e.g. id 68) only have an impression section but no findings section. THere are also numerous XXXX in reports which likely represent placeholder text after PHI removal (names, dates, etc). Even for normal labeled reports, there is quite a large amount of variation in the text of the reports."
      ]
    },
    {
      "cell_type": "markdown",
      "metadata": {
        "id": "IrbIaKT--Vvs"
      },
      "source": [
        "## Distribution of labels\n",
        "\n",
        "For any data, it is important to examine the distribution of classes (labels) of the data. Imbalanced datasets can have large impacts in terms of how a model behaves after training. "
      ]
    },
    {
      "cell_type": "code",
      "metadata": {
        "colab": {
          "base_uri": "https://localhost:8080/",
          "height": 536
        },
        "id": "GZSWHhOu-ci0",
        "outputId": "c98c9e17-9eed-4d37-b191-521356bd392a"
      },
      "source": [
        "# code from Wiggins et. al.\n",
        "\n",
        "label_counts = reports_df.label.value_counts()\n",
        "print('Abnormal:', label_counts['abnormal'])\n",
        "print('Normal:', label_counts['normal'])\n",
        "print()\n",
        "label_counts.plot.bar();"
      ],
      "execution_count": null,
      "outputs": [
        {
          "output_type": "stream",
          "name": "stdout",
          "text": [
            "Abnormal: 2469\n",
            "Normal: 1486\n",
            "\n"
          ]
        },
        {
          "output_type": "display_data",
          "data": {
            "text/plain": [
              "<Figure size 640x480 with 1 Axes>"
            ],
            "image/png": "[encoded data removed]"
          },
          "metadata": {}
        }
      ]
    },
    {
      "cell_type": "markdown",
      "metadata": {
        "id": "2gkDEelM-2he"
      },
      "source": [
        "# Training and test set split\n",
        "\n",
        "We will carve the data into two separate data sets - a training set to train the model and a test set to evaluate the model performance. It is necessary to use a separate dataset on which the model is not trained to evaluate the model because models can overfit onto training data and perform very well on that particular dataset but fail to generalize to examples it has not seen before.\n",
        "\n",
        "Similarly, a third validation set is sometimes employed as part of the model development process for hyperparameter tuning which is  part of the training process.\n",
        "\n",
        "For simplicity, we will use a single stratified train-test split, but a cross-validation approach with multiple train-test splits can offer better insight into how a model performs.\n",
        "\n",
        "The stratification refers to how the sampling is done when the data is split into separate data sets. This is important when there is class imbalance in the dataset because you could conceivably end up with one dataset only having members of one class. \n",
        "\n",
        "The stratify option in the train_test_split function takes the labels of the dataset as input. When this option is enabled, the sampler will attempt to preserve class proportions of the input dataset (aka the input dataset labels) in the split datasets via stratified sampling. Note this does not solve the class imbalance problem on its own."
      ]
    },
    {
      "cell_type": "code",
      "metadata": {
        "id": "lGzyqyLg-1fY"
      },
      "source": [
        "import numpy as np\n",
        "from sklearn.model_selection import train_test_split\n",
        "\n",
        "# fix seed for reproducibility\n",
        "np.random.seed(2021)\n",
        "\n",
        "train_df, test_df = train_test_split(reports_df, test_size=0.15, stratify=reports_df.label.values)"
      ],
      "execution_count": null,
      "outputs": []
    },
    {
      "cell_type": "markdown",
      "metadata": {
        "id": "G1UzvyxVF_f0"
      },
      "source": [
        "If we examine the dataset labels of the test set, we can see that we have similar proportions of abnormal and normal labels compared to the original full dataset (approx 62% abnormal)"
      ]
    },
    {
      "cell_type": "code",
      "metadata": {
        "colab": {
          "base_uri": "https://localhost:8080/",
          "height": 553
        },
        "id": "6sXQ7JaPCGCB",
        "outputId": "5f0e247f-0ed0-4480-bc49-80ee9d48eeec"
      },
      "source": [
        "# code from Wiggins et. al.\n",
        "\n",
        "print('Test set size:', test_df.shape[0])\n",
        "test_counts = test_df.label.value_counts()\n",
        "print('Abnormal:', test_counts['abnormal'])\n",
        "print('Normal:', test_counts['normal'])\n",
        "print()\n",
        "test_counts.plot.bar();"
      ],
      "execution_count": null,
      "outputs": [
        {
          "output_type": "stream",
          "name": "stdout",
          "text": [
            "Test set size: 594\n",
            "Abnormal: 371\n",
            "Normal: 223\n",
            "\n"
          ]
        },
        {
          "output_type": "display_data",
          "data": {
            "text/plain": [
              "<Figure size 640x480 with 1 Axes>"
            ],
            "image/png": "[encoded data removed]"
          },
          "metadata": {}
        }
      ]
    },
    {
      "cell_type": "markdown",
      "metadata": {
        "id": "AT-jzMJb2ivw"
      },
      "source": [
        "# Preprocessing\n",
        "\n",
        "Most models will not understand a stream of free text as is. Before we can use our data as input into a model, we need to convert it into a form that can be understood by an algorithm. Often this is done by creating a \"vocabulary\" of words such that every unique word has a unique index and thus we can input a word's index as input into a model (or use the index to look up some numerical representation of the word).\n",
        "\n",
        "The following sections will examine pieces of a preprocessing pipeline in isolation using independent sections of code but then put these pieces together as one function at the end."
      ]
    },
    {
      "cell_type": "markdown",
      "metadata": {
        "id": "6ngfIeq-ep7-"
      },
      "source": [
        "## Regular expressions (regex)\n",
        "The data used in this tutorial was already nicely packaged into distinct Findings and Impression sections. Most of the time when working with radiology reports you'll have to divide the report into these separate entities yourself. One way to do this is with regular expressions which are rule based expressions that can match patterns of text. Regular expressions can be a powerful way to automatically segment reports or identify sections of text if pre-existing knowledge about their format is known.\n",
        "\n",
        "[Cheat sheet](http://stanford.edu/~wpmarble/webscraping_tutorial/regex_cheatsheet.pdf) for regex syntax\n",
        "\n",
        "We will not extensively cover regular expression nuances in this tutorial but just show a simple example of how they are used with respect to the Python re package. Regular expressions are a general framework thus you may also see packages outside of the re package which interface with regular expressions.\n",
        "\n",
        "More about regular expressions can be found [here](https://www.regular-expressions.info/refflavors.html).\n"
      ]
    },
    {
      "cell_type": "code",
      "metadata": {
        "id": "wvgJFJX-uRZJ",
        "colab": {
          "base_uri": "https://localhost:8080/"
        },
        "outputId": "6849c0fd-af5f-4bec-e6fd-30a4763e2c32"
      },
      "source": [
        "#@title\n",
        "import re\n",
        "\n",
        "regex_test_string = \"\"\"\n",
        "123-456-7890\n",
        "(123)456-7890\n",
        "(123)-456-7890\n",
        "123 456 7890\n",
        "123.456.7890\n",
        "+1-123-456-7890\n",
        "+1 (321) 456-7890\n",
        "+91 123-456-7890\n",
        "\"\"\"\n",
        "\n",
        "regex_pattern = \"\\+?(\\d{1,3})?[-. (]?[-. (]?(\\d{3})[-. )]?[-. )]?\\d{3}[-. ]?\\d{4}\"#@param {type:\"string\"}\n",
        "m = re.finditer(regex_pattern,regex_test_string)\n",
        "\n",
        "for match in m:\n",
        "  print(match.group())\n",
        "  print(f\"Area code is {match.group(2)}\\n\")"
      ],
      "execution_count": null,
      "outputs": [
        {
          "output_type": "stream",
          "name": "stdout",
          "text": [
            "123-456-7890\n",
            "Area code is 123\n",
            "\n",
            "(123)456-7890\n",
            "Area code is 123\n",
            "\n",
            "(123)-456-7890\n",
            "Area code is 123\n",
            "\n",
            "123 456 7890\n",
            "Area code is 123\n",
            "\n",
            "123.456.7890\n",
            "Area code is 123\n",
            "\n",
            "+1-123-456-7890\n",
            "Area code is 123\n",
            "\n",
            "+1 (321) 456-7890\n",
            "Area code is 321\n",
            "\n",
            "+91 123-456-7890\n",
            "Area code is 123\n",
            "\n"
          ]
        }
      ]
    },
    {
      "cell_type": "markdown",
      "metadata": {
        "id": "Z2kgbwY9T82E"
      },
      "source": [
        "Note by default regex does greedy matching\n",
        "Greedy matching - match as much as text as possible to fulfill the pattern even if a smaller subsection of the text would have already fulfilled the pattern.\n",
        "\n",
        "In the following example we look for a string that begins with \"h\", has at least one character of anything except line breaks, and then an \"l\".\n",
        "\n",
        "If our test string is \"hello\" , then the substring \"hel\" matches our objective but so does \"hell\" if we go one character further. The default behavior is to return the longer version (hence greedy). If we wanted the non-greedy version, adding a \"?\" after a quantifier makes it non-greedy."
      ]
    },
    {
      "cell_type": "code",
      "metadata": {
        "colab": {
          "base_uri": "https://localhost:8080/"
        },
        "id": "Qys-4is5T76_",
        "outputId": "2610ee6a-aa6e-4ea6-e3b6-084c95c45700"
      },
      "source": [
        "#@title\n",
        "regex_pattern = \"h.+l\"\n",
        "m = re.finditer(regex_pattern,\"hello\")\n",
        "for match in m:\n",
        "  print(match.group())"
      ],
      "execution_count": null,
      "outputs": [
        {
          "output_type": "stream",
          "name": "stdout",
          "text": [
            "hell\n"
          ]
        }
      ]
    },
    {
      "cell_type": "code",
      "metadata": {
        "colab": {
          "base_uri": "https://localhost:8080/"
        },
        "id": "a7CnEewdUKJf",
        "outputId": "18c5efa1-9636-4724-d0fd-593db359d800"
      },
      "source": [
        "#@title\n",
        "regex_pattern = \"h.+?l\"\n",
        "m = re.finditer(regex_pattern,\"hello\")\n",
        "for match in m:\n",
        "  print(match.group())"
      ],
      "execution_count": null,
      "outputs": [
        {
          "output_type": "stream",
          "name": "stdout",
          "text": [
            "hel\n"
          ]
        }
      ]
    },
    {
      "cell_type": "markdown",
      "metadata": {
        "id": "NXLQtF-d2eYv"
      },
      "source": [
        "## Word Tokenization\n",
        "\n",
        "The first step in processing text is often tokenization. This is a process in which text is split into discrete sections which are known as tokens. A natural place to create these sections (for English) is dividing at spaces so that each word represents a token. However, tokens could also be defined at a phrase level (multiple words), sentence level, or character level. For simplicity here, we will tokenize at the single word level."
      ]
    },
    {
      "cell_type": "code",
      "metadata": {
        "id": "zelqyCW7HHZE",
        "colab": {
          "base_uri": "https://localhost:8080/"
        },
        "outputId": "17a94b2a-0a35-4eba-aa57-322dd6c2f93d"
      },
      "source": [
        "import nltk\n",
        "nltk.download('punkt')\n",
        "text = \"Heart size upper limits of normal. Mediastinal contours are maintained. The patient is mildly rotated. There is a small to moderate sized right apical pneumothorax which measures approximately 2.0 cm. No focal airspace consolidation is seen. Left chest is clear. No definite displaced bony injury is seen. Results called XXXX. XXXX XXXX p.m. XXXX, XXXX. Small to moderate right apical pneumothorax.\"\n",
        "text_tokens = nltk.tokenize.word_tokenize(text)\n",
        "print(text_tokens)"
      ],
      "execution_count": null,
      "outputs": [
        {
          "output_type": "stream",
          "name": "stderr",
          "text": [
            "[nltk_data] Downloading package punkt to /root/nltk_data...\n",
            "[nltk_data]   Unzipping tokenizers/punkt.zip.\n"
          ]
        },
        {
          "output_type": "stream",
          "name": "stdout",
          "text": [
            "['Heart', 'size', 'upper', 'limits', 'of', 'normal', '.', 'Mediastinal', 'contours', 'are', 'maintained', '.', 'The', 'patient', 'is', 'mildly', 'rotated', '.', 'There', 'is', 'a', 'small', 'to', 'moderate', 'sized', 'right', 'apical', 'pneumothorax', 'which', 'measures', 'approximately', '2.0', 'cm', '.', 'No', 'focal', 'airspace', 'consolidation', 'is', 'seen', '.', 'Left', 'chest', 'is', 'clear', '.', 'No', 'definite', 'displaced', 'bony', 'injury', 'is', 'seen', '.', 'Results', 'called', 'XXXX', '.', 'XXXX', 'XXXX', 'p.m.', 'XXXX', ',', 'XXXX', '.', 'Small', 'to', 'moderate', 'right', 'apical', 'pneumothorax', '.']\n"
          ]
        }
      ]
    },
    {
      "cell_type": "markdown",
      "metadata": {
        "id": "o4fhncsA205b"
      },
      "source": [
        "## Stopword removal\n",
        "\n",
        "Stop words are high-frequeny words in language that tend to appear in any context due to their grammatical role (e.g. \"a\", \"the\", \"of\"). They generally do not contain much information, so it is customary to remove these words as part of the prprocessing step. In general this works well, but phrases that rely on stopwords can lose meaning (e.g. \"to be or not to be\"). \n",
        "\n",
        "In this case, XXXX should be removed as well.\n",
        "\n",
        "Removal of stopwords is as simple as defining a set of words that you want to remove and then removing these words by scanning through input text and filtering out words that are within the set.\n"
      ]
    },
    {
      "cell_type": "code",
      "metadata": {
        "id": "c1hZAWWsHMpg",
        "colab": {
          "base_uri": "https://localhost:8080/"
        },
        "outputId": "33f6449e-6da6-493c-cfa0-cea2600f7314"
      },
      "source": [
        "import nltk\n",
        "nltk.download('stopwords')\n",
        "from nltk.corpus import stopwords\n",
        "print(stopwords.words('english'))"
      ],
      "execution_count": null,
      "outputs": [
        {
          "output_type": "stream",
          "name": "stdout",
          "text": [
            "['i', 'me', 'my', 'myself', 'we', 'our', 'ours', 'ourselves', 'you', \"you're\", \"you've\", \"you'll\", \"you'd\", 'your', 'yours', 'yourself', 'yourselves', 'he', 'him', 'his', 'himself', 'she', \"she's\", 'her', 'hers', 'herself', 'it', \"it's\", 'its', 'itself', 'they', 'them', 'their', 'theirs', 'themselves', 'what', 'which', 'who', 'whom', 'this', 'that', \"that'll\", 'these', 'those', 'am', 'is', 'are', 'was', 'were', 'be', 'been', 'being', 'have', 'has', 'had', 'having', 'do', 'does', 'did', 'doing', 'a', 'an', 'the', 'and', 'but', 'if', 'or', 'because', 'as', 'until', 'while', 'of', 'at', 'by', 'for', 'with', 'about', 'against', 'between', 'into', 'through', 'during', 'before', 'after', 'above', 'below', 'to', 'from', 'up', 'down', 'in', 'out', 'on', 'off', 'over', 'under', 'again', 'further', 'then', 'once', 'here', 'there', 'when', 'where', 'why', 'how', 'all', 'any', 'both', 'each', 'few', 'more', 'most', 'other', 'some', 'such', 'no', 'nor', 'not', 'only', 'own', 'same', 'so', 'than', 'too', 'very', 's', 't', 'can', 'will', 'just', 'don', \"don't\", 'should', \"should've\", 'now', 'd', 'll', 'm', 'o', 're', 've', 'y', 'ain', 'aren', \"aren't\", 'couldn', \"couldn't\", 'didn', \"didn't\", 'doesn', \"doesn't\", 'hadn', \"hadn't\", 'hasn', \"hasn't\", 'haven', \"haven't\", 'isn', \"isn't\", 'ma', 'mightn', \"mightn't\", 'mustn', \"mustn't\", 'needn', \"needn't\", 'shan', \"shan't\", 'shouldn', \"shouldn't\", 'wasn', \"wasn't\", 'weren', \"weren't\", 'won', \"won't\", 'wouldn', \"wouldn't\"]\n"
          ]
        },
        {
          "output_type": "stream",
          "name": "stderr",
          "text": [
            "[nltk_data] Downloading package stopwords to /root/nltk_data...\n",
            "[nltk_data]   Unzipping corpora/stopwords.zip.\n"
          ]
        }
      ]
    },
    {
      "cell_type": "markdown",
      "metadata": {
        "id": "gkTIN1FPRUbw"
      },
      "source": [
        "The imported stopwords exist originally as a list structure, but we should convert to a set for better performance. We can also add custom words to expand this set. Notice our set of stopwords is also all lower case. We will lowercase our tokens prior to matching to the stopword set.\n",
        "\n",
        "In addition to stopwords, numbers are often removed as well (e.g. list numberings) but in the context of radiology these numbers can be very important (e.g. size of a lung nodule)."
      ]
    },
    {
      "cell_type": "code",
      "metadata": {
        "colab": {
          "base_uri": "https://localhost:8080/"
        },
        "id": "j28XvnypRTSq",
        "outputId": "59b53f03-71e8-45fa-e954-b92ad9d0c965"
      },
      "source": [
        "import string\n",
        "stop = set(stopwords.words('english')+list(string.punctuation))\n",
        "stop.add(\"xxxx\")\n",
        "\n",
        "filtered_tokens = [i.lower() for i in text_tokens if i.lower() not in stop ]\n",
        "print(filtered_tokens)"
      ],
      "execution_count": null,
      "outputs": [
        {
          "output_type": "stream",
          "name": "stdout",
          "text": [
            "['heart', 'size', 'upper', 'limits', 'normal', 'mediastinal', 'contours', 'maintained', 'patient', 'mildly', 'rotated', 'small', 'moderate', 'sized', 'right', 'apical', 'pneumothorax', 'measures', 'approximately', '2.0', 'cm', 'focal', 'airspace', 'consolidation', 'seen', 'left', 'chest', 'clear', 'definite', 'displaced', 'bony', 'injury', 'seen', 'results', 'called', 'p.m.', 'small', 'moderate', 'right', 'apical', 'pneumothorax']\n"
          ]
        }
      ]
    },
    {
      "cell_type": "markdown",
      "metadata": {
        "id": "iqPsXyKZ2bf7"
      },
      "source": [
        "## Word normalization - stemming and lemmatization\n",
        "\n",
        "Word (or text) normalization is reducing text to a standardized form before processing. One way to do this is word stemming and/or lemmatization. In word stemming, the suffix of a word is removed, often leaving behind a stem that is not a full word. In lemmatization, words are transformed into a base word. For example, it is common to remove verb conjugations to reduce different forms of a verb to a single word/token - transforming flying, flown, flew -> fly. \n",
        "\n",
        "We will introduce the concept here, but it will not be included within the preprocessing pipeline. Medical stemming is a difficult topic due to many words sharing roots while still having different meanings (e.g. pneumonia, pneumonitis, pneumonic, pneumothorax). Most available stemming packages are not designed for medical stemming and could introduce problems by truncating useful parts of words (\"over stemming\"). \n",
        "\n",
        "In addition to stemming/lemmatizing words which are based on word roots, one can normalize words by mapping words to a controlled vocabulary. This is especially useful in medicine where a number of terms could refer to the same entity (e.g. hepatorenal recess vs subhepatic recess vs pouch of Morison vs Morison's pouch). Examples of efforts to create standardized medical vocabulary include [UMLS](https://www.nlm.nih.gov/research/umls/index.html), [SNOMED-CT](https://www.nlm.nih.gov/healthit/snomedct/index.html), and [RadLex](http://radlex.org/)"
      ]
    },
    {
      "cell_type": "code",
      "metadata": {
        "id": "l3f1ZJUlLRB3",
        "colab": {
          "base_uri": "https://localhost:8080/"
        },
        "outputId": "b639a6ec-969a-4082-f9b8-a632eba06134"
      },
      "source": [
        "import nltk\n",
        "nltk.download(\"wordnet\")\n",
        "from nltk.stem import WordNetLemmatizer\n",
        "from nltk.stem.porter import PorterStemmer"
      ],
      "execution_count": null,
      "outputs": [
        {
          "output_type": "stream",
          "name": "stderr",
          "text": [
            "[nltk_data] Downloading package wordnet to /root/nltk_data...\n"
          ]
        }
      ]
    },
    {
      "cell_type": "markdown",
      "metadata": {
        "id": "umebJGsHLX5w"
      },
      "source": [
        "The [Porter Stemmer](http://snowball.tartarus.org/algorithms/porter/stemmer.html) is a commonly used stemmer which uses an extensive rule based approach to stem words. The stems generated by stemming may not be \"real\" words which is ok as the point is to normalize similar words into the same token."
      ]
    },
    {
      "cell_type": "code",
      "metadata": {
        "colab": {
          "base_uri": "https://localhost:8080/",
          "height": 35
        },
        "id": "wzAepJ9VJMG7",
        "outputId": "364baf01-bb18-4073-bd19-bd918210dae7"
      },
      "source": [
        "stemmer = PorterStemmer()\n",
        "stemmer.stem(\"flying\")"
      ],
      "execution_count": null,
      "outputs": [
        {
          "output_type": "execute_result",
          "data": {
            "text/plain": [
              "'fli'"
            ],
            "application/vnd.google.colaboratory.intrinsic+json": {
              "type": "string"
            }
          },
          "metadata": {},
          "execution_count": 20
        }
      ]
    },
    {
      "cell_type": "code",
      "metadata": {
        "colab": {
          "base_uri": "https://localhost:8080/"
        },
        "id": "Er980_PYKNId",
        "outputId": "7c08d4ec-a092-42bd-bca1-7484890f47dd"
      },
      "source": [
        "print(stemmer.stem(\"pneumonic\"))\n",
        "print(stemmer.stem(\"pneumonitis\"))"
      ],
      "execution_count": null,
      "outputs": [
        {
          "output_type": "stream",
          "name": "stdout",
          "text": [
            "pneumon\n",
            "pneumon\n"
          ]
        }
      ]
    },
    {
      "cell_type": "markdown",
      "metadata": {
        "id": "cXckjAH3KlxY"
      },
      "source": [
        "For lemmatization demonstration, we will use the NLTK default lemmatizer which is based on [WordNet](https://wordnet.princeton.edu/). In addition to the target text, the [lemmatizer](https://www.nltk.org/_modules/nltk/stem/wordnet.html) will generally require a part of speech parameter to be fully functional (default is noun)"
      ]
    },
    {
      "cell_type": "code",
      "metadata": {
        "colab": {
          "base_uri": "https://localhost:8080/"
        },
        "id": "3eSFqvCmJwy1",
        "outputId": "05065bd1-3986-4af4-fbd9-fa6dbc356ff4"
      },
      "source": [
        "lemmatizer = WordNetLemmatizer()\n",
        "print(lemmatizer.lemmatize(\"flown\",pos=\"v\"))"
      ],
      "execution_count": null,
      "outputs": [
        {
          "output_type": "stream",
          "name": "stdout",
          "text": [
            "fly\n"
          ]
        }
      ]
    },
    {
      "cell_type": "markdown",
      "metadata": {
        "id": "3y_nsmWpHeas"
      },
      "source": [
        "## Negation"
      ]
    },
    {
      "cell_type": "markdown",
      "metadata": {
        "id": "LhvODUGKYSa3"
      },
      "source": [
        "Dealing with negation is important especially when using a bag of word model because it ignores word ordering. The presence of a word in a document does not mean we necessarily want it to always be used as the same feature especially if the word is qualified by \"no\" (e.g. no nodule). One way to deal with this is to detect such negated words/phrases and create \"new\" vocab words out of negated entities by appending some text to it (for example append \"NEGEX_\" to negated entities so that these entities are counted as separated words compared to their non-negated counterpart)\n",
        "\n",
        "spacy comes with pre-trained [models](https://github.com/explosion/spacy-models) for purposes of preprocessing (e.g. named entity recognition) and also [negation](https://github.com/jenojp/negspacy). Here we will use a default implementation of negspacy for negation detection."
      ]
    },
    {
      "cell_type": "code",
      "metadata": {
        "id": "y_WKbR3ywkXO",
        "colab": {
          "base_uri": "https://localhost:8080/"
        },
        "outputId": "f4b670da-67cf-46f5-f943-54942ce44397"
      },
      "source": [
        "import scispacy\n",
        "import spacy\n",
        "from negspacy.negation import Negex\n",
        "import nltk\n",
        "nltk.download('stopwords')\n",
        "nltk.download('punkt')\n",
        "import string\n",
        "\n",
        "nlp = spacy.load(\"en_core_sci_md\")\n",
        "nlp.add_pipe(\"negex\")"
      ],
      "execution_count": null,
      "outputs": [
        {
          "output_type": "stream",
          "name": "stderr",
          "text": [
            "[nltk_data] Downloading package stopwords to /root/nltk_data...\n",
            "[nltk_data]   Package stopwords is already up-to-date!\n",
            "[nltk_data] Downloading package punkt to /root/nltk_data...\n",
            "[nltk_data]   Package punkt is already up-to-date!\n"
          ]
        },
        {
          "output_type": "execute_result",
          "data": {
            "text/plain": [
              "<negspacy.negation.Negex at 0x7f47f716aa60>"
            ]
          },
          "metadata": {},
          "execution_count": 25
        }
      ]
    },
    {
      "cell_type": "markdown",
      "metadata": {
        "id": "kIuHzg8sstac"
      },
      "source": [
        "What kind of phrases is negex recognizing as negation? We can print the default patterns from negspaCy to see. The \"en_clinical\" dataset is used by default. Default termsets also include \"en\" and \"en_clinical_sensitive\". The official documentation covers how to change term sets and also how to add/remove custom phrases to the sets.\n",
        "\n",
        "From the documentation, negspaCy uses four patterns:\n",
        "\n",
        "**pseudo_negations** - phrases that are false triggers, ambiguous negations, or double negatives\n",
        "\n",
        "**preceding_negations** - negation phrases that precede an entity\n",
        "\n",
        "**following_negations** - negation phrases that follow an entity\n",
        "\n",
        "**termination** - phrases that cut a sentence in parts, for purposes of negation detection (.e.g., \"but\")"
      ]
    },
    {
      "cell_type": "code",
      "metadata": {
        "colab": {
          "base_uri": "https://localhost:8080/"
        },
        "id": "zl3g4Djkr2Be",
        "outputId": "ee7a695f-402c-4ee9-a5e0-2b38be2509cc"
      },
      "source": [
        "from negspacy.termsets import termset\n",
        "\n",
        "ts = termset(\"en_clinical\")\n",
        "ts_dict = ts.get_patterns()\n",
        "\n",
        "for key,value in ts_dict.items():\n",
        "  print(key,value)\n",
        "  print(\"\\n\")"
      ],
      "execution_count": null,
      "outputs": [
        {
          "output_type": "stream",
          "name": "stdout",
          "text": [
            "pseudo_negations ['no further', 'not able to be', 'not certain if', 'not certain whether', 'not necessarily', 'without any further', 'without difficulty', 'without further', 'might not', 'not only', 'no increase', 'no significant change', 'no change', 'no definite change', 'not extend', 'not cause', 'gram negative', 'not rule out', 'not ruled out', 'not been ruled out', 'not drain', 'no suspicious change', 'no interval change', 'no significant interval change']\n",
            "\n",
            "\n",
            "preceding_negations ['absence of', 'declined', 'denied', 'denies', 'denying', 'no sign of', 'no signs of', 'not', 'not demonstrate', 'symptoms atypical', 'doubt', 'negative for', 'no', 'versus', 'without', \"doesn't\", 'doesnt', \"don't\", 'dont', \"didn't\", 'didnt', \"wasn't\", 'wasnt', \"weren't\", 'werent', \"isn't\", 'isnt', \"aren't\", 'arent', 'cannot', \"can't\", 'cant', \"couldn't\", 'couldnt', 'never', 'patient was not', 'without indication of', 'without sign of', 'without signs of', 'without any reactions or signs of', 'no complaints of', 'no evidence of', 'no cause of', 'evaluate for', 'fails to reveal', 'free of', 'never developed', 'never had', 'did not exhibit', 'rules out', 'rule out', 'rule him out', 'rule her out', 'rule patient out', 'rule the patient out', 'ruled out', 'ruled him out', 'ruled her out', 'ruled patient out', 'ruled the patient out', 'r/o', 'ro']\n",
            "\n",
            "\n",
            "following_negations ['declined', 'unlikely', 'was not', 'were not', \"wasn't\", 'wasnt', \"weren't\", 'werent', 'was ruled out', 'were ruled out', 'free']\n",
            "\n",
            "\n",
            "termination ['although', 'apart from', 'as there are', 'aside from', 'but', 'except', 'however', 'involving', 'nevertheless', 'still', 'though', 'which', 'yet', 'cause for', 'cause of', 'causes for', 'causes of', 'etiology for', 'etiology of', 'origin for', 'origin of', 'origins for', 'origins of', 'other possibilities of', 'reason for', 'reason of', 'reasons for', 'reasons of', 'secondary to', 'source for', 'source of', 'sources for', 'sources of', 'trigger event for']\n",
            "\n",
            "\n"
          ]
        }
      ]
    },
    {
      "cell_type": "markdown",
      "metadata": {
        "id": "AqDHio7AFHw9"
      },
      "source": [
        "## Putting it all together"
      ]
    },
    {
      "cell_type": "code",
      "metadata": {
        "id": "0OH7aKTxmylY"
      },
      "source": [
        "from nltk.corpus import stopwords\n",
        "\n",
        "def preprocess(nlp_model,input_text):\n",
        "  input_text = input_text.strip()\n",
        "  doc = nlp_model(input_text)\n",
        "  negation_list = [0]*len(doc)\n",
        "  tokens = list()\n",
        "  stop = set(stopwords.words('english')+list(string.punctuation))\n",
        "  stop.add(\"XXXX\")\n",
        "\n",
        "  for ent in doc.ents:\n",
        "    if ent._.negex:\n",
        "      index = ent.start\n",
        "      while index < ent.end:\n",
        "        negation_list[index] = 1\n",
        "        index += 1\n",
        "        \n",
        "  for i,token in enumerate(doc):\n",
        "    if str(token).lower() not in stop:\n",
        "      if negation_list[i] == 1:\n",
        "        tokens.append((\"NEGEX_\"+str(token).lower()))\n",
        "      else:\n",
        "        tokens.append(str(token).lower())\n",
        "\n",
        "  return tokens\n"
      ],
      "execution_count": null,
      "outputs": []
    },
    {
      "cell_type": "code",
      "source": [
        "#could use this to be more efficient and save time:\n",
        "\n",
        "#Instead of adding stopwords and punctuation to a set every time the function is \n",
        "#called, we can create the set once and pass it as an argument to the function \n",
        "#to save computation time.\n",
        "\n",
        "#We can use list comprehension to generate the tokens list instead of using a \n",
        "#for loop and an if-else statement. List comprehension is generally faster \n",
        "#and more concise than a for loop.\n",
        "\n",
        "stop = set(stopwords.words('english')+list(string.punctuation))\n",
        "stop.add(\"XXXX\")\n",
        "\n",
        "def preprocess(nlp_model, input_text, stop):\n",
        "    input_text = input_text.strip()\n",
        "    doc = nlp_model(input_text)\n",
        "    negation_list = [0] * len(doc)\n",
        "\n",
        "    for ent in doc.ents:\n",
        "        if ent._.negex:\n",
        "            index = ent.start\n",
        "            while index < ent.end:\n",
        "                negation_list[index] = 1\n",
        "                index += 1\n",
        "\n",
        "    tokens = [(\"NEGEX_\" + str(token).lower()) if negation_list[i] == 1 else str(token).lower()\n",
        "              for i, token in enumerate(doc) if str(token).lower() not in stop]\n",
        "\n",
        "    return tokens\n"
      ],
      "metadata": {
        "id": "ky0Ph5zqCcJc"
      },
      "execution_count": null,
      "outputs": []
    },
    {
      "cell_type": "markdown",
      "metadata": {
        "id": "bggt3sfZeYJg"
      },
      "source": [
        "## Creating a vocabulary\n",
        "After preprocessing the text, it is time to scan through the entire training corpus (aka all of the text available) and create a vocabulary which is essentially an index of all tokens encountered.\n",
        "\n",
        "We will use the gensim [Dictionary](https://radimrehurek.com/gensim/corpora/dictionary.html) class for this as it has some useful methods.\n",
        "\n",
        "We can also set a threshold to filter out tokens using the gensim dict method filter_extremes() that occur below a specified frequency. This could be useful for removing misspelled words."
      ]
    },
    {
      "cell_type": "code",
      "metadata": {
        "id": "2LqwYpEjXDjs",
        "colab": {
          "base_uri": "https://localhost:8080/",
          "height": 35
        },
        "outputId": "ba16a795-b0ae-447a-af4d-761def1714ab"
      },
      "source": [
        "from gensim.corpora import Dictionary\n",
        "\n",
        "train_text = train_df[\"full-text\"].to_list()\n",
        "\n",
        "def token_generator(text_list):\n",
        "  for text in text_list:\n",
        "    yield preprocess(nlp,text, stop)\n",
        "\n",
        "train_tokens = token_generator(train_text)\n",
        "train_vocab_dict = Dictionary(train_tokens)\n",
        "\n",
        "# gensim Dictionary does not create an id2token dictionary  until dictionary is called\n",
        "train_vocab_dict[0]"
      ],
      "execution_count": null,
      "outputs": [
        {
          "output_type": "execute_result",
          "data": {
            "text/plain": [
              "'NEGEX_effusion'"
            ],
            "application/vnd.google.colaboratory.intrinsic+json": {
              "type": "string"
            }
          },
          "metadata": {},
          "execution_count": 78
        }
      ]
    },
    {
      "cell_type": "code",
      "source": [
        "#using the modified preprocess function\n",
        "\n",
        "from gensim.corpora import Dictionary\n",
        "\n",
        "train_text = train_df[\"full-text\"].to_list()\n",
        "\n",
        "def token_generator(text_list):\n",
        "  for text in text_list:\n",
        "    yield preprocess(nlp, text, stop)\n",
        "\n",
        "train_tokens = token_generator(train_text)\n",
        "train_vocab_dict = Dictionary(train_tokens)\n",
        "\n",
        "# gensim Dictionary does not create an id2token dictionary  until dictionary is called\n",
        "train_vocab_dict[0]"
      ],
      "metadata": {
        "colab": {
          "base_uri": "https://localhost:8080/",
          "height": 35
        },
        "id": "se9qewvZO5h8",
        "outputId": "446f5796-f8fc-4d45-b683-922d1582e917"
      },
      "execution_count": null,
      "outputs": [
        {
          "output_type": "execute_result",
          "data": {
            "text/plain": [
              "'NEGEX_abnormality'"
            ],
            "application/vnd.google.colaboratory.intrinsic+json": {
              "type": "string"
            }
          },
          "metadata": {},
          "execution_count": 29
        }
      ]
    },
    {
      "cell_type": "code",
      "metadata": {
        "colab": {
          "base_uri": "https://localhost:8080/"
        },
        "id": "SKHBh7yKcw0N",
        "outputId": "c93eeee5-8f2c-4b61-d793-cb8513436097"
      },
      "source": [
        "len(train_vocab_dict.token2id)"
      ],
      "execution_count": null,
      "outputs": [
        {
          "output_type": "execute_result",
          "data": {
            "text/plain": [
              "2319"
            ]
          },
          "metadata": {},
          "execution_count": 30
        }
      ]
    },
    {
      "cell_type": "markdown",
      "metadata": {
        "id": "V2tEqwONfclV"
      },
      "source": [
        "We will also need to process the test set for later use. Note we don't create a dictionary from the test tokens as it is may contain \"out of vocabulary words\" that would not have been seen in training. We need to simulate how our model pipeline behaves when it encounters unseen text/words."
      ]
    },
    {
      "cell_type": "code",
      "metadata": {
        "id": "0FSV_cs2fU9d"
      },
      "source": [
        "test_text = test_df[\"full-text\"].to_list()\n",
        "test_tokens = token_generator(test_text)"
      ],
      "execution_count": null,
      "outputs": []
    },
    {
      "cell_type": "markdown",
      "metadata": {
        "id": "Nx0MthQ91wAh"
      },
      "source": [
        "# Classification model - introducing Naive Bayes"
      ]
    },
    {
      "cell_type": "markdown",
      "metadata": {
        "id": "ZS3gRR_Y2Cd8"
      },
      "source": [
        "## Theory"
      ]
    },
    {
      "cell_type": "markdown",
      "metadata": {
        "id": "V_zv9jPL3SW7"
      },
      "source": [
        "Naive Bayes (NB) derives its name from Bayes' theorem.\n",
        "\n",
        "Our objective is to classifiy a document d with the best possible class prediction, $\\hat{c}$, where $c$ is the true class of document $d$\n",
        "\n",
        "$ \\hat{c} = \\underset{c \\in C}{argmax} \\: P(c|d) = \\underset{c \\in C}{argmax} \\frac{P(d|c)P(c)}{P(d)} $\n",
        "\n",
        "$P(d)$ is a constant so we can just find the class c that maximizes the numerator of the expression\n",
        "\n",
        "$ \\hat{c} = \\underset{c \\in C}{argmax} \\: P(d|c)P(c) $\n",
        "\n",
        "$P(c)$ is readily determined - it is the frequency of class c in the training set.\n",
        "\n",
        "For $P(d|c)$, we let the words (tokens) of document d be the features that define it. We assume the order of these features does not matter (bag of words) and that the probability of a feature occurring in document d is independent of other words already inside of document d (conditional independence between every pair of tokens).\n",
        "\n",
        "Based on this $P(d|c) = P(x_{1}, x_{2},...,x_{n}| c)$ where $x_i$ are the tokens x in d. If we assume independence among these words then this probability further breaks down into:\n",
        "\n",
        "$\\prod_{i = 1}^{n}{P(x_{i}|c)}$\n",
        "\n",
        "The different variations of Naive Bayes come from the different assumptions of what we assume the probability distribution of $P(x_{i}|c)$ looks like. \n",
        "\n",
        "If we assume a multinomial distribution, then we can estimate the probability $P(x_{i}|c)$ as $\\theta_{c,i}$ where the maximum likelihood estimator for theta for a multinomial is:\n",
        "\n",
        "$\\theta_{c,i} = \\frac{N_{c,i}}{N_{c}}$\n",
        "\n",
        "where $N_{c,i}$ is the total count of the token i occurring in class c and $N_{c}$ is the number of total tokens in class c. In practice, we use an additional smoothing term to this estimator by giving an extra count of $\\alpha$ to all words. This is to account for cases in which a token does not appear in class c to avoid a 0 in our product.\n",
        "\n",
        "$\\theta_{c,i} = \\frac{N_{c,i}+\\alpha}{N_{c}+\\alpha n}$ where n is the number of unique tokens\n",
        "\n",
        "See [here](https://scikit-learn.org/stable/modules/naive_bayes.html) for more information"
      ]
    },
    {
      "cell_type": "markdown",
      "metadata": {
        "id": "STdw1x_E16bC"
      },
      "source": [
        "## Code"
      ]
    },
    {
      "cell_type": "code",
      "metadata": {
        "id": "zW90rq3WeHj5"
      },
      "source": [
        "y_train = list(map(int,(train_df['label'] != \"normal\").to_list()))\n",
        "y_test = list(map(int,(test_df['label'] != \"normal\").to_list()))"
      ],
      "execution_count": null,
      "outputs": []
    },
    {
      "cell_type": "markdown",
      "metadata": {
        "id": "C2QWpczbsgpU"
      },
      "source": [
        "The sklearn naive bayes implementation does not take compressed representations of a sparse matrix as input, so we will have to create a sparse vector representation of our bag of words format"
      ]
    },
    {
      "cell_type": "code",
      "metadata": {
        "id": "zQ0q-IfaesbM"
      },
      "source": [
        "def sparse_vector_create(tuple_list,vocab_len):\n",
        "#tuple_list will have data structure akin to gensim dictionary doc2bow output \n",
        "  sparse_vector = np.zeros(vocab_len)\n",
        "  for id,freq in tuple_list:\n",
        "    sparse_vector[id] = freq\n",
        "  return sparse_vector\n",
        "\n",
        "def sparse_vector_generator(tokens,vocab_dict,vocab_len):\n",
        "  for token in tokens:\n",
        "    yield sparse_vector_create(vocab_dict.doc2bow(token),vocab_len)\n",
        "\n",
        "# recreate generator object to reset it , otherwise will output empty result\n",
        "train_tokens = token_generator(train_text)\n",
        "x_train_sparse = [sparse_vector for sparse_vector in sparse_vector_generator(train_tokens,train_vocab_dict,len(train_vocab_dict))]\n"
      ],
      "execution_count": null,
      "outputs": []
    },
    {
      "cell_type": "code",
      "metadata": {
        "colab": {
          "base_uri": "https://localhost:8080/",
          "height": 75
        },
        "id": "R2wfh_v1dxA_",
        "outputId": "8c6829af-137c-4947-e8ff-59e23eb8b18e"
      },
      "source": [
        "from sklearn import naive_bayes\n",
        "\n",
        "nb_classifier = naive_bayes.MultinomialNB(alpha=1.0)\n",
        "\n",
        "nb_classifier.fit(x_train_sparse,y_train)"
      ],
      "execution_count": null,
      "outputs": [
        {
          "output_type": "execute_result",
          "data": {
            "text/plain": [
              "MultinomialNB()"
            ],
            "text/html": [
              "<style>#sk-container-id-1 {color: black;background-color: white;}#sk-container-id-1 pre{padding: 0;}#sk-container-id-1 div.sk-toggleable {background-color: white;}#sk-container-id-1 label.sk-toggleable__label {cursor: pointer;display: block;width: 100%;margin-bottom: 0;padding: 0.3em;box-sizing: border-box;text-align: center;}#sk-container-id-1 label.sk-toggleable__label-arrow:before {content: \"▸\";float: left;margin-right: 0.25em;color: #696969;}#sk-container-id-1 label.sk-toggleable__label-arrow:hover:before {color: black;}#sk-container-id-1 div.sk-estimator:hover label.sk-toggleable__label-arrow:before {color: black;}#sk-container-id-1 div.sk-toggleable__content {max-height: 0;max-width: 0;overflow: hidden;text-align: left;background-color: #f0f8ff;}#sk-container-id-1 div.sk-toggleable__content pre {margin: 0.2em;color: black;border-radius: 0.25em;background-color: #f0f8ff;}#sk-container-id-1 input.sk-toggleable__control:checked~div.sk-toggleable__content {max-height: 200px;max-width: 100%;overflow: auto;}#sk-container-id-1 input.sk-toggleable__control:checked~label.sk-toggleable__label-arrow:before {content: \"▾\";}#sk-container-id-1 div.sk-estimator input.sk-toggleable__control:checked~label.sk-toggleable__label {background-color: #d4ebff;}#sk-container-id-1 div.sk-label input.sk-toggleable__control:checked~label.sk-toggleable__label {background-color: #d4ebff;}#sk-container-id-1 input.sk-hidden--visually {border: 0;clip: rect(1px 1px 1px 1px);clip: rect(1px, 1px, 1px, 1px);height: 1px;margin: -1px;overflow: hidden;padding: 0;position: absolute;width: 1px;}#sk-container-id-1 div.sk-estimator {font-family: monospace;background-color: #f0f8ff;border: 1px dotted black;border-radius: 0.25em;box-sizing: border-box;margin-bottom: 0.5em;}#sk-container-id-1 div.sk-estimator:hover {background-color: #d4ebff;}#sk-container-id-1 div.sk-parallel-item::after {content: \"\";width: 100%;border-bottom: 1px solid gray;flex-grow: 1;}#sk-container-id-1 div.sk-label:hover label.sk-toggleable__label {background-color: #d4ebff;}#sk-container-id-1 div.sk-serial::before {content: \"\";position: absolute;border-left: 1px solid gray;box-sizing: border-box;top: 0;bottom: 0;left: 50%;z-index: 0;}#sk-container-id-1 div.sk-serial {display: flex;flex-direction: column;align-items: center;background-color: white;padding-right: 0.2em;padding-left: 0.2em;position: relative;}#sk-container-id-1 div.sk-item {position: relative;z-index: 1;}#sk-container-id-1 div.sk-parallel {display: flex;align-items: stretch;justify-content: center;background-color: white;position: relative;}#sk-container-id-1 div.sk-item::before, #sk-container-id-1 div.sk-parallel-item::before {content: \"\";position: absolute;border-left: 1px solid gray;box-sizing: border-box;top: 0;bottom: 0;left: 50%;z-index: -1;}#sk-container-id-1 div.sk-parallel-item {display: flex;flex-direction: column;z-index: 1;position: relative;background-color: white;}#sk-container-id-1 div.sk-parallel-item:first-child::after {align-self: flex-end;width: 50%;}#sk-container-id-1 div.sk-parallel-item:last-child::after {align-self: flex-start;width: 50%;}#sk-container-id-1 div.sk-parallel-item:only-child::after {width: 0;}#sk-container-id-1 div.sk-dashed-wrapped {border: 1px dashed gray;margin: 0 0.4em 0.5em 0.4em;box-sizing: border-box;padding-bottom: 0.4em;background-color: white;}#sk-container-id-1 div.sk-label label {font-family: monospace;font-weight: bold;display: inline-block;line-height: 1.2em;}#sk-container-id-1 div.sk-label-container {text-align: center;}#sk-container-id-1 div.sk-container {/* jupyter's `normalize.less` sets `[hidden] { display: none; }` but bootstrap.min.css set `[hidden] { display: none !important; }` so we also need the `!important` here to be able to override the default hidden behavior on the sphinx rendered scikit-learn.org. See: https://github.com/scikit-learn/scikit-learn/issues/21755 */display: inline-block !important;position: relative;}#sk-container-id-1 div.sk-text-repr-fallback {display: none;}</style><div id=\"sk-container-id-1\" class=\"sk-top-container\"><div class=\"sk-text-repr-fallback\"><pre>MultinomialNB()</pre><b>In a Jupyter environment, please rerun this cell to show the HTML representation or trust the notebook. <br />On GitHub, the HTML representation is unable to render, please try loading this page with nbviewer.org.</b></div><div class=\"sk-container\" hidden><div class=\"sk-item\"><div class=\"sk-estimator sk-toggleable\"><input class=\"sk-toggleable__control sk-hidden--visually\" id=\"sk-estimator-id-1\" type=\"checkbox\" checked><label for=\"sk-estimator-id-1\" class=\"sk-toggleable__label sk-toggleable__label-arrow\">MultinomialNB</label><div class=\"sk-toggleable__content\"><pre>MultinomialNB()</pre></div></div></div></div></div>"
            ]
          },
          "metadata": {},
          "execution_count": 34
        }
      ]
    },
    {
      "cell_type": "markdown",
      "metadata": {
        "id": "1rYR3aLUs0Vk"
      },
      "source": [
        "Let's try running our model on the test set. The test set may have words that are not included in the training vocabulary, so we will need 1 additional preprocessing step to handle such out-of-vocabulary words. The simplest approach is to simply ignore such words. The gensim dictionary doc2bow function automatically ignores out of vocabulary words.\n",
        "\n",
        "Other tokenization techniques (especially sub-word or character level) may avoid this issue all together by ensuring any string of text encontered is able to be tokenized and thus included into the vocabulary."
      ]
    },
    {
      "cell_type": "code",
      "metadata": {
        "colab": {
          "base_uri": "https://localhost:8080/"
        },
        "id": "tL5JHCiVh8E_",
        "outputId": "31f9e320-6e81-47de-8875-c05ca67c410a"
      },
      "source": [
        "# doc2bow ignores out of vocabulary words\n",
        "train_vocab_dict.doc2bow([\"madeupword\"])"
      ],
      "execution_count": null,
      "outputs": [
        {
          "output_type": "execute_result",
          "data": {
            "text/plain": [
              "[]"
            ]
          },
          "metadata": {},
          "execution_count": 35
        }
      ]
    },
    {
      "cell_type": "code",
      "metadata": {
        "id": "ZUywn0YpszSh"
      },
      "source": [
        "# basically the same code as the training version above but we're not storing each iteration of the for loop into an array\n",
        "\n",
        "test_tokens = token_generator(test_text)\n",
        "nb_predictions = list()\n",
        "\n",
        "for token in test_tokens:\n",
        "  test_sparse_vector = sparse_vector_create(train_vocab_dict.doc2bow(token),len(train_vocab_dict))\n",
        "  nb_predictions.append(nb_classifier.predict(test_sparse_vector.reshape(1,-1))[0])\n",
        " "
      ],
      "execution_count": null,
      "outputs": []
    },
    {
      "cell_type": "markdown",
      "metadata": {
        "id": "J16it1OP_ydm"
      },
      "source": [
        "# More on sparse word vectors - term frequency inverse document frequency (tf-idf)"
      ]
    },
    {
      "cell_type": "markdown",
      "metadata": {
        "id": "JfjWcj7SAnJR"
      },
      "source": [
        "## Theory"
      ]
    },
    {
      "cell_type": "markdown",
      "metadata": {
        "id": "tn0jAUfHW5ZU"
      },
      "source": [
        "### tfidf\n",
        "\n",
        "Earlier we created vectors of raw term counts with respect to each document. These were called sparse vectors because they were largely 0 as many unique words tend to not show up in may documents and thus the counts of those words was 0 for most documents - represented as a 0 in the term vector in the corresponding index for that word.\n",
        "\n",
        "There is a related concept called term frequency-inverse document frequency. We start with related quantity to term count: the term frequency. For a given document d and term t, the term frequency(tf) is is $\\frac{f_{t,d}}{\\sum_{t' \\in d}{f_{t',d}}}$ where the denominator is just the number of words/terms in the document. Sometimes we prefer using the log of the tf term as importance of a term does not increase linearly but rather \"peaks\" after a certain point.\n",
        "\n",
        "We then multiply this \"tf\" by another term - the inverse document frequency (idf) which is usually $log{\\frac{N}{n_t}}$ where N is number of total documents and $n_t$ is number of documents that contain the term t.\n",
        "\n",
        "For an unseen document, the tf is readily calculated. The idf for the terms in the document however uses the weighting learned from the training data.\n",
        "\n",
        "More on sklearn [tfidf](https://scikit-learn.org/stable/modules/generated/sklearn.feature_extraction.text.TfidfTransformer.html)"
      ]
    },
    {
      "cell_type": "markdown",
      "metadata": {
        "id": "NmC0HOIUeHL8"
      },
      "source": [
        "### Support Vector Machine (SVM)\n",
        "\n"
      ]
    },
    {
      "cell_type": "markdown",
      "metadata": {
        "id": "SAcgfh9Dcqjk"
      },
      "source": [
        "The theory behind SVM is outside of the scope of this tutorial. However intuitively SVM classifiers classify data by finding a \"hyper-plane\" that separates two classes of data. One can think of a hyper plane as the multidimensional generalization of a line which the equivalent of a hyperplane for 2D space, or a plane which is the hyperplane for 3D space. The hyperplane is basically a linear \"plane\" in N dimensional space that separates the space into two sections (hence the plane being N-1 dimensional). The optimization objective for SVM is set such that it will choose a hyperplane by finding the plane that has the maximum \"margin\" between the two classes i.e. the largest distance between the plane and the closest data point of each class."
      ]
    },
    {
      "cell_type": "markdown",
      "metadata": {
        "id": "ECqSWs6q_0oV"
      },
      "source": [
        "## Code"
      ]
    },
    {
      "cell_type": "markdown",
      "metadata": {
        "id": "LJkXCj8t52UZ"
      },
      "source": [
        "The sklearn library readily comes with implementation of [tfidf](https://scikit-learn.org/stable/modules/generated/sklearn.feature_extraction.text.TfidfTransformer.html) and [SVM](https://scikit-learn.org/stable/modules/generated/sklearn.svm.SVC.html) which we will use here."
      ]
    },
    {
      "cell_type": "code",
      "metadata": {
        "id": "QgD87-CM7TQ9"
      },
      "source": [
        "from sklearn.feature_extraction.text import TfidfTransformer\n",
        "tfidf = TfidfTransformer(use_idf=True, smooth_idf = True,sublinear_tf = True)\n",
        "tfidf.fit(x_train_sparse)\n",
        "x_train_tfidf= tfidf.transform(x_train_sparse)"
      ],
      "execution_count": null,
      "outputs": []
    },
    {
      "cell_type": "code",
      "metadata": {
        "colab": {
          "base_uri": "https://localhost:8080/",
          "height": 75
        },
        "id": "d2YjvOT4EJOX",
        "outputId": "897d3f10-cc76-44ed-c794-510a055fc287"
      },
      "source": [
        "from sklearn import svm\n",
        "\n",
        "SVM = svm.SVC(C=1.0,kernel ='linear')\n",
        "SVM.fit(x_train_tfidf,y_train)"
      ],
      "execution_count": null,
      "outputs": [
        {
          "output_type": "execute_result",
          "data": {
            "text/plain": [
              "SVC(kernel='linear')"
            ],
            "text/html": [
              "<style>#sk-container-id-2 {color: black;background-color: white;}#sk-container-id-2 pre{padding: 0;}#sk-container-id-2 div.sk-toggleable {background-color: white;}#sk-container-id-2 label.sk-toggleable__label {cursor: pointer;display: block;width: 100%;margin-bottom: 0;padding: 0.3em;box-sizing: border-box;text-align: center;}#sk-container-id-2 label.sk-toggleable__label-arrow:before {content: \"▸\";float: left;margin-right: 0.25em;color: #696969;}#sk-container-id-2 label.sk-toggleable__label-arrow:hover:before {color: black;}#sk-container-id-2 div.sk-estimator:hover label.sk-toggleable__label-arrow:before {color: black;}#sk-container-id-2 div.sk-toggleable__content {max-height: 0;max-width: 0;overflow: hidden;text-align: left;background-color: #f0f8ff;}#sk-container-id-2 div.sk-toggleable__content pre {margin: 0.2em;color: black;border-radius: 0.25em;background-color: #f0f8ff;}#sk-container-id-2 input.sk-toggleable__control:checked~div.sk-toggleable__content {max-height: 200px;max-width: 100%;overflow: auto;}#sk-container-id-2 input.sk-toggleable__control:checked~label.sk-toggleable__label-arrow:before {content: \"▾\";}#sk-container-id-2 div.sk-estimator input.sk-toggleable__control:checked~label.sk-toggleable__label {background-color: #d4ebff;}#sk-container-id-2 div.sk-label input.sk-toggleable__control:checked~label.sk-toggleable__label {background-color: #d4ebff;}#sk-container-id-2 input.sk-hidden--visually {border: 0;clip: rect(1px 1px 1px 1px);clip: rect(1px, 1px, 1px, 1px);height: 1px;margin: -1px;overflow: hidden;padding: 0;position: absolute;width: 1px;}#sk-container-id-2 div.sk-estimator {font-family: monospace;background-color: #f0f8ff;border: 1px dotted black;border-radius: 0.25em;box-sizing: border-box;margin-bottom: 0.5em;}#sk-container-id-2 div.sk-estimator:hover {background-color: #d4ebff;}#sk-container-id-2 div.sk-parallel-item::after {content: \"\";width: 100%;border-bottom: 1px solid gray;flex-grow: 1;}#sk-container-id-2 div.sk-label:hover label.sk-toggleable__label {background-color: #d4ebff;}#sk-container-id-2 div.sk-serial::before {content: \"\";position: absolute;border-left: 1px solid gray;box-sizing: border-box;top: 0;bottom: 0;left: 50%;z-index: 0;}#sk-container-id-2 div.sk-serial {display: flex;flex-direction: column;align-items: center;background-color: white;padding-right: 0.2em;padding-left: 0.2em;position: relative;}#sk-container-id-2 div.sk-item {position: relative;z-index: 1;}#sk-container-id-2 div.sk-parallel {display: flex;align-items: stretch;justify-content: center;background-color: white;position: relative;}#sk-container-id-2 div.sk-item::before, #sk-container-id-2 div.sk-parallel-item::before {content: \"\";position: absolute;border-left: 1px solid gray;box-sizing: border-box;top: 0;bottom: 0;left: 50%;z-index: -1;}#sk-container-id-2 div.sk-parallel-item {display: flex;flex-direction: column;z-index: 1;position: relative;background-color: white;}#sk-container-id-2 div.sk-parallel-item:first-child::after {align-self: flex-end;width: 50%;}#sk-container-id-2 div.sk-parallel-item:last-child::after {align-self: flex-start;width: 50%;}#sk-container-id-2 div.sk-parallel-item:only-child::after {width: 0;}#sk-container-id-2 div.sk-dashed-wrapped {border: 1px dashed gray;margin: 0 0.4em 0.5em 0.4em;box-sizing: border-box;padding-bottom: 0.4em;background-color: white;}#sk-container-id-2 div.sk-label label {font-family: monospace;font-weight: bold;display: inline-block;line-height: 1.2em;}#sk-container-id-2 div.sk-label-container {text-align: center;}#sk-container-id-2 div.sk-container {/* jupyter's `normalize.less` sets `[hidden] { display: none; }` but bootstrap.min.css set `[hidden] { display: none !important; }` so we also need the `!important` here to be able to override the default hidden behavior on the sphinx rendered scikit-learn.org. See: https://github.com/scikit-learn/scikit-learn/issues/21755 */display: inline-block !important;position: relative;}#sk-container-id-2 div.sk-text-repr-fallback {display: none;}</style><div id=\"sk-container-id-2\" class=\"sk-top-container\"><div class=\"sk-text-repr-fallback\"><pre>SVC(kernel=&#x27;linear&#x27;)</pre><b>In a Jupyter environment, please rerun this cell to show the HTML representation or trust the notebook. <br />On GitHub, the HTML representation is unable to render, please try loading this page with nbviewer.org.</b></div><div class=\"sk-container\" hidden><div class=\"sk-item\"><div class=\"sk-estimator sk-toggleable\"><input class=\"sk-toggleable__control sk-hidden--visually\" id=\"sk-estimator-id-2\" type=\"checkbox\" checked><label for=\"sk-estimator-id-2\" class=\"sk-toggleable__label sk-toggleable__label-arrow\">SVC</label><div class=\"sk-toggleable__content\"><pre>SVC(kernel=&#x27;linear&#x27;)</pre></div></div></div></div></div>"
            ]
          },
          "metadata": {},
          "execution_count": 38
        }
      ]
    },
    {
      "cell_type": "code",
      "metadata": {
        "id": "9DV7LL9xIFkB"
      },
      "source": [
        "test_tokens = token_generator(test_text)\n",
        "svm_predictions = list()\n",
        "\n",
        "for token in test_tokens:\n",
        "  test_sparse_vector = sparse_vector_create(train_vocab_dict.doc2bow(token),len(train_vocab_dict))\n",
        "  x_test_tfidf = tfidf.transform(test_sparse_vector.reshape(1,-1))\n",
        "  svm_predictions.append(SVM.predict(x_test_tfidf)[0])\n",
        "  "
      ],
      "execution_count": null,
      "outputs": []
    },
    {
      "cell_type": "markdown",
      "metadata": {
        "id": "UZ3gwLdk3XQD"
      },
      "source": [
        "# Where to next?\n",
        "So far we have only examined sparse word vectors. That is, vector representations of words that contain many 0's and sparsely contain data. This may perform adequately for the models presented, but for many cases, working with large-dimension vectors can be a large problem due to high memory usage and computational cost.\n",
        "\n",
        "There has been work done to create dense vectors of words based on \"distributed\" representations (aka based on word distribution). These vectors are are usually only several tens to hundreds of dimensions long as opposed to many thousands. Earlier approaches for doing so include Word2vec and GloVe which create static vectors for word representations. Newer embedding approaches integrate context into embedding creation such as seen in ELMo or BERT's embedding process. \n",
        "\n",
        "Popular deep learning architectures for analyzing text include convolutional neural networks, recurrent neural networks and its cousins LSTM and GRU as well as the more recent transformer model. Deep learning approaches to NLP start with converting words into a vector in an embedding layer, often using one of the aforementioned techniques. We will not explore deep learning approaches to NLP in this tutorial, but since we have mentioned a number of popular NLP packages, we will also mention [HuggingFace](https://huggingface.co/) for their extensive NLP deep learning library. "
      ]
    },
    {
      "cell_type": "markdown",
      "metadata": {
        "id": "kJxrGbD62U26"
      },
      "source": [
        "# Evaluation\n",
        "\n",
        "Evaluation of model performance is a very important part of the NLP pipeline. Common metrics (for classification) include sensitivity (recall), specificity, positive predictive value (precision), and the F1 score. These quantities can be derived from a \"confusion matrix\" which is simply a matrix that tabulates model classification results into the categories of true negatives, false positives, false negatives, and true positives.\n",
        "\n",
        "For sklearn confusion matrix, the format is - row i is actual class, row j is predicted class. For our case, 0 - normal, 1 - abnormal. thus $C_{0,0}$ is true negatives, $C_{0,1}$ is false positive, $C_{1,0}$ is false negative, $C_{1,1}$ is true positives where $C_{i,j}$ refers to element in row i and column j. In this example, a \"positive\" label by the model is the equivalent of flagging an example as \"abnormal\".\n",
        "\n",
        "Note we cannot naturally generate a ROC curve for Naive Bayes or SVM as ROC curves require some threshold (usually some \"probability\" cut off for prediction of one class or another) but Naive Bayes simply compares two(or more) quantities with each other to determine class. While using relative comparisons works reasonably well, the numerical value of these outputs is unstable and unsuitable for a fixed cutoff."
      ]
    },
    {
      "cell_type": "code",
      "metadata": {
        "colab": {
          "base_uri": "https://localhost:8080/"
        },
        "id": "qO3zQ04dnziV",
        "outputId": "d7c9057f-4c8f-40bf-ae24-e321456dc869"
      },
      "source": [
        "from sklearn import metrics\n",
        "\n",
        "class metric_calc:\n",
        "  def __init__(self, y,y_hat):\n",
        "  # y is true label, y_hat is predicted label\n",
        "    self.y_hat = y_hat\n",
        "    self.y = y\n",
        "    conf_matrix = metrics.confusion_matrix(y,y_hat)\n",
        "    \n",
        "    self.true_neg = conf_matrix[0][0]\n",
        "    self.false_pos = conf_matrix[0][1]\n",
        "    self.false_neg = conf_matrix[1][0]\n",
        "    self.true_pos = conf_matrix[1][1]\n",
        "\n",
        "  def conf_matrix_values(self):\n",
        "    print(f\"TN: {self.true_neg}, FP: {self.false_pos}, FN: {self.false_neg} TP: {self.true_pos}\")\n",
        "\n",
        "  def sens_spec(self):\n",
        "    sens = self.true_pos/(self.true_pos+self.false_neg)\n",
        "    spec = self.true_neg/(self.true_neg+self.false_pos)\n",
        "    print(f\"Sensitivity (aka recall) is {sens:.4f}\")\n",
        "    print(f\"Specificity is {spec:.4f}\")\n",
        "\n",
        "  def incorrect_index(self):\n",
        "    # return indices of examples that are incorrectly predicted\n",
        "    index = list()\n",
        "    for i,label in enumerate(self.y):\n",
        "      if label != self.y_hat[i]:\n",
        "        index.append(i)\n",
        "    return index\n",
        "\n",
        "\n",
        "print(\"Naive Bayes\")\n",
        "nb_metric = metric_calc(y_test,nb_predictions)\n",
        "nb_metric.conf_matrix_values()\n",
        "nb_metric.sens_spec()\n",
        "\n",
        "print(\"SVM\")\n",
        "svm_metric = metric_calc(y_test,svm_predictions)\n",
        "svm_metric.conf_matrix_values()\n",
        "svm_metric.sens_spec()"
      ],
      "execution_count": null,
      "outputs": [
        {
          "output_type": "stream",
          "name": "stdout",
          "text": [
            "Naive Bayes\n",
            "TN: 206, FP: 17, FN: 39 TP: 332\n",
            "Sensitivity (aka recall) is 0.8949\n",
            "Specificity is 0.9238\n",
            "SVM\n",
            "TN: 206, FP: 17, FN: 4 TP: 367\n",
            "Sensitivity (aka recall) is 0.9892\n",
            "Specificity is 0.9238\n"
          ]
        }
      ]
    },
    {
      "cell_type": "markdown",
      "metadata": {
        "id": "LWrHXW7Wwj88"
      },
      "source": [
        "# Manual examination of model\n",
        "\n",
        "Sometimes it is helpful (or simply entertaining) to try inserting your own free text into a NLP model and seeing how it behaves"
      ]
    },
    {
      "cell_type": "code",
      "metadata": {
        "colab": {
          "base_uri": "https://localhost:8080/"
        },
        "id": "eC6LqmCcr11r",
        "outputId": "0b930530-a1ed-4bb8-db78-8a39e199ed7e"
      },
      "source": [
        "#@title Try entering some free text for classification via the classifiers we trained\n",
        "user_text = \"pneumothorax noted\" #@param {type:\"string\"}\n",
        "user_token = preprocess(nlp,user_text, stop)\n",
        "user_sparse_vector = sparse_vector_create(train_vocab_dict.doc2bow(user_token),len(train_vocab_dict))\n",
        "user_nb_prediction = nb_classifier.predict(user_sparse_vector.reshape(1,-1))[0]\n",
        "user_svm_prediction = SVM.predict(user_sparse_vector.reshape(1,-1))[0]\n",
        "\n",
        "print(\"Convention used - 0 is normal, 1 is abnormal\")\n",
        "print(f\"Naive Bayes: {user_nb_prediction}\")\n",
        "print(f\"SVM: {user_svm_prediction}\")"
      ],
      "execution_count": null,
      "outputs": [
        {
          "output_type": "stream",
          "name": "stdout",
          "text": [
            "Convention used - 0 is normal, 1 is abnormal\n",
            "Naive Bayes: 1\n",
            "SVM: 1\n"
          ]
        }
      ]
    },
    {
      "cell_type": "markdown",
      "metadata": {
        "id": "AVnGEqzcO1ZE"
      },
      "source": [
        "## Error Analysis\n",
        "\n",
        "Manual examination of model errors for systematic errors is also an important post evaluation step."
      ]
    },
    {
      "cell_type": "code",
      "metadata": {
        "colab": {
          "base_uri": "https://localhost:8080/",
          "height": 1000
        },
        "id": "F17is6e3L1l5",
        "outputId": "0bf5fc47-58f2-48a3-813c-eb6bbcbe0bb8"
      },
      "source": [
        "troubleshoot_df = test_df.iloc[svm_metric.incorrect_index()][[\"full-text\",\"label\"]]\n",
        "troubleshoot_df[\"SVM\"] = [svm_predictions[i] for i in svm_metric.incorrect_index()]\n",
        "troubleshoot_df"
      ],
      "execution_count": null,
      "outputs": [
        {
          "output_type": "execute_result",
          "data": {
            "text/plain": [
              "                                                                                                                                                                                                                                                                                                                                                                                                                                                                                    full-text  \\\n",
              "2822                                                                                                                                                                                                                                                                                                                                                                                                                                                                                            \n",
              "191    Heart size normal. Lungs clear. Resolution of effusion seen on prior exam                                                                                                                                                                                                                                                                                                                                                                                                                \n",
              "1452   No suspicious appearing lung nodules identified. Findings compatible with right apical chronic inflammatory change. No acute airspace process or pleural effusion. Stable mediastinal contour. No XXXX acute abnormalities since the previous chest radiograph.                                                                                                                                                                                                                          \n",
              "844                                                                                                                                                                                                                                                                                                                                                                                                                                                                                             \n",
              "145    Lungs are hyper expanded consistent with COPD. No parenchymal infiltrates. No XXXX of pleural effusions. Normal heart size. No XXXX of acute cardiopulmonary disease, unchanged.                                                                                                                                                                                                                                                                                                         \n",
              "3002  The heart is normal in size. The mediastinum is stable. XXXX sternotomy changes are again noted. The lungs are clear of focal infiltrates. There is no pleural effusion. No acute disease.                                                                                                                                                                                                                                                                                                \n",
              "523   Ribs are intact with no fractures or bone destruction. Both lungs remain clear and expanded. Heart and mediastinum are normal. 1. Left and right ribs. Negative for fracture. 2. Chest. No evidence for cardiopulmonary injury.                                                                                                                                                                                                                                                           \n",
              "3838   Heart size is normal and the lungs are clear. No fibrosis. No nodules or masses. Please XXXX XXXX XXXX XXXX XXXX to be followed up as per history                                                                                                                                                                                                                                                                                                                                        \n",
              "1032  No focal lung opacity, pleural effusion or pneumothorax. Cardiomediastinal silhouette is unremarkable. No focal lung opacity, pleural effusion of pneumothorax.                                                                                                                                                                                                                                                                                                                           \n",
              "576   In the interval, bibasilar interstitial infiltrates and pulmonary venous engorgement have resolved. Heart size is now normal. No XXXX infiltrates. Chest. Resolving pulmonary interstitial edema and pulmonary venous hypertension.                                                                                                                                                                                                                                                       \n",
              "939   Interval resolution of the left pleural effusion. Lungs are grossly clear. Postsurgical changes from CABG are noted. No pneumothorax or pleural effusion. No acute bony abnormalities are visualized. No acute cardiopulmonary abnormality.                                                                                                                                                                                                                                               \n",
              "2409  Chest: The heart size and cardiomediastinal silhouette are normal. The lungs are clear without focal airspace opacity, pleural effusion, or pneumothorax. The osseous structures are intact. Left knee: There is no fracture-dislocation. There are degenerative changes with medial compartment osteophytes. There is no suprapatellar effusion. There is a XXXX. Chest: No acute cardiopulmonary finding. Left knee: Minimal degenerative changes, however no acute bony abnormality.   \n",
              "591                                                                                                                                                                                                                                                                                                                                                                                                                                                                                             \n",
              "2649  Patient is slightly rotated. Normal heart size. There is no pulmonary edema. There is no focal consolidation. There are no XXXX of a pleural effusion. There is no evidence of pneumothorax. There is no evidence of acute cardiopulmonary disease. .                                                                                                                                                                                                                                     \n",
              "628   Heart size within normal limits. No focal alveolar consolidation, no definite pleural effusion seen. No typical findings of pulmonary edema. No pneumothorax. No acute cardiopulmonary findings                                                                                                                                                                                                                                                                                           \n",
              "1500  Heart size and mediastinal contour normal. Lungs are clear. Pulmonary vascularity normal. No pleural effusions or pneumothoraces. Minimal degenerative changes thoracic spine. No acute cardiopulmonary process.                                                                                                                                                                                                                                                                          \n",
              "3360  Heart size and mediastinal contour are within normal limits. No focal consolidation, suspicious pulmonary opacity, large pleural effusion, or pneumothorax is identified. Again visualized is a wedge-shaped XXXX fracture of T12. 1. No acute cardiopulmonary abnormality. 2. Wedge-shaped XXXX fracture of T12.                                                                                                                                                                         \n",
              "953                                                                                                                                                                                                                                                                                                                                                                                                                                                                                             \n",
              "524   The cardiac and mediastinal silhouettes are unremarkable. The lungs are well expanded and clear. There are no focal air space opacities. There is no pneumothorax or effusion. There are mild degenerative changes of the thoracic spine. No evidence of acute cardiopulmonary process. Stable appearance of the chest.                                                                                                                                                                   \n",
              "3196  The lungs are clear. Heart and pulmonary XXXX appear normal. The pleural spaces are clear and mediastinal contours are normal. Nodular density overlying the anterior left 4th rib XXXX represents a healing rib fracture. 1. No acute cardiopulmonary disease                                                                                                                                                                                                                            \n",
              "2272  The lungs are clear. There is no pleural effusion or pneumothorax. The heart and mediastinum are normal. The skeletal structures short thready changes of the spine. No acute pulmonary disease.                                                                                                                                                                                                                                                                                          \n",
              "\n",
              "         label  SVM  \n",
              "2822  normal    1    \n",
              "191   normal    1    \n",
              "1452  normal    1    \n",
              "844   normal    1    \n",
              "145   abnormal  0    \n",
              "3002  normal    1    \n",
              "523   normal    1    \n",
              "3838  normal    1    \n",
              "1032  normal    1    \n",
              "576   normal    1    \n",
              "939   normal    1    \n",
              "2409  normal    1    \n",
              "591   normal    1    \n",
              "2649  abnormal  0    \n",
              "628   abnormal  0    \n",
              "1500  normal    1    \n",
              "3360  abnormal  0    \n",
              "953   normal    1    \n",
              "524   normal    1    \n",
              "3196  normal    1    \n",
              "2272  normal    1    "
            ],
            "text/html": [
              "\n",
              "  <div id=\"df-c5c20c12-a6a3-46b8-aaa0-b593760f1d87\">\n",
              "    <div class=\"colab-df-container\">\n",
              "      <div>\n",
              "<style scoped>\n",
              "    .dataframe tbody tr th:only-of-type {\n",
              "        vertical-align: middle;\n",
              "    }\n",
              "\n",
              "    .dataframe tbody tr th {\n",
              "        vertical-align: top;\n",
              "    }\n",
              "\n",
              "    .dataframe thead th {\n",
              "        text-align: right;\n",
              "    }\n",
              "</style>\n",
              "<table border=\"1\" class=\"dataframe\">\n",
              "  <thead>\n",
              "    <tr style=\"text-align: right;\">\n",
              "      <th></th>\n",
              "      <th>full-text</th>\n",
              "      <th>label</th>\n",
              "      <th>SVM</th>\n",
              "    </tr>\n",
              "  </thead>\n",
              "  <tbody>\n",
              "    <tr>\n",
              "      <th>2822</th>\n",
              "      <td></td>\n",
              "      <td>normal</td>\n",
              "      <td>1</td>\n",
              "    </tr>\n",
              "    <tr>\n",
              "      <th>191</th>\n",
              "      <td>Heart size normal. Lungs clear. Resolution of effusion seen on prior exam</td>\n",
              "      <td>normal</td>\n",
              "      <td>1</td>\n",
              "    </tr>\n",
              "    <tr>\n",
              "      <th>1452</th>\n",
              "      <td>No suspicious appearing lung nodules identified. Findings compatible with right apical chronic inflammatory change. No acute airspace process or pleural effusion. Stable mediastinal contour. No XXXX acute abnormalities since the previous chest radiograph.</td>\n",
              "      <td>normal</td>\n",
              "      <td>1</td>\n",
              "    </tr>\n",
              "    <tr>\n",
              "      <th>844</th>\n",
              "      <td></td>\n",
              "      <td>normal</td>\n",
              "      <td>1</td>\n",
              "    </tr>\n",
              "    <tr>\n",
              "      <th>145</th>\n",
              "      <td>Lungs are hyper expanded consistent with COPD. No parenchymal infiltrates. No XXXX of pleural effusions. Normal heart size. No XXXX of acute cardiopulmonary disease, unchanged.</td>\n",
              "      <td>abnormal</td>\n",
              "      <td>0</td>\n",
              "    </tr>\n",
              "    <tr>\n",
              "      <th>3002</th>\n",
              "      <td>The heart is normal in size. The mediastinum is stable. XXXX sternotomy changes are again noted. The lungs are clear of focal infiltrates. There is no pleural effusion. No acute disease.</td>\n",
              "      <td>normal</td>\n",
              "      <td>1</td>\n",
              "    </tr>\n",
              "    <tr>\n",
              "      <th>523</th>\n",
              "      <td>Ribs are intact with no fractures or bone destruction. Both lungs remain clear and expanded. Heart and mediastinum are normal. 1. Left and right ribs. Negative for fracture. 2. Chest. No evidence for cardiopulmonary injury.</td>\n",
              "      <td>normal</td>\n",
              "      <td>1</td>\n",
              "    </tr>\n",
              "    <tr>\n",
              "      <th>3838</th>\n",
              "      <td>Heart size is normal and the lungs are clear. No fibrosis. No nodules or masses. Please XXXX XXXX XXXX XXXX XXXX to be followed up as per history</td>\n",
              "      <td>normal</td>\n",
              "      <td>1</td>\n",
              "    </tr>\n",
              "    <tr>\n",
              "      <th>1032</th>\n",
              "      <td>No focal lung opacity, pleural effusion or pneumothorax. Cardiomediastinal silhouette is unremarkable. No focal lung opacity, pleural effusion of pneumothorax.</td>\n",
              "      <td>normal</td>\n",
              "      <td>1</td>\n",
              "    </tr>\n",
              "    <tr>\n",
              "      <th>576</th>\n",
              "      <td>In the interval, bibasilar interstitial infiltrates and pulmonary venous engorgement have resolved. Heart size is now normal. No XXXX infiltrates. Chest. Resolving pulmonary interstitial edema and pulmonary venous hypertension.</td>\n",
              "      <td>normal</td>\n",
              "      <td>1</td>\n",
              "    </tr>\n",
              "    <tr>\n",
              "      <th>939</th>\n",
              "      <td>Interval resolution of the left pleural effusion. Lungs are grossly clear. Postsurgical changes from CABG are noted. No pneumothorax or pleural effusion. No acute bony abnormalities are visualized. No acute cardiopulmonary abnormality.</td>\n",
              "      <td>normal</td>\n",
              "      <td>1</td>\n",
              "    </tr>\n",
              "    <tr>\n",
              "      <th>2409</th>\n",
              "      <td>Chest: The heart size and cardiomediastinal silhouette are normal. The lungs are clear without focal airspace opacity, pleural effusion, or pneumothorax. The osseous structures are intact. Left knee: There is no fracture-dislocation. There are degenerative changes with medial compartment osteophytes. There is no suprapatellar effusion. There is a XXXX. Chest: No acute cardiopulmonary finding. Left knee: Minimal degenerative changes, however no acute bony abnormality.</td>\n",
              "      <td>normal</td>\n",
              "      <td>1</td>\n",
              "    </tr>\n",
              "    <tr>\n",
              "      <th>591</th>\n",
              "      <td></td>\n",
              "      <td>normal</td>\n",
              "      <td>1</td>\n",
              "    </tr>\n",
              "    <tr>\n",
              "      <th>2649</th>\n",
              "      <td>Patient is slightly rotated. Normal heart size. There is no pulmonary edema. There is no focal consolidation. There are no XXXX of a pleural effusion. There is no evidence of pneumothorax. There is no evidence of acute cardiopulmonary disease. .</td>\n",
              "      <td>abnormal</td>\n",
              "      <td>0</td>\n",
              "    </tr>\n",
              "    <tr>\n",
              "      <th>628</th>\n",
              "      <td>Heart size within normal limits. No focal alveolar consolidation, no definite pleural effusion seen. No typical findings of pulmonary edema. No pneumothorax. No acute cardiopulmonary findings</td>\n",
              "      <td>abnormal</td>\n",
              "      <td>0</td>\n",
              "    </tr>\n",
              "    <tr>\n",
              "      <th>1500</th>\n",
              "      <td>Heart size and mediastinal contour normal. Lungs are clear. Pulmonary vascularity normal. No pleural effusions or pneumothoraces. Minimal degenerative changes thoracic spine. No acute cardiopulmonary process.</td>\n",
              "      <td>normal</td>\n",
              "      <td>1</td>\n",
              "    </tr>\n",
              "    <tr>\n",
              "      <th>3360</th>\n",
              "      <td>Heart size and mediastinal contour are within normal limits. No focal consolidation, suspicious pulmonary opacity, large pleural effusion, or pneumothorax is identified. Again visualized is a wedge-shaped XXXX fracture of T12. 1. No acute cardiopulmonary abnormality. 2. Wedge-shaped XXXX fracture of T12.</td>\n",
              "      <td>abnormal</td>\n",
              "      <td>0</td>\n",
              "    </tr>\n",
              "    <tr>\n",
              "      <th>953</th>\n",
              "      <td></td>\n",
              "      <td>normal</td>\n",
              "      <td>1</td>\n",
              "    </tr>\n",
              "    <tr>\n",
              "      <th>524</th>\n",
              "      <td>The cardiac and mediastinal silhouettes are unremarkable. The lungs are well expanded and clear. There are no focal air space opacities. There is no pneumothorax or effusion. There are mild degenerative changes of the thoracic spine. No evidence of acute cardiopulmonary process. Stable appearance of the chest.</td>\n",
              "      <td>normal</td>\n",
              "      <td>1</td>\n",
              "    </tr>\n",
              "    <tr>\n",
              "      <th>3196</th>\n",
              "      <td>The lungs are clear. Heart and pulmonary XXXX appear normal. The pleural spaces are clear and mediastinal contours are normal. Nodular density overlying the anterior left 4th rib XXXX represents a healing rib fracture. 1. No acute cardiopulmonary disease</td>\n",
              "      <td>normal</td>\n",
              "      <td>1</td>\n",
              "    </tr>\n",
              "    <tr>\n",
              "      <th>2272</th>\n",
              "      <td>The lungs are clear. There is no pleural effusion or pneumothorax. The heart and mediastinum are normal. The skeletal structures short thready changes of the spine. No acute pulmonary disease.</td>\n",
              "      <td>normal</td>\n",
              "      <td>1</td>\n",
              "    </tr>\n",
              "  </tbody>\n",
              "</table>\n",
              "</div>\n",
              "      <button class=\"colab-df-convert\" onclick=\"convertToInteractive('df-c5c20c12-a6a3-46b8-aaa0-b593760f1d87')\"\n",
              "              title=\"Convert this dataframe to an interactive table.\"\n",
              "              style=\"display:none;\">\n",
              "        \n",
              "  <svg xmlns=\"http://www.w3.org/2000/svg\" height=\"24px\"viewBox=\"0 0 24 24\"\n",
              "       width=\"24px\">\n",
              "    <path d=\"M0 0h24v24H0V0z\" fill=\"none\"/>\n",
              "    <path d=\"M18.56 5.44l.94 2.06.94-2.06 2.06-.94-2.06-.94-.94-2.06-.94 2.06-2.06.94zm-11 1L8.5 8.5l.94-2.06 2.06-.94-2.06-.94L8.5 2.5l-.94 2.06-2.06.94zm10 10l.94 2.06.94-2.06 2.06-.94-2.06-.94-.94-2.06-.94 2.06-2.06.94z\"/><path d=\"M17.41 7.96l-1.37-1.37c-.4-.4-.92-.59-1.43-.59-.52 0-1.04.2-1.43.59L10.3 9.45l-7.72 7.72c-.78.78-.78 2.05 0 2.83L4 21.41c.39.39.9.59 1.41.59.51 0 1.02-.2 1.41-.59l7.78-7.78 2.81-2.81c.8-.78.8-2.07 0-2.86zM5.41 20L4 18.59l7.72-7.72 1.47 1.35L5.41 20z\"/>\n",
              "  </svg>\n",
              "      </button>\n",
              "      \n",
              "  <style>\n",
              "    .colab-df-container {\n",
              "      display:flex;\n",
              "      flex-wrap:wrap;\n",
              "      gap: 12px;\n",
              "    }\n",
              "\n",
              "    .colab-df-convert {\n",
              "      background-color: #E8F0FE;\n",
              "      border: none;\n",
              "      border-radius: 50%;\n",
              "      cursor: pointer;\n",
              "      display: none;\n",
              "      fill: #1967D2;\n",
              "      height: 32px;\n",
              "      padding: 0 0 0 0;\n",
              "      width: 32px;\n",
              "    }\n",
              "\n",
              "    .colab-df-convert:hover {\n",
              "      background-color: #E2EBFA;\n",
              "      box-shadow: 0px 1px 2px rgba(60, 64, 67, 0.3), 0px 1px 3px 1px rgba(60, 64, 67, 0.15);\n",
              "      fill: #174EA6;\n",
              "    }\n",
              "\n",
              "    [theme=dark] .colab-df-convert {\n",
              "      background-color: #3B4455;\n",
              "      fill: #D2E3FC;\n",
              "    }\n",
              "\n",
              "    [theme=dark] .colab-df-convert:hover {\n",
              "      background-color: #434B5C;\n",
              "      box-shadow: 0px 1px 3px 1px rgba(0, 0, 0, 0.15);\n",
              "      filter: drop-shadow(0px 1px 2px rgba(0, 0, 0, 0.3));\n",
              "      fill: #FFFFFF;\n",
              "    }\n",
              "  </style>\n",
              "\n",
              "      <script>\n",
              "        const buttonEl =\n",
              "          document.querySelector('#df-c5c20c12-a6a3-46b8-aaa0-b593760f1d87 button.colab-df-convert');\n",
              "        buttonEl.style.display =\n",
              "          google.colab.kernel.accessAllowed ? 'block' : 'none';\n",
              "\n",
              "        async function convertToInteractive(key) {\n",
              "          const element = document.querySelector('#df-c5c20c12-a6a3-46b8-aaa0-b593760f1d87');\n",
              "          const dataTable =\n",
              "            await google.colab.kernel.invokeFunction('convertToInteractive',\n",
              "                                                     [key], {});\n",
              "          if (!dataTable) return;\n",
              "\n",
              "          const docLinkHtml = 'Like what you see? Visit the ' +\n",
              "            '<a target=\"_blank\" href=https://colab.research.google.com/notebooks/data_table.ipynb>data table notebook</a>'\n",
              "            + ' to learn more about interactive tables.';\n",
              "          element.innerHTML = '';\n",
              "          dataTable['output_type'] = 'display_data';\n",
              "          await google.colab.output.renderOutput(dataTable, element);\n",
              "          const docLink = document.createElement('div');\n",
              "          docLink.innerHTML = docLinkHtml;\n",
              "          element.appendChild(docLink);\n",
              "        }\n",
              "      </script>\n",
              "    </div>\n",
              "  </div>\n",
              "  "
            ]
          },
          "metadata": {},
          "execution_count": 42
        }
      ]
    },
    {
      "cell_type": "code",
      "metadata": {
        "colab": {
          "base_uri": "https://localhost:8080/",
          "height": 1000
        },
        "id": "vrA-F4wQOjJ_",
        "outputId": "437bbda3-770d-4ab3-fe16-76c91538fa2f"
      },
      "source": [
        "troubleshoot_df = test_df.iloc[nb_metric.incorrect_index()][[\"full-text\",\"label\"]]\n",
        "troubleshoot_df[\"nb\"] = [nb_predictions[i] for i in nb_metric.incorrect_index()]\n",
        "troubleshoot_df"
      ],
      "execution_count": null,
      "outputs": [
        {
          "output_type": "execute_result",
          "data": {
            "text/plain": [
              "                                                                                                                                                                                                                                                                                                                                                                                                                                                                                                                                                    full-text  \\\n",
              "3929  The cardiomediastinal silhouette and pulmonary vasculature are within normal limits. There is no pneumothorax or pleural effusion. There are no focal areas of consolidation. Small T-spine osteophytes. No acute cardiopulmonary abnormality.                                                                                                                                                                                                                                                                                                            \n",
              "2612  Normal heart and mediastinum. Clear lungs. Trachea is midline. No pneumothorax. No pleural effusion. Radiopaque foreign body overlying left chest. No acute abnormality.                                                                                                                                                                                                                                                                                                                                                                                  \n",
              "985   Heart size is normal. Mild lung hyperexpansion. The lungs are clear. There are no focal air space consolidations. No pleural effusions or pneumothoraces. The hilar and mediastinal contours are normal. Normal pulmonary vascularity. No acute abnormality. .                                                                                                                                                                                                                                                                                            \n",
              "262   The cardiac contours are normal. The lungs are clear. Thoracic spondylosis. No acute preoperative findings.                                                                                                                                                                                                                                                                                                                                                                                                                                               \n",
              "2822                                                                                                                                                                                                                                                                                                                                                                                                                                                                                                                                                            \n",
              "3739  Lungs are clear. No pleural effusions or pneumothoraces. Heart and mediastinum of normal size and contour. old left rib fractures. Lungs are clear without suspicious pulmonary nodules or masses.                                                                                                                                                                                                                                                                                                                                                        \n",
              "222   Both lungs are clear and expanded. Heart and mediastinum normal. Surgical clips are in the epigastrium of the abdomen. No active disease.                                                                                                                                                                                                                                                                                                                                                                                                                 \n",
              "1172  Cardiac and mediastinal contours are within normal limits. Prior granulomatous disease. The lungs are clear. Bony structures are intact. No acute findings. No evidence of pneumonia.                                                                                                                                                                                                                                                                                                                                                                     \n",
              "2972  The cardiomediastinal silhouette and pulmonary vasculature are within normal limits. There is no pneumothorax or pleural effusion. There are no focal areas of consolidation. Cholecystectomy clips are present. No acute cardiopulmonary abnormality.                                                                                                                                                                                                                                                                                                    \n",
              "191    Heart size normal. Lungs clear. Resolution of effusion seen on prior exam                                                                                                                                                                                                                                                                                                                                                                                                                                                                                \n",
              "1452   No suspicious appearing lung nodules identified. Findings compatible with right apical chronic inflammatory change. No acute airspace process or pleural effusion. Stable mediastinal contour. No XXXX acute abnormalities since the previous chest radiograph.                                                                                                                                                                                                                                                                                          \n",
              "844                                                                                                                                                                                                                                                                                                                                                                                                                                                                                                                                                             \n",
              "145    Lungs are hyper expanded consistent with COPD. No parenchymal infiltrates. No XXXX of pleural effusions. Normal heart size. No XXXX of acute cardiopulmonary disease, unchanged.                                                                                                                                                                                                                                                                                                                                                                         \n",
              "1964   No pneumonia. Heart size normal. Scoliosis.                                                                                                                                                                                                                                                                                                                                                                                                                                                                                                              \n",
              "3002  The heart is normal in size. The mediastinum is stable. XXXX sternotomy changes are again noted. The lungs are clear of focal infiltrates. There is no pleural effusion. No acute disease.                                                                                                                                                                                                                                                                                                                                                                \n",
              "3000  Normal heart size. No focal air space consolidation, pneumothorax, pleural effusion, or pulmonary edema. Anterior osteophytes of the thoracic spine. No acute cardiopulmonary disease.                                                                                                                                                                                                                                                                                                                                                                    \n",
              "523   Ribs are intact with no fractures or bone destruction. Both lungs remain clear and expanded. Heart and mediastinum are normal. 1. Left and right ribs. Negative for fracture. 2. Chest. No evidence for cardiopulmonary injury.                                                                                                                                                                                                                                                                                                                           \n",
              "3838   Heart size is normal and the lungs are clear. No fibrosis. No nodules or masses. Please XXXX XXXX XXXX XXXX XXXX to be followed up as per history                                                                                                                                                                                                                                                                                                                                                                                                        \n",
              "1911  There are T-spine osteophytes. The cardiomediastinal silhouette and pulmonary vasculature are within normal limits. There is no pneumothorax or pleural effusion. There are no focal areas of consolidation. No acute cardiopulmonary abnormality.                                                                                                                                                                                                                                                                                                        \n",
              "3696  The heart is normal in size. The mediastinum is unremarkable. The lungs are hypoinflated but clear. No acute disease.                                                                                                                                                                                                                                                                                                                                                                                                                                     \n",
              "1032  No focal lung opacity, pleural effusion or pneumothorax. Cardiomediastinal silhouette is unremarkable. No focal lung opacity, pleural effusion of pneumothorax.                                                                                                                                                                                                                                                                                                                                                                                           \n",
              "2971  Heart size and pulmonary vascularity appear within normal limits. The lungs are free of focal airspace disease. No pleural effusion or pneumothorax is seen. Vascular calcification is noted. No adenopathy is seen. 1. No evidence of active disease.                                                                                                                                                                                                                                                                                                    \n",
              "2659  The lungs are clear bilaterally. Specifically, no evidence of focal consolidation, pneumothorax, or pleural effusion.. Cardio mediastinal silhouette is unremarkable. Stable XXXX foreign body over the left breast (XXXX nipple piercing). Visualized osseous structures of the thorax are without acute abnormality. No acute cardiopulmonary abnormality.                                                                                                                                                                                              \n",
              "576   In the interval, bibasilar interstitial infiltrates and pulmonary venous engorgement have resolved. Heart size is now normal. No XXXX infiltrates. Chest. Resolving pulmonary interstitial edema and pulmonary venous hypertension.                                                                                                                                                                                                                                                                                                                       \n",
              "3902  Lungs are clear. There is no pneumothorax or pleural effusion. Calcified left suprahilar XXXX. The heart and mediastinum are within normal limits. Bony structures are intact. No acute cardiopulmonary process.                                                                                                                                                                                                                                                                                                                                          \n",
              "1611   Heart size is normal lungs are clear. No evidence of tuberculosis. Minimal scoliosis.                                                                                                                                                                                                                                                                                                                                                                                                                                                                    \n",
              "939   Interval resolution of the left pleural effusion. Lungs are grossly clear. Postsurgical changes from CABG are noted. No pneumothorax or pleural effusion. No acute bony abnormalities are visualized. No acute cardiopulmonary abnormality.                                                                                                                                                                                                                                                                                                               \n",
              "2653  Normal cardiac contour. Clear hyperexpanded lungs bilaterally with no pneumothorax or pleural effusion. 1. No acute cardiopulmonary abnormalities.                                                                                                                                                                                                                                                                                                                                                                                                        \n",
              "2963  The lungs are clear without focal consolidation, effusion, or pneumothorax. Normal heart size. Degenerative changes of the thoracic spine. Negative for acute cardiopulmonary abnormality.                                                                                                                                                                                                                                                                                                                                                                \n",
              "2711  Normal heart size and mediastinal contours. Calcified aortic XXXX. No focal airspace consolidation. No pleural effusion or pneumothorax. Visualized osseous structures are unremarkable appearance. No acute or XXXX pulmonary abnormality.                                                                                                                                                                                                                                                                                                               \n",
              "2409  Chest: The heart size and cardiomediastinal silhouette are normal. The lungs are clear without focal airspace opacity, pleural effusion, or pneumothorax. The osseous structures are intact. Left knee: There is no fracture-dislocation. There are degenerative changes with medial compartment osteophytes. There is no suprapatellar effusion. There is a XXXX. Chest: No acute cardiopulmonary finding. Left knee: Minimal degenerative changes, however no acute bony abnormality.                                                                   \n",
              "591                                                                                                                                                                                                                                                                                                                                                                                                                                                                                                                                                             \n",
              "2649  Patient is slightly rotated. Normal heart size. There is no pulmonary edema. There is no focal consolidation. There are no XXXX of a pleural effusion. There is no evidence of pneumothorax. There is no evidence of acute cardiopulmonary disease. .                                                                                                                                                                                                                                                                                                     \n",
              "763   Cardiac and mediastinal contours are within normal limits. Prior granulomatous disease. The lungs are otherwise clear. Bony structures are intact. NO acute preoperative findings.                                                                                                                                                                                                                                                                                                                                                                        \n",
              "628   Heart size within normal limits. No focal alveolar consolidation, no definite pleural effusion seen. No typical findings of pulmonary edema. No pneumothorax. No acute cardiopulmonary findings                                                                                                                                                                                                                                                                                                                                                           \n",
              "3941   The heart size and cardiomediastinal silhouette are within normal limits. Pulmonary vasculature appears normal. There is no focal air space consolidation. No pleural effusion or pneumothorax. Very mild S-shaped curvature of the thoracic spine. No displaced, acute fractures are identified.                                                                                                                                                                                                                                                        \n",
              "616   Cardiac and mediastinal contours are within normal limits. Prior granulomatous disease. The lungs are otherwise clear. Bony structures are intact. No acute findings.                                                                                                                                                                                                                                                                                                                                                                                     \n",
              "2856  The heart size and mediastinal silhouette are within normal limits. No pneumothorax or pleural effusions. The lungs are clear. No focal consolidations. The osseous structures are intact. Calcification in the right upper quadrant of the abdomen XXXX consistent with gallstone. No acute cardiopulmonary abnormalities.                                                                                                                                                                                                                               \n",
              "1308  Trachea is midline. The cardiomediastinal silhouette is normal. The lungs are clear, without evidence of acute infiltrate or effusion. There is no pneumothorax. The visualized bony structures show no acute abnormalities. Lateral view reveals mild degenerative changes of the thoracic spine. No acute cardiopulmonary abnormalities.                                                                                                                                                                                                                \n",
              "3913  There is an S-shaped scoliosis of the thoracic spine. Heart size and pulmonary vascularity within normal limits. No focal infiltrate, pneumothorax or pleural effusion identified. No acute cardiopulmonary disease.                                                                                                                                                                                                                                                                                                                                      \n",
              "1500  Heart size and mediastinal contour normal. Lungs are clear. Pulmonary vascularity normal. No pleural effusions or pneumothoraces. Minimal degenerative changes thoracic spine. No acute cardiopulmonary process.                                                                                                                                                                                                                                                                                                                                          \n",
              "1992  The cardiomediastinal contours are within normal limits. Pulmonary vasculature is unremarkable. There is no focal airspace opacity. No pleural effusion or pneumothorax is seen. Multiple healed bilateral rib fractures. No acute bony abnormality is identified. No acute cardiopulmonary abnormality.                                                                                                                                                                                                                                                  \n",
              "3360  Heart size and mediastinal contour are within normal limits. No focal consolidation, suspicious pulmonary opacity, large pleural effusion, or pneumothorax is identified. Again visualized is a wedge-shaped XXXX fracture of T12. 1. No acute cardiopulmonary abnormality. 2. Wedge-shaped XXXX fracture of T12.                                                                                                                                                                                                                                         \n",
              "2964  The lungs are clear. The heart and pulmonary XXXX are normal. Pleural spaces are clear. The mediastinal contours are normal. There is calcification of the thoracic aorta. No acute cardiopulmonary disease. No evidence of pneumonia.                                                                                                                                                                                                                                                                                                                    \n",
              "2514  Lungs are clear. No pleural effusions or pneumothoraces. Heart and mediastinum of normal size and contour. Degenerative changes in the thoracic spine. Clear lungs.                                                                                                                                                                                                                                                                                                                                                                                       \n",
              "470   Lungs are clear without focal consolidation, effusion, or pneumothorax. Hyperinflated lungs. Cardiomegaly. Bony thorax and soft tissues grossly unremarkable Cardiomegaly without acute cardiopulmonary abnormality.                                                                                                                                                                                                                                                                                                                                      \n",
              "1348  The cardiac contours are normal. The lungs are clear. Thoracic spondylosis. No acute preoperative findings.                                                                                                                                                                                                                                                                                                                                                                                                                                               \n",
              "953                                                                                                                                                                                                                                                                                                                                                                                                                                                                                                                                                             \n",
              "1863  No focal consolidation, suspicious pulmonary opacity or definite pleural effusion. Heart size and pulmonary vascularity within normal limits. Stable mediastinal contour. Calcified hilar lymph XXXX. Visualized osseous structures unremarkable. No acute cardiopulmonary abnormality.                                                                                                                                                                                                                                                                   \n",
              "834   The heart size is normal. The mediastinal contour is within normal limits. The lungs are free of any focal infiltrates. There are no nodules or masses. No visible pneumothorax. No visible pleural fluid. The XXXX are grossly normal. There is no visible free intraperitoneal air under the diaphragm. Surgical clips are seen the right upper quadrant. 1. No acute radiographic cardiopulmonary process.                                                                                                                                             \n",
              "1431  The lungs are clear bilaterally. Specifically, no evidence of focal consolidation, pneumothorax, or pleural effusion.. Cardio mediastinal silhouette is unremarkable. Visualized osseous structures of the thorax demonstrate stable, mild multilevel thoracolumbar degenerative disc disease without acute abnormality. Upper abdominal midline surgical sutures are likewise stable. No acute cardiopulmonary abnormality..                                                                                                                             \n",
              "524   The cardiac and mediastinal silhouettes are unremarkable. The lungs are well expanded and clear. There are no focal air space opacities. There is no pneumothorax or effusion. There are mild degenerative changes of the thoracic spine. No evidence of acute cardiopulmonary process. Stable appearance of the chest.                                                                                                                                                                                                                                   \n",
              "822   The XXXX examination consists of frontal and lateral radiographs of the chest. Cardiac silhouette is at top limits of normal. Aortic and mediastinal contours are within normal limits. Pulmonary vascularity is within normal limits. No focal consolidation, pleural effusion, or pneumothorax identified. Partially visualized ORIF XXXX involving the left proximal humerus. Deformity of the left distal clavicle compatible with remote XXXX. No displaced rib fractures on this chest examination. No evidence of acute cardiopulmonary process.   \n",
              "1582  Cardiomediastinal silhouettes are within normal limits. Lungs are hyperexpanded. Lungs are clear without focal consolidation, pneumothorax, or pleural effusion. Bony thorax is unremarkable. No acute cardiopulmonary abnormalities.                                                                                                                                                                                                                                                                                                                     \n",
              "3196  The lungs are clear. Heart and pulmonary XXXX appear normal. The pleural spaces are clear and mediastinal contours are normal. Nodular density overlying the anterior left 4th rib XXXX represents a healing rib fracture. 1. No acute cardiopulmonary disease                                                                                                                                                                                                                                                                                            \n",
              "3208  Frontal and lateral views of the chest with overlying external cardiac monitor leads show normal size and configuration of the cardiac silhouette. Normal pulmonary vasculature and central airways. No focal airspace consolidation or pleural effusion. No acute or active cardiac, pulmonary or pleural disease.                                                                                                                                                                                                                                       \n",
              "\n",
              "         label  nb  \n",
              "3929  abnormal  0   \n",
              "2612  abnormal  0   \n",
              "985   abnormal  0   \n",
              "262   abnormal  0   \n",
              "2822  normal    1   \n",
              "3739  abnormal  0   \n",
              "222   abnormal  0   \n",
              "1172  abnormal  0   \n",
              "2972  abnormal  0   \n",
              "191   normal    1   \n",
              "1452  normal    1   \n",
              "844   normal    1   \n",
              "145   abnormal  0   \n",
              "1964  abnormal  0   \n",
              "3002  normal    1   \n",
              "3000  abnormal  0   \n",
              "523   normal    1   \n",
              "3838  normal    1   \n",
              "1911  abnormal  0   \n",
              "3696  abnormal  0   \n",
              "1032  normal    1   \n",
              "2971  abnormal  0   \n",
              "2659  abnormal  0   \n",
              "576   normal    1   \n",
              "3902  abnormal  0   \n",
              "1611  abnormal  0   \n",
              "939   normal    1   \n",
              "2653  abnormal  0   \n",
              "2963  abnormal  0   \n",
              "2711  abnormal  0   \n",
              "2409  normal    1   \n",
              "591   normal    1   \n",
              "2649  abnormal  0   \n",
              "763   abnormal  0   \n",
              "628   abnormal  0   \n",
              "3941  abnormal  0   \n",
              "616   abnormal  0   \n",
              "2856  abnormal  0   \n",
              "1308  abnormal  0   \n",
              "3913  abnormal  0   \n",
              "1500  normal    1   \n",
              "1992  abnormal  0   \n",
              "3360  abnormal  0   \n",
              "2964  abnormal  0   \n",
              "2514  abnormal  0   \n",
              "470   abnormal  0   \n",
              "1348  abnormal  0   \n",
              "953   normal    1   \n",
              "1863  abnormal  0   \n",
              "834   abnormal  0   \n",
              "1431  abnormal  0   \n",
              "524   normal    1   \n",
              "822   normal    1   \n",
              "1582  abnormal  0   \n",
              "3196  normal    1   \n",
              "3208  abnormal  0   "
            ],
            "text/html": [
              "\n",
              "  <div id=\"df-cd529794-7f7d-4152-98c8-d7192f3b0676\">\n",
              "    <div class=\"colab-df-container\">\n",
              "      <div>\n",
              "<style scoped>\n",
              "    .dataframe tbody tr th:only-of-type {\n",
              "        vertical-align: middle;\n",
              "    }\n",
              "\n",
              "    .dataframe tbody tr th {\n",
              "        vertical-align: top;\n",
              "    }\n",
              "\n",
              "    .dataframe thead th {\n",
              "        text-align: right;\n",
              "    }\n",
              "</style>\n",
              "<table border=\"1\" class=\"dataframe\">\n",
              "  <thead>\n",
              "    <tr style=\"text-align: right;\">\n",
              "      <th></th>\n",
              "      <th>full-text</th>\n",
              "      <th>label</th>\n",
              "      <th>nb</th>\n",
              "    </tr>\n",
              "  </thead>\n",
              "  <tbody>\n",
              "    <tr>\n",
              "      <th>3929</th>\n",
              "      <td>The cardiomediastinal silhouette and pulmonary vasculature are within normal limits. There is no pneumothorax or pleural effusion. There are no focal areas of consolidation. Small T-spine osteophytes. No acute cardiopulmonary abnormality.</td>\n",
              "      <td>abnormal</td>\n",
              "      <td>0</td>\n",
              "    </tr>\n",
              "    <tr>\n",
              "      <th>2612</th>\n",
              "      <td>Normal heart and mediastinum. Clear lungs. Trachea is midline. No pneumothorax. No pleural effusion. Radiopaque foreign body overlying left chest. No acute abnormality.</td>\n",
              "      <td>abnormal</td>\n",
              "      <td>0</td>\n",
              "    </tr>\n",
              "    <tr>\n",
              "      <th>985</th>\n",
              "      <td>Heart size is normal. Mild lung hyperexpansion. The lungs are clear. There are no focal air space consolidations. No pleural effusions or pneumothoraces. The hilar and mediastinal contours are normal. Normal pulmonary vascularity. No acute abnormality. .</td>\n",
              "      <td>abnormal</td>\n",
              "      <td>0</td>\n",
              "    </tr>\n",
              "    <tr>\n",
              "      <th>262</th>\n",
              "      <td>The cardiac contours are normal. The lungs are clear. Thoracic spondylosis. No acute preoperative findings.</td>\n",
              "      <td>abnormal</td>\n",
              "      <td>0</td>\n",
              "    </tr>\n",
              "    <tr>\n",
              "      <th>2822</th>\n",
              "      <td></td>\n",
              "      <td>normal</td>\n",
              "      <td>1</td>\n",
              "    </tr>\n",
              "    <tr>\n",
              "      <th>3739</th>\n",
              "      <td>Lungs are clear. No pleural effusions or pneumothoraces. Heart and mediastinum of normal size and contour. old left rib fractures. Lungs are clear without suspicious pulmonary nodules or masses.</td>\n",
              "      <td>abnormal</td>\n",
              "      <td>0</td>\n",
              "    </tr>\n",
              "    <tr>\n",
              "      <th>222</th>\n",
              "      <td>Both lungs are clear and expanded. Heart and mediastinum normal. Surgical clips are in the epigastrium of the abdomen. No active disease.</td>\n",
              "      <td>abnormal</td>\n",
              "      <td>0</td>\n",
              "    </tr>\n",
              "    <tr>\n",
              "      <th>1172</th>\n",
              "      <td>Cardiac and mediastinal contours are within normal limits. Prior granulomatous disease. The lungs are clear. Bony structures are intact. No acute findings. No evidence of pneumonia.</td>\n",
              "      <td>abnormal</td>\n",
              "      <td>0</td>\n",
              "    </tr>\n",
              "    <tr>\n",
              "      <th>2972</th>\n",
              "      <td>The cardiomediastinal silhouette and pulmonary vasculature are within normal limits. There is no pneumothorax or pleural effusion. There are no focal areas of consolidation. Cholecystectomy clips are present. No acute cardiopulmonary abnormality.</td>\n",
              "      <td>abnormal</td>\n",
              "      <td>0</td>\n",
              "    </tr>\n",
              "    <tr>\n",
              "      <th>191</th>\n",
              "      <td>Heart size normal. Lungs clear. Resolution of effusion seen on prior exam</td>\n",
              "      <td>normal</td>\n",
              "      <td>1</td>\n",
              "    </tr>\n",
              "    <tr>\n",
              "      <th>1452</th>\n",
              "      <td>No suspicious appearing lung nodules identified. Findings compatible with right apical chronic inflammatory change. No acute airspace process or pleural effusion. Stable mediastinal contour. No XXXX acute abnormalities since the previous chest radiograph.</td>\n",
              "      <td>normal</td>\n",
              "      <td>1</td>\n",
              "    </tr>\n",
              "    <tr>\n",
              "      <th>844</th>\n",
              "      <td></td>\n",
              "      <td>normal</td>\n",
              "      <td>1</td>\n",
              "    </tr>\n",
              "    <tr>\n",
              "      <th>145</th>\n",
              "      <td>Lungs are hyper expanded consistent with COPD. No parenchymal infiltrates. No XXXX of pleural effusions. Normal heart size. No XXXX of acute cardiopulmonary disease, unchanged.</td>\n",
              "      <td>abnormal</td>\n",
              "      <td>0</td>\n",
              "    </tr>\n",
              "    <tr>\n",
              "      <th>1964</th>\n",
              "      <td>No pneumonia. Heart size normal. Scoliosis.</td>\n",
              "      <td>abnormal</td>\n",
              "      <td>0</td>\n",
              "    </tr>\n",
              "    <tr>\n",
              "      <th>3002</th>\n",
              "      <td>The heart is normal in size. The mediastinum is stable. XXXX sternotomy changes are again noted. The lungs are clear of focal infiltrates. There is no pleural effusion. No acute disease.</td>\n",
              "      <td>normal</td>\n",
              "      <td>1</td>\n",
              "    </tr>\n",
              "    <tr>\n",
              "      <th>3000</th>\n",
              "      <td>Normal heart size. No focal air space consolidation, pneumothorax, pleural effusion, or pulmonary edema. Anterior osteophytes of the thoracic spine. No acute cardiopulmonary disease.</td>\n",
              "      <td>abnormal</td>\n",
              "      <td>0</td>\n",
              "    </tr>\n",
              "    <tr>\n",
              "      <th>523</th>\n",
              "      <td>Ribs are intact with no fractures or bone destruction. Both lungs remain clear and expanded. Heart and mediastinum are normal. 1. Left and right ribs. Negative for fracture. 2. Chest. No evidence for cardiopulmonary injury.</td>\n",
              "      <td>normal</td>\n",
              "      <td>1</td>\n",
              "    </tr>\n",
              "    <tr>\n",
              "      <th>3838</th>\n",
              "      <td>Heart size is normal and the lungs are clear. No fibrosis. No nodules or masses. Please XXXX XXXX XXXX XXXX XXXX to be followed up as per history</td>\n",
              "      <td>normal</td>\n",
              "      <td>1</td>\n",
              "    </tr>\n",
              "    <tr>\n",
              "      <th>1911</th>\n",
              "      <td>There are T-spine osteophytes. The cardiomediastinal silhouette and pulmonary vasculature are within normal limits. There is no pneumothorax or pleural effusion. There are no focal areas of consolidation. No acute cardiopulmonary abnormality.</td>\n",
              "      <td>abnormal</td>\n",
              "      <td>0</td>\n",
              "    </tr>\n",
              "    <tr>\n",
              "      <th>3696</th>\n",
              "      <td>The heart is normal in size. The mediastinum is unremarkable. The lungs are hypoinflated but clear. No acute disease.</td>\n",
              "      <td>abnormal</td>\n",
              "      <td>0</td>\n",
              "    </tr>\n",
              "    <tr>\n",
              "      <th>1032</th>\n",
              "      <td>No focal lung opacity, pleural effusion or pneumothorax. Cardiomediastinal silhouette is unremarkable. No focal lung opacity, pleural effusion of pneumothorax.</td>\n",
              "      <td>normal</td>\n",
              "      <td>1</td>\n",
              "    </tr>\n",
              "    <tr>\n",
              "      <th>2971</th>\n",
              "      <td>Heart size and pulmonary vascularity appear within normal limits. The lungs are free of focal airspace disease. No pleural effusion or pneumothorax is seen. Vascular calcification is noted. No adenopathy is seen. 1. No evidence of active disease.</td>\n",
              "      <td>abnormal</td>\n",
              "      <td>0</td>\n",
              "    </tr>\n",
              "    <tr>\n",
              "      <th>2659</th>\n",
              "      <td>The lungs are clear bilaterally. Specifically, no evidence of focal consolidation, pneumothorax, or pleural effusion.. Cardio mediastinal silhouette is unremarkable. Stable XXXX foreign body over the left breast (XXXX nipple piercing). Visualized osseous structures of the thorax are without acute abnormality. No acute cardiopulmonary abnormality.</td>\n",
              "      <td>abnormal</td>\n",
              "      <td>0</td>\n",
              "    </tr>\n",
              "    <tr>\n",
              "      <th>576</th>\n",
              "      <td>In the interval, bibasilar interstitial infiltrates and pulmonary venous engorgement have resolved. Heart size is now normal. No XXXX infiltrates. Chest. Resolving pulmonary interstitial edema and pulmonary venous hypertension.</td>\n",
              "      <td>normal</td>\n",
              "      <td>1</td>\n",
              "    </tr>\n",
              "    <tr>\n",
              "      <th>3902</th>\n",
              "      <td>Lungs are clear. There is no pneumothorax or pleural effusion. Calcified left suprahilar XXXX. The heart and mediastinum are within normal limits. Bony structures are intact. No acute cardiopulmonary process.</td>\n",
              "      <td>abnormal</td>\n",
              "      <td>0</td>\n",
              "    </tr>\n",
              "    <tr>\n",
              "      <th>1611</th>\n",
              "      <td>Heart size is normal lungs are clear. No evidence of tuberculosis. Minimal scoliosis.</td>\n",
              "      <td>abnormal</td>\n",
              "      <td>0</td>\n",
              "    </tr>\n",
              "    <tr>\n",
              "      <th>939</th>\n",
              "      <td>Interval resolution of the left pleural effusion. Lungs are grossly clear. Postsurgical changes from CABG are noted. No pneumothorax or pleural effusion. No acute bony abnormalities are visualized. No acute cardiopulmonary abnormality.</td>\n",
              "      <td>normal</td>\n",
              "      <td>1</td>\n",
              "    </tr>\n",
              "    <tr>\n",
              "      <th>2653</th>\n",
              "      <td>Normal cardiac contour. Clear hyperexpanded lungs bilaterally with no pneumothorax or pleural effusion. 1. No acute cardiopulmonary abnormalities.</td>\n",
              "      <td>abnormal</td>\n",
              "      <td>0</td>\n",
              "    </tr>\n",
              "    <tr>\n",
              "      <th>2963</th>\n",
              "      <td>The lungs are clear without focal consolidation, effusion, or pneumothorax. Normal heart size. Degenerative changes of the thoracic spine. Negative for acute cardiopulmonary abnormality.</td>\n",
              "      <td>abnormal</td>\n",
              "      <td>0</td>\n",
              "    </tr>\n",
              "    <tr>\n",
              "      <th>2711</th>\n",
              "      <td>Normal heart size and mediastinal contours. Calcified aortic XXXX. No focal airspace consolidation. No pleural effusion or pneumothorax. Visualized osseous structures are unremarkable appearance. No acute or XXXX pulmonary abnormality.</td>\n",
              "      <td>abnormal</td>\n",
              "      <td>0</td>\n",
              "    </tr>\n",
              "    <tr>\n",
              "      <th>2409</th>\n",
              "      <td>Chest: The heart size and cardiomediastinal silhouette are normal. The lungs are clear without focal airspace opacity, pleural effusion, or pneumothorax. The osseous structures are intact. Left knee: There is no fracture-dislocation. There are degenerative changes with medial compartment osteophytes. There is no suprapatellar effusion. There is a XXXX. Chest: No acute cardiopulmonary finding. Left knee: Minimal degenerative changes, however no acute bony abnormality.</td>\n",
              "      <td>normal</td>\n",
              "      <td>1</td>\n",
              "    </tr>\n",
              "    <tr>\n",
              "      <th>591</th>\n",
              "      <td></td>\n",
              "      <td>normal</td>\n",
              "      <td>1</td>\n",
              "    </tr>\n",
              "    <tr>\n",
              "      <th>2649</th>\n",
              "      <td>Patient is slightly rotated. Normal heart size. There is no pulmonary edema. There is no focal consolidation. There are no XXXX of a pleural effusion. There is no evidence of pneumothorax. There is no evidence of acute cardiopulmonary disease. .</td>\n",
              "      <td>abnormal</td>\n",
              "      <td>0</td>\n",
              "    </tr>\n",
              "    <tr>\n",
              "      <th>763</th>\n",
              "      <td>Cardiac and mediastinal contours are within normal limits. Prior granulomatous disease. The lungs are otherwise clear. Bony structures are intact. NO acute preoperative findings.</td>\n",
              "      <td>abnormal</td>\n",
              "      <td>0</td>\n",
              "    </tr>\n",
              "    <tr>\n",
              "      <th>628</th>\n",
              "      <td>Heart size within normal limits. No focal alveolar consolidation, no definite pleural effusion seen. No typical findings of pulmonary edema. No pneumothorax. No acute cardiopulmonary findings</td>\n",
              "      <td>abnormal</td>\n",
              "      <td>0</td>\n",
              "    </tr>\n",
              "    <tr>\n",
              "      <th>3941</th>\n",
              "      <td>The heart size and cardiomediastinal silhouette are within normal limits. Pulmonary vasculature appears normal. There is no focal air space consolidation. No pleural effusion or pneumothorax. Very mild S-shaped curvature of the thoracic spine. No displaced, acute fractures are identified.</td>\n",
              "      <td>abnormal</td>\n",
              "      <td>0</td>\n",
              "    </tr>\n",
              "    <tr>\n",
              "      <th>616</th>\n",
              "      <td>Cardiac and mediastinal contours are within normal limits. Prior granulomatous disease. The lungs are otherwise clear. Bony structures are intact. No acute findings.</td>\n",
              "      <td>abnormal</td>\n",
              "      <td>0</td>\n",
              "    </tr>\n",
              "    <tr>\n",
              "      <th>2856</th>\n",
              "      <td>The heart size and mediastinal silhouette are within normal limits. No pneumothorax or pleural effusions. The lungs are clear. No focal consolidations. The osseous structures are intact. Calcification in the right upper quadrant of the abdomen XXXX consistent with gallstone. No acute cardiopulmonary abnormalities.</td>\n",
              "      <td>abnormal</td>\n",
              "      <td>0</td>\n",
              "    </tr>\n",
              "    <tr>\n",
              "      <th>1308</th>\n",
              "      <td>Trachea is midline. The cardiomediastinal silhouette is normal. The lungs are clear, without evidence of acute infiltrate or effusion. There is no pneumothorax. The visualized bony structures show no acute abnormalities. Lateral view reveals mild degenerative changes of the thoracic spine. No acute cardiopulmonary abnormalities.</td>\n",
              "      <td>abnormal</td>\n",
              "      <td>0</td>\n",
              "    </tr>\n",
              "    <tr>\n",
              "      <th>3913</th>\n",
              "      <td>There is an S-shaped scoliosis of the thoracic spine. Heart size and pulmonary vascularity within normal limits. No focal infiltrate, pneumothorax or pleural effusion identified. No acute cardiopulmonary disease.</td>\n",
              "      <td>abnormal</td>\n",
              "      <td>0</td>\n",
              "    </tr>\n",
              "    <tr>\n",
              "      <th>1500</th>\n",
              "      <td>Heart size and mediastinal contour normal. Lungs are clear. Pulmonary vascularity normal. No pleural effusions or pneumothoraces. Minimal degenerative changes thoracic spine. No acute cardiopulmonary process.</td>\n",
              "      <td>normal</td>\n",
              "      <td>1</td>\n",
              "    </tr>\n",
              "    <tr>\n",
              "      <th>1992</th>\n",
              "      <td>The cardiomediastinal contours are within normal limits. Pulmonary vasculature is unremarkable. There is no focal airspace opacity. No pleural effusion or pneumothorax is seen. Multiple healed bilateral rib fractures. No acute bony abnormality is identified. No acute cardiopulmonary abnormality.</td>\n",
              "      <td>abnormal</td>\n",
              "      <td>0</td>\n",
              "    </tr>\n",
              "    <tr>\n",
              "      <th>3360</th>\n",
              "      <td>Heart size and mediastinal contour are within normal limits. No focal consolidation, suspicious pulmonary opacity, large pleural effusion, or pneumothorax is identified. Again visualized is a wedge-shaped XXXX fracture of T12. 1. No acute cardiopulmonary abnormality. 2. Wedge-shaped XXXX fracture of T12.</td>\n",
              "      <td>abnormal</td>\n",
              "      <td>0</td>\n",
              "    </tr>\n",
              "    <tr>\n",
              "      <th>2964</th>\n",
              "      <td>The lungs are clear. The heart and pulmonary XXXX are normal. Pleural spaces are clear. The mediastinal contours are normal. There is calcification of the thoracic aorta. No acute cardiopulmonary disease. No evidence of pneumonia.</td>\n",
              "      <td>abnormal</td>\n",
              "      <td>0</td>\n",
              "    </tr>\n",
              "    <tr>\n",
              "      <th>2514</th>\n",
              "      <td>Lungs are clear. No pleural effusions or pneumothoraces. Heart and mediastinum of normal size and contour. Degenerative changes in the thoracic spine. Clear lungs.</td>\n",
              "      <td>abnormal</td>\n",
              "      <td>0</td>\n",
              "    </tr>\n",
              "    <tr>\n",
              "      <th>470</th>\n",
              "      <td>Lungs are clear without focal consolidation, effusion, or pneumothorax. Hyperinflated lungs. Cardiomegaly. Bony thorax and soft tissues grossly unremarkable Cardiomegaly without acute cardiopulmonary abnormality.</td>\n",
              "      <td>abnormal</td>\n",
              "      <td>0</td>\n",
              "    </tr>\n",
              "    <tr>\n",
              "      <th>1348</th>\n",
              "      <td>The cardiac contours are normal. The lungs are clear. Thoracic spondylosis. No acute preoperative findings.</td>\n",
              "      <td>abnormal</td>\n",
              "      <td>0</td>\n",
              "    </tr>\n",
              "    <tr>\n",
              "      <th>953</th>\n",
              "      <td></td>\n",
              "      <td>normal</td>\n",
              "      <td>1</td>\n",
              "    </tr>\n",
              "    <tr>\n",
              "      <th>1863</th>\n",
              "      <td>No focal consolidation, suspicious pulmonary opacity or definite pleural effusion. Heart size and pulmonary vascularity within normal limits. Stable mediastinal contour. Calcified hilar lymph XXXX. Visualized osseous structures unremarkable. No acute cardiopulmonary abnormality.</td>\n",
              "      <td>abnormal</td>\n",
              "      <td>0</td>\n",
              "    </tr>\n",
              "    <tr>\n",
              "      <th>834</th>\n",
              "      <td>The heart size is normal. The mediastinal contour is within normal limits. The lungs are free of any focal infiltrates. There are no nodules or masses. No visible pneumothorax. No visible pleural fluid. The XXXX are grossly normal. There is no visible free intraperitoneal air under the diaphragm. Surgical clips are seen the right upper quadrant. 1. No acute radiographic cardiopulmonary process.</td>\n",
              "      <td>abnormal</td>\n",
              "      <td>0</td>\n",
              "    </tr>\n",
              "    <tr>\n",
              "      <th>1431</th>\n",
              "      <td>The lungs are clear bilaterally. Specifically, no evidence of focal consolidation, pneumothorax, or pleural effusion.. Cardio mediastinal silhouette is unremarkable. Visualized osseous structures of the thorax demonstrate stable, mild multilevel thoracolumbar degenerative disc disease without acute abnormality. Upper abdominal midline surgical sutures are likewise stable. No acute cardiopulmonary abnormality..</td>\n",
              "      <td>abnormal</td>\n",
              "      <td>0</td>\n",
              "    </tr>\n",
              "    <tr>\n",
              "      <th>524</th>\n",
              "      <td>The cardiac and mediastinal silhouettes are unremarkable. The lungs are well expanded and clear. There are no focal air space opacities. There is no pneumothorax or effusion. There are mild degenerative changes of the thoracic spine. No evidence of acute cardiopulmonary process. Stable appearance of the chest.</td>\n",
              "      <td>normal</td>\n",
              "      <td>1</td>\n",
              "    </tr>\n",
              "    <tr>\n",
              "      <th>822</th>\n",
              "      <td>The XXXX examination consists of frontal and lateral radiographs of the chest. Cardiac silhouette is at top limits of normal. Aortic and mediastinal contours are within normal limits. Pulmonary vascularity is within normal limits. No focal consolidation, pleural effusion, or pneumothorax identified. Partially visualized ORIF XXXX involving the left proximal humerus. Deformity of the left distal clavicle compatible with remote XXXX. No displaced rib fractures on this chest examination. No evidence of acute cardiopulmonary process.</td>\n",
              "      <td>normal</td>\n",
              "      <td>1</td>\n",
              "    </tr>\n",
              "    <tr>\n",
              "      <th>1582</th>\n",
              "      <td>Cardiomediastinal silhouettes are within normal limits. Lungs are hyperexpanded. Lungs are clear without focal consolidation, pneumothorax, or pleural effusion. Bony thorax is unremarkable. No acute cardiopulmonary abnormalities.</td>\n",
              "      <td>abnormal</td>\n",
              "      <td>0</td>\n",
              "    </tr>\n",
              "    <tr>\n",
              "      <th>3196</th>\n",
              "      <td>The lungs are clear. Heart and pulmonary XXXX appear normal. The pleural spaces are clear and mediastinal contours are normal. Nodular density overlying the anterior left 4th rib XXXX represents a healing rib fracture. 1. No acute cardiopulmonary disease</td>\n",
              "      <td>normal</td>\n",
              "      <td>1</td>\n",
              "    </tr>\n",
              "    <tr>\n",
              "      <th>3208</th>\n",
              "      <td>Frontal and lateral views of the chest with overlying external cardiac monitor leads show normal size and configuration of the cardiac silhouette. Normal pulmonary vasculature and central airways. No focal airspace consolidation or pleural effusion. No acute or active cardiac, pulmonary or pleural disease.</td>\n",
              "      <td>abnormal</td>\n",
              "      <td>0</td>\n",
              "    </tr>\n",
              "  </tbody>\n",
              "</table>\n",
              "</div>\n",
              "      <button class=\"colab-df-convert\" onclick=\"convertToInteractive('df-cd529794-7f7d-4152-98c8-d7192f3b0676')\"\n",
              "              title=\"Convert this dataframe to an interactive table.\"\n",
              "              style=\"display:none;\">\n",
              "        \n",
              "  <svg xmlns=\"http://www.w3.org/2000/svg\" height=\"24px\"viewBox=\"0 0 24 24\"\n",
              "       width=\"24px\">\n",
              "    <path d=\"M0 0h24v24H0V0z\" fill=\"none\"/>\n",
              "    <path d=\"M18.56 5.44l.94 2.06.94-2.06 2.06-.94-2.06-.94-.94-2.06-.94 2.06-2.06.94zm-11 1L8.5 8.5l.94-2.06 2.06-.94-2.06-.94L8.5 2.5l-.94 2.06-2.06.94zm10 10l.94 2.06.94-2.06 2.06-.94-2.06-.94-.94-2.06-.94 2.06-2.06.94z\"/><path d=\"M17.41 7.96l-1.37-1.37c-.4-.4-.92-.59-1.43-.59-.52 0-1.04.2-1.43.59L10.3 9.45l-7.72 7.72c-.78.78-.78 2.05 0 2.83L4 21.41c.39.39.9.59 1.41.59.51 0 1.02-.2 1.41-.59l7.78-7.78 2.81-2.81c.8-.78.8-2.07 0-2.86zM5.41 20L4 18.59l7.72-7.72 1.47 1.35L5.41 20z\"/>\n",
              "  </svg>\n",
              "      </button>\n",
              "      \n",
              "  <style>\n",
              "    .colab-df-container {\n",
              "      display:flex;\n",
              "      flex-wrap:wrap;\n",
              "      gap: 12px;\n",
              "    }\n",
              "\n",
              "    .colab-df-convert {\n",
              "      background-color: #E8F0FE;\n",
              "      border: none;\n",
              "      border-radius: 50%;\n",
              "      cursor: pointer;\n",
              "      display: none;\n",
              "      fill: #1967D2;\n",
              "      height: 32px;\n",
              "      padding: 0 0 0 0;\n",
              "      width: 32px;\n",
              "    }\n",
              "\n",
              "    .colab-df-convert:hover {\n",
              "      background-color: #E2EBFA;\n",
              "      box-shadow: 0px 1px 2px rgba(60, 64, 67, 0.3), 0px 1px 3px 1px rgba(60, 64, 67, 0.15);\n",
              "      fill: #174EA6;\n",
              "    }\n",
              "\n",
              "    [theme=dark] .colab-df-convert {\n",
              "      background-color: #3B4455;\n",
              "      fill: #D2E3FC;\n",
              "    }\n",
              "\n",
              "    [theme=dark] .colab-df-convert:hover {\n",
              "      background-color: #434B5C;\n",
              "      box-shadow: 0px 1px 3px 1px rgba(0, 0, 0, 0.15);\n",
              "      filter: drop-shadow(0px 1px 2px rgba(0, 0, 0, 0.3));\n",
              "      fill: #FFFFFF;\n",
              "    }\n",
              "  </style>\n",
              "\n",
              "      <script>\n",
              "        const buttonEl =\n",
              "          document.querySelector('#df-cd529794-7f7d-4152-98c8-d7192f3b0676 button.colab-df-convert');\n",
              "        buttonEl.style.display =\n",
              "          google.colab.kernel.accessAllowed ? 'block' : 'none';\n",
              "\n",
              "        async function convertToInteractive(key) {\n",
              "          const element = document.querySelector('#df-cd529794-7f7d-4152-98c8-d7192f3b0676');\n",
              "          const dataTable =\n",
              "            await google.colab.kernel.invokeFunction('convertToInteractive',\n",
              "                                                     [key], {});\n",
              "          if (!dataTable) return;\n",
              "\n",
              "          const docLinkHtml = 'Like what you see? Visit the ' +\n",
              "            '<a target=\"_blank\" href=https://colab.research.google.com/notebooks/data_table.ipynb>data table notebook</a>'\n",
              "            + ' to learn more about interactive tables.';\n",
              "          element.innerHTML = '';\n",
              "          dataTable['output_type'] = 'display_data';\n",
              "          await google.colab.output.renderOutput(dataTable, element);\n",
              "          const docLink = document.createElement('div');\n",
              "          docLink.innerHTML = docLinkHtml;\n",
              "          element.appendChild(docLink);\n",
              "        }\n",
              "      </script>\n",
              "    </div>\n",
              "  </div>\n",
              "  "
            ]
          },
          "metadata": {},
          "execution_count": 43
        }
      ]
    },
    {
      "cell_type": "markdown",
      "metadata": {
        "id": "Am8WBe6_dl5q"
      },
      "source": [
        "# References\n",
        "\n",
        "[1] Demner-Fuhshman D, Kohli MD, Rosenman MB, Shooshan SE, Rodriguez L, Antani S, Thoma GR, McDonald CJ. \"Preparing a collection of radiology examinations for distribution and retrieval\". J. Am. Med. Inform. Assoc. 2016. 23(2). 304-310. https://doi.org/10.1093/jamia/ocv080\n",
        "\n",
        "[2] Wiggins WF, Kitamura F, Santos I, Prevedello L. \"Natural Language Processing of Radiology Text Reports: Interactive Text Classification\". Radiol. Artif. Intell. 2021. 3(4). https://doi.org/10.1148/ryai.2021210035\n",
        "\n",
        "#Further Reading\n",
        "Jurafsky D, Martin JH. \"Speech and Language Processing. An Introduction to Natural Language Processing, Computational Linguistics, and Speech Recognition\". Draft. 3ed. September 21, 2021.\n",
        "\n",
        "Pons E, Braun LM M, Hunink MG Myriam, Kors JA. \"Natural Language Processing in Radiology: A Systematic Review\". Radiology. 2016. 279(2). 329-343.\n",
        "\n",
        "Sorin V, Barash Y, Konen E, Klang E. \"Deep Learning for Natural Language Processing in Radiology - Fundamentals and a Systematic Review\". J. Am. Coll. Radiol. 2020. 17(5). 639-648.\n",
        "\n",
        "Mozayan A, Fabbri AR, Maneevese M, Tocino I, Chheang Sophie. \"Practical Guide to Natural Language Processing for Radiology\". Radiographics. 2021. 41(5). 1446-1453."
      ]
    },
    {
      "cell_type": "markdown",
      "source": [
        "##Additional Updates:"
      ],
      "metadata": {
        "id": "0L4B6w6v_P5B"
      }
    },
    {
      "cell_type": "markdown",
      "source": [
        "### Analyzing the Words in Different Classes"
      ],
      "metadata": {
        "id": "HTjvuvYpqi9k"
      }
    },
    {
      "cell_type": "code",
      "source": [
        "!pip install wordcloud > /dev/null"
      ],
      "metadata": {
        "id": "pMiuOCkeSHGg"
      },
      "execution_count": null,
      "outputs": []
    },
    {
      "cell_type": "code",
      "source": [
        "from wordcloud import WordCloud\n",
        "import matplotlib.pyplot as plt\n",
        "\n",
        "abnormal_array = np.array(reports_df[reports_df['label'] == \"abnormal\"][\"full-text\"])\n",
        "\n",
        "abnormal_text_mass = ' '.join(abnormal_array)\n",
        "\n",
        "# Create a WordCloud object\n",
        "wordcloud = WordCloud(width=1600, height=1600, background_color='white', max_words=50)\n",
        "\n",
        "# Generate the word cloud\n",
        "wordcloud.generate(abnormal_text_mass)\n",
        "\n",
        "# Display the word cloud\n",
        "plt.imshow(wordcloud, interpolation='bilinear')\n",
        "plt.axis('off')\n",
        "plt.show()"
      ],
      "metadata": {
        "colab": {
          "base_uri": "https://localhost:8080/",
          "height": 406
        },
        "id": "VC2zgjDmSOM3",
        "outputId": "bba3cdde-a356-4dd9-e560-ce00c5c1498d"
      },
      "execution_count": null,
      "outputs": [
        {
          "output_type": "display_data",
          "data": {
            "text/plain": [
              "<Figure size 640x480 with 1 Axes>"
            ],
            "image/png": "[encoded data removed]"
          },
          "metadata": {}
        }
      ]
    },
    {
      "cell_type": "code",
      "source": [
        "from collections import Counter\n",
        "import matplotlib.pyplot as plt\n",
        "\n",
        "abnormal_words = abnormal_text_mass.lower().split()\n",
        "\n",
        "# count the frequency of each word in normal_words\n",
        "abnormal_word_counts = Counter(abnormal_words)\n",
        "\n",
        "# get the 10 most common words and their counts\n",
        "abnormal_top_words = abnormal_word_counts.most_common(10)\n",
        "\n",
        "# extract the words and their counts as separate lists\n",
        "abnormal_words = [word for word, count in abnormal_top_words]\n",
        "abnormal_counts = [count for word, count in abnormal_top_words]\n",
        "\n",
        "# create a bar plot of the top words and their counts\n",
        "plt.bar(abnormal_words, abnormal_counts)\n",
        "plt.title('Most Common Words in Abnormal Text')\n",
        "plt.xlabel('Word')\n",
        "plt.ylabel('Count')\n",
        "plt.show()"
      ],
      "metadata": {
        "colab": {
          "base_uri": "https://localhost:8080/",
          "height": 472
        },
        "id": "LsCxk8A0U8uN",
        "outputId": "6e348649-245b-4d7f-8f0e-ab7851d3fdc0"
      },
      "execution_count": null,
      "outputs": [
        {
          "output_type": "display_data",
          "data": {
            "text/plain": [
              "<Figure size 640x480 with 1 Axes>"
            ],
            "image/png": "[encoded data removed]"
          },
          "metadata": {}
        }
      ]
    },
    {
      "cell_type": "code",
      "source": [
        "normal_array = np.array(reports_df[reports_df['label'] == \"normal\"][\"full-text\"])\n",
        "\n",
        "normal_text_mass = ' '.join(normal_array)\n",
        "\n",
        "# Create a WordCloud object\n",
        "wordcloud = WordCloud(width=1600, height=1600, background_color='white', max_words=50)\n",
        "\n",
        "# Generate the word cloud\n",
        "wordcloud.generate(normal_text_mass)\n",
        "\n",
        "# Display the word cloud\n",
        "plt.imshow(wordcloud, interpolation='bilinear')\n",
        "plt.axis('off')\n",
        "plt.show()"
      ],
      "metadata": {
        "colab": {
          "base_uri": "https://localhost:8080/",
          "height": 406
        },
        "id": "FUGxMTMHYnex",
        "outputId": "b94a9043-20c7-4a98-eb93-1acd7b5dd039"
      },
      "execution_count": null,
      "outputs": [
        {
          "output_type": "display_data",
          "data": {
            "text/plain": [
              "<Figure size 640x480 with 1 Axes>"
            ],
            "image/png": "[encoded data removed]"
          },
          "metadata": {}
        }
      ]
    },
    {
      "cell_type": "code",
      "source": [
        "normal_words = normal_text_mass.lower().split()\n",
        "\n",
        "# count the frequency of each word in normal_words\n",
        "word_counts = Counter(normal_words)\n",
        "\n",
        "# get the 10 most common words and their counts\n",
        "top_words = word_counts.most_common(10)\n",
        "\n",
        "# extract the words and their counts as separate lists\n",
        "words = [word for word, count in top_words]\n",
        "counts = [count for word, count in top_words]\n",
        "\n",
        "# create a bar plot of the top words and their counts\n",
        "plt.bar(words, counts)\n",
        "plt.title('Most Common Words in Normal Text')\n",
        "plt.xlabel('Word')\n",
        "plt.ylabel('Count')\n",
        "plt.show()"
      ],
      "metadata": {
        "colab": {
          "base_uri": "https://localhost:8080/",
          "height": 472
        },
        "id": "w0Y1X-bNUb-o",
        "outputId": "4ba8dcfa-dcc5-49f5-b448-2fc6f6daf988"
      },
      "execution_count": null,
      "outputs": [
        {
          "output_type": "display_data",
          "data": {
            "text/plain": [
              "<Figure size 640x480 with 1 Axes>"
            ],
            "image/png": "[encoded data removed]"
          },
          "metadata": {}
        }
      ]
    },
    {
      "cell_type": "markdown",
      "source": [
        "What are the most common words found in the misclassified data?"
      ],
      "metadata": {
        "id": "Q2V5LHlMVZ8Q"
      }
    },
    {
      "cell_type": "code",
      "source": [
        "troubleshoot_df['true']=troubleshoot_df['label'].apply(lambda x: 1 if x=='abnormal' else 0)\n",
        "misclassified_df = troubleshoot_df.where(troubleshoot_df['true'] != troubleshoot_df['nb'])\n",
        "misclassified_array = np.array(misclassified_df[\"full-text\"])\n",
        "misclassified_text_mass = ' '.join(misclassified_array)\n",
        "\n",
        "misclassified_words = misclassified_text_mass.lower().split()\n",
        "\n",
        "# count the frequency of each word in misclassified_words\n",
        "misclassified_word_counts = Counter(misclassified_words)\n",
        "\n",
        "# get the 10 most common words and their counts\n",
        "misclassified_top_words = misclassified_word_counts.most_common(10)\n",
        "\n",
        "# extract the words and their counts as separate lists\n",
        "misclassified_words = [word for word, count in misclassified_top_words]\n",
        "misclassified_counts = [count for word, count in misclassified_top_words]\n",
        "\n",
        "# create a bar plot of the top words and their counts\n",
        "plt.bar(misclassified_words, misclassified_counts)\n",
        "plt.title('Most Common Words in Misclassified Text')\n",
        "plt.xlabel('Word')\n",
        "plt.ylabel('Count')\n",
        "plt.show()"
      ],
      "metadata": {
        "colab": {
          "base_uri": "https://localhost:8080/",
          "height": 472
        },
        "id": "wi5afMfVVgEh",
        "outputId": "1b6d52dd-bd42-4a76-b4ea-76c33fbd00d6"
      },
      "execution_count": null,
      "outputs": [
        {
          "output_type": "display_data",
          "data": {
            "text/plain": [
              "<Figure size 640x480 with 1 Axes>"
            ],
            "image/png": "[encoded data removed]"
          },
          "metadata": {}
        }
      ]
    },
    {
      "cell_type": "markdown",
      "source": [
        "###Implementing QDA and LDA and comparing them to the NB and SVM Models:"
      ],
      "metadata": {
        "id": "FTEe-u3ZqXTE"
      }
    },
    {
      "cell_type": "code",
      "source": [
        "from sklearn.discriminant_analysis import QuadraticDiscriminantAnalysis\n",
        "\n",
        "qda = QuadraticDiscriminantAnalysis()\n",
        "qda.fit(x_train_tfidf.toarray(),y_train)"
      ],
      "metadata": {
        "colab": {
          "base_uri": "https://localhost:8080/",
          "height": 110
        },
        "id": "PP3c3AlxfQHT",
        "outputId": "e13b2541-d247-459b-efda-69fb7308454d"
      },
      "execution_count": null,
      "outputs": [
        {
          "output_type": "stream",
          "name": "stderr",
          "text": [
            "/usr/local/lib/python3.9/dist-packages/sklearn/discriminant_analysis.py:926: UserWarning: Variables are collinear\n",
            "  warnings.warn(\"Variables are collinear\")\n"
          ]
        },
        {
          "output_type": "execute_result",
          "data": {
            "text/plain": [
              "QuadraticDiscriminantAnalysis()"
            ],
            "text/html": [
              "<style>#sk-container-id-8 {color: black;background-color: white;}#sk-container-id-8 pre{padding: 0;}#sk-container-id-8 div.sk-toggleable {background-color: white;}#sk-container-id-8 label.sk-toggleable__label {cursor: pointer;display: block;width: 100%;margin-bottom: 0;padding: 0.3em;box-sizing: border-box;text-align: center;}#sk-container-id-8 label.sk-toggleable__label-arrow:before {content: \"▸\";float: left;margin-right: 0.25em;color: #696969;}#sk-container-id-8 label.sk-toggleable__label-arrow:hover:before {color: black;}#sk-container-id-8 div.sk-estimator:hover label.sk-toggleable__label-arrow:before {color: black;}#sk-container-id-8 div.sk-toggleable__content {max-height: 0;max-width: 0;overflow: hidden;text-align: left;background-color: #f0f8ff;}#sk-container-id-8 div.sk-toggleable__content pre {margin: 0.2em;color: black;border-radius: 0.25em;background-color: #f0f8ff;}#sk-container-id-8 input.sk-toggleable__control:checked~div.sk-toggleable__content {max-height: 200px;max-width: 100%;overflow: auto;}#sk-container-id-8 input.sk-toggleable__control:checked~label.sk-toggleable__label-arrow:before {content: \"▾\";}#sk-container-id-8 div.sk-estimator input.sk-toggleable__control:checked~label.sk-toggleable__label {background-color: #d4ebff;}#sk-container-id-8 div.sk-label input.sk-toggleable__control:checked~label.sk-toggleable__label {background-color: #d4ebff;}#sk-container-id-8 input.sk-hidden--visually {border: 0;clip: rect(1px 1px 1px 1px);clip: rect(1px, 1px, 1px, 1px);height: 1px;margin: -1px;overflow: hidden;padding: 0;position: absolute;width: 1px;}#sk-container-id-8 div.sk-estimator {font-family: monospace;background-color: #f0f8ff;border: 1px dotted black;border-radius: 0.25em;box-sizing: border-box;margin-bottom: 0.5em;}#sk-container-id-8 div.sk-estimator:hover {background-color: #d4ebff;}#sk-container-id-8 div.sk-parallel-item::after {content: \"\";width: 100%;border-bottom: 1px solid gray;flex-grow: 1;}#sk-container-id-8 div.sk-label:hover label.sk-toggleable__label {background-color: #d4ebff;}#sk-container-id-8 div.sk-serial::before {content: \"\";position: absolute;border-left: 1px solid gray;box-sizing: border-box;top: 0;bottom: 0;left: 50%;z-index: 0;}#sk-container-id-8 div.sk-serial {display: flex;flex-direction: column;align-items: center;background-color: white;padding-right: 0.2em;padding-left: 0.2em;position: relative;}#sk-container-id-8 div.sk-item {position: relative;z-index: 1;}#sk-container-id-8 div.sk-parallel {display: flex;align-items: stretch;justify-content: center;background-color: white;position: relative;}#sk-container-id-8 div.sk-item::before, #sk-container-id-8 div.sk-parallel-item::before {content: \"\";position: absolute;border-left: 1px solid gray;box-sizing: border-box;top: 0;bottom: 0;left: 50%;z-index: -1;}#sk-container-id-8 div.sk-parallel-item {display: flex;flex-direction: column;z-index: 1;position: relative;background-color: white;}#sk-container-id-8 div.sk-parallel-item:first-child::after {align-self: flex-end;width: 50%;}#sk-container-id-8 div.sk-parallel-item:last-child::after {align-self: flex-start;width: 50%;}#sk-container-id-8 div.sk-parallel-item:only-child::after {width: 0;}#sk-container-id-8 div.sk-dashed-wrapped {border: 1px dashed gray;margin: 0 0.4em 0.5em 0.4em;box-sizing: border-box;padding-bottom: 0.4em;background-color: white;}#sk-container-id-8 div.sk-label label {font-family: monospace;font-weight: bold;display: inline-block;line-height: 1.2em;}#sk-container-id-8 div.sk-label-container {text-align: center;}#sk-container-id-8 div.sk-container {/* jupyter's `normalize.less` sets `[hidden] { display: none; }` but bootstrap.min.css set `[hidden] { display: none !important; }` so we also need the `!important` here to be able to override the default hidden behavior on the sphinx rendered scikit-learn.org. See: https://github.com/scikit-learn/scikit-learn/issues/21755 */display: inline-block !important;position: relative;}#sk-container-id-8 div.sk-text-repr-fallback {display: none;}</style><div id=\"sk-container-id-8\" class=\"sk-top-container\"><div class=\"sk-text-repr-fallback\"><pre>QuadraticDiscriminantAnalysis()</pre><b>In a Jupyter environment, please rerun this cell to show the HTML representation or trust the notebook. <br />On GitHub, the HTML representation is unable to render, please try loading this page with nbviewer.org.</b></div><div class=\"sk-container\" hidden><div class=\"sk-item\"><div class=\"sk-estimator sk-toggleable\"><input class=\"sk-toggleable__control sk-hidden--visually\" id=\"sk-estimator-id-8\" type=\"checkbox\" checked><label for=\"sk-estimator-id-8\" class=\"sk-toggleable__label sk-toggleable__label-arrow\">QuadraticDiscriminantAnalysis</label><div class=\"sk-toggleable__content\"><pre>QuadraticDiscriminantAnalysis()</pre></div></div></div></div></div>"
            ]
          },
          "metadata": {},
          "execution_count": 135
        }
      ]
    },
    {
      "cell_type": "code",
      "source": [
        "test_tokens = token_generator(test_text)\n",
        "qda_predictions = list()\n",
        "\n",
        "for token in test_tokens:\n",
        "  test_sparse_vector = sparse_vector_create(train_vocab_dict.doc2bow(token),len(train_vocab_dict))\n",
        "  x_test_tfidf = tfidf.transform(test_sparse_vector.reshape(1,-1))\n",
        "  qda_predictions.append(qda.predict(x_test_tfidf.toarray())[0])"
      ],
      "metadata": {
        "id": "u4lNFN9MfTM5"
      },
      "execution_count": null,
      "outputs": []
    },
    {
      "cell_type": "code",
      "source": [
        "from sklearn.discriminant_analysis import LinearDiscriminantAnalysis\n",
        "\n",
        "lda = LinearDiscriminantAnalysis()\n",
        "lda.fit(x_train_tfidf.toarray(),y_train)"
      ],
      "metadata": {
        "colab": {
          "base_uri": "https://localhost:8080/",
          "height": 75
        },
        "id": "6oTo55dohEpX",
        "outputId": "d7dd4376-5f2d-4ebb-f41b-c75815fa700f"
      },
      "execution_count": null,
      "outputs": [
        {
          "output_type": "execute_result",
          "data": {
            "text/plain": [
              "LinearDiscriminantAnalysis()"
            ],
            "text/html": [
              "<style>#sk-container-id-4 {color: black;background-color: white;}#sk-container-id-4 pre{padding: 0;}#sk-container-id-4 div.sk-toggleable {background-color: white;}#sk-container-id-4 label.sk-toggleable__label {cursor: pointer;display: block;width: 100%;margin-bottom: 0;padding: 0.3em;box-sizing: border-box;text-align: center;}#sk-container-id-4 label.sk-toggleable__label-arrow:before {content: \"▸\";float: left;margin-right: 0.25em;color: #696969;}#sk-container-id-4 label.sk-toggleable__label-arrow:hover:before {color: black;}#sk-container-id-4 div.sk-estimator:hover label.sk-toggleable__label-arrow:before {color: black;}#sk-container-id-4 div.sk-toggleable__content {max-height: 0;max-width: 0;overflow: hidden;text-align: left;background-color: #f0f8ff;}#sk-container-id-4 div.sk-toggleable__content pre {margin: 0.2em;color: black;border-radius: 0.25em;background-color: #f0f8ff;}#sk-container-id-4 input.sk-toggleable__control:checked~div.sk-toggleable__content {max-height: 200px;max-width: 100%;overflow: auto;}#sk-container-id-4 input.sk-toggleable__control:checked~label.sk-toggleable__label-arrow:before {content: \"▾\";}#sk-container-id-4 div.sk-estimator input.sk-toggleable__control:checked~label.sk-toggleable__label {background-color: #d4ebff;}#sk-container-id-4 div.sk-label input.sk-toggleable__control:checked~label.sk-toggleable__label {background-color: #d4ebff;}#sk-container-id-4 input.sk-hidden--visually {border: 0;clip: rect(1px 1px 1px 1px);clip: rect(1px, 1px, 1px, 1px);height: 1px;margin: -1px;overflow: hidden;padding: 0;position: absolute;width: 1px;}#sk-container-id-4 div.sk-estimator {font-family: monospace;background-color: #f0f8ff;border: 1px dotted black;border-radius: 0.25em;box-sizing: border-box;margin-bottom: 0.5em;}#sk-container-id-4 div.sk-estimator:hover {background-color: #d4ebff;}#sk-container-id-4 div.sk-parallel-item::after {content: \"\";width: 100%;border-bottom: 1px solid gray;flex-grow: 1;}#sk-container-id-4 div.sk-label:hover label.sk-toggleable__label {background-color: #d4ebff;}#sk-container-id-4 div.sk-serial::before {content: \"\";position: absolute;border-left: 1px solid gray;box-sizing: border-box;top: 0;bottom: 0;left: 50%;z-index: 0;}#sk-container-id-4 div.sk-serial {display: flex;flex-direction: column;align-items: center;background-color: white;padding-right: 0.2em;padding-left: 0.2em;position: relative;}#sk-container-id-4 div.sk-item {position: relative;z-index: 1;}#sk-container-id-4 div.sk-parallel {display: flex;align-items: stretch;justify-content: center;background-color: white;position: relative;}#sk-container-id-4 div.sk-item::before, #sk-container-id-4 div.sk-parallel-item::before {content: \"\";position: absolute;border-left: 1px solid gray;box-sizing: border-box;top: 0;bottom: 0;left: 50%;z-index: -1;}#sk-container-id-4 div.sk-parallel-item {display: flex;flex-direction: column;z-index: 1;position: relative;background-color: white;}#sk-container-id-4 div.sk-parallel-item:first-child::after {align-self: flex-end;width: 50%;}#sk-container-id-4 div.sk-parallel-item:last-child::after {align-self: flex-start;width: 50%;}#sk-container-id-4 div.sk-parallel-item:only-child::after {width: 0;}#sk-container-id-4 div.sk-dashed-wrapped {border: 1px dashed gray;margin: 0 0.4em 0.5em 0.4em;box-sizing: border-box;padding-bottom: 0.4em;background-color: white;}#sk-container-id-4 div.sk-label label {font-family: monospace;font-weight: bold;display: inline-block;line-height: 1.2em;}#sk-container-id-4 div.sk-label-container {text-align: center;}#sk-container-id-4 div.sk-container {/* jupyter's `normalize.less` sets `[hidden] { display: none; }` but bootstrap.min.css set `[hidden] { display: none !important; }` so we also need the `!important` here to be able to override the default hidden behavior on the sphinx rendered scikit-learn.org. See: https://github.com/scikit-learn/scikit-learn/issues/21755 */display: inline-block !important;position: relative;}#sk-container-id-4 div.sk-text-repr-fallback {display: none;}</style><div id=\"sk-container-id-4\" class=\"sk-top-container\"><div class=\"sk-text-repr-fallback\"><pre>LinearDiscriminantAnalysis()</pre><b>In a Jupyter environment, please rerun this cell to show the HTML representation or trust the notebook. <br />On GitHub, the HTML representation is unable to render, please try loading this page with nbviewer.org.</b></div><div class=\"sk-container\" hidden><div class=\"sk-item\"><div class=\"sk-estimator sk-toggleable\"><input class=\"sk-toggleable__control sk-hidden--visually\" id=\"sk-estimator-id-4\" type=\"checkbox\" checked><label for=\"sk-estimator-id-4\" class=\"sk-toggleable__label sk-toggleable__label-arrow\">LinearDiscriminantAnalysis</label><div class=\"sk-toggleable__content\"><pre>LinearDiscriminantAnalysis()</pre></div></div></div></div></div>"
            ]
          },
          "metadata": {},
          "execution_count": 51
        }
      ]
    },
    {
      "cell_type": "code",
      "source": [
        "test_tokens = token_generator(test_text)\n",
        "lda_predictions = list()\n",
        "\n",
        "for token in test_tokens:\n",
        "  test_sparse_vector = sparse_vector_create(train_vocab_dict.doc2bow(token),len(train_vocab_dict))\n",
        "  x_test_tfidf = tfidf.transform(test_sparse_vector.reshape(1,-1))\n",
        "  lda_predictions.append(lda.predict(x_test_tfidf.toarray())[0])"
      ],
      "metadata": {
        "id": "NDrr2ux1hJSQ"
      },
      "execution_count": null,
      "outputs": []
    },
    {
      "cell_type": "code",
      "source": [
        "print(\"Linear Discriminant Analysis\")\n",
        "lda_metric = metric_calc(y_test,lda_predictions)\n",
        "lda_metric.conf_matrix_values()\n",
        "lda_metric.sens_spec()\n",
        "\n",
        "print(\"Quadratic Discriminant Analysis\")\n",
        "qda_metric = metric_calc(y_test,qda_predictions)\n",
        "qda_metric.conf_matrix_values()\n",
        "qda_metric.sens_spec()\n",
        "\n",
        "print(\"Naive Bayes\")\n",
        "nb_metric = metric_calc(y_test,nb_predictions)\n",
        "nb_metric.conf_matrix_values()\n",
        "nb_metric.sens_spec()\n",
        "\n",
        "print(\"SVM\")\n",
        "svm_metric = metric_calc(y_test,svm_predictions)\n",
        "svm_metric.conf_matrix_values()\n",
        "svm_metric.sens_spec()"
      ],
      "metadata": {
        "colab": {
          "base_uri": "https://localhost:8080/"
        },
        "id": "q9Amy8dThQVn",
        "outputId": "8a4e3a46-764d-4da9-9a7c-9a6d8805ed42"
      },
      "execution_count": null,
      "outputs": [
        {
          "output_type": "stream",
          "name": "stdout",
          "text": [
            "Linear Discriminant Analysis\n",
            "TN: 211, FP: 12, FN: 89 TP: 282\n",
            "Sensitivity (aka recall) is 0.7601\n",
            "Specificity is 0.9462\n",
            "Quadratic Discriminant Analysis\n",
            "TN: 190, FP: 33, FN: 22 TP: 349\n",
            "Sensitivity (aka recall) is 0.9407\n",
            "Specificity is 0.8520\n",
            "Naive Bayes\n",
            "TN: 206, FP: 17, FN: 39 TP: 332\n",
            "Sensitivity (aka recall) is 0.8949\n",
            "Specificity is 0.9238\n",
            "SVM\n",
            "TN: 206, FP: 17, FN: 4 TP: 367\n",
            "Sensitivity (aka recall) is 0.9892\n",
            "Specificity is 0.9238\n"
          ]
        }
      ]
    },
    {
      "cell_type": "markdown",
      "source": [
        "Since SVM seems to have the best recall, we can now evaluate whether different SVM kernels can provide us with better results. We used a linear kernel in our model, but let's investigate whether polynomial/logistic/rbf kernels could outperform the linear kernel we used. "
      ],
      "metadata": {
        "id": "VVg4qf1AIFBl"
      }
    },
    {
      "cell_type": "code",
      "source": [
        "SVM_poly = svm.SVC(C=1.0,kernel ='poly')\n",
        "SVM_poly.fit(x_train_tfidf,y_train)"
      ],
      "metadata": {
        "colab": {
          "base_uri": "https://localhost:8080/",
          "height": 75
        },
        "id": "0xNLMYIYXihK",
        "outputId": "49e9bd99-bfa3-4a13-87da-de11492de41c"
      },
      "execution_count": null,
      "outputs": [
        {
          "output_type": "execute_result",
          "data": {
            "text/plain": [
              "SVC(kernel='poly')"
            ],
            "text/html": [
              "<style>#sk-container-id-5 {color: black;background-color: white;}#sk-container-id-5 pre{padding: 0;}#sk-container-id-5 div.sk-toggleable {background-color: white;}#sk-container-id-5 label.sk-toggleable__label {cursor: pointer;display: block;width: 100%;margin-bottom: 0;padding: 0.3em;box-sizing: border-box;text-align: center;}#sk-container-id-5 label.sk-toggleable__label-arrow:before {content: \"▸\";float: left;margin-right: 0.25em;color: #696969;}#sk-container-id-5 label.sk-toggleable__label-arrow:hover:before {color: black;}#sk-container-id-5 div.sk-estimator:hover label.sk-toggleable__label-arrow:before {color: black;}#sk-container-id-5 div.sk-toggleable__content {max-height: 0;max-width: 0;overflow: hidden;text-align: left;background-color: #f0f8ff;}#sk-container-id-5 div.sk-toggleable__content pre {margin: 0.2em;color: black;border-radius: 0.25em;background-color: #f0f8ff;}#sk-container-id-5 input.sk-toggleable__control:checked~div.sk-toggleable__content {max-height: 200px;max-width: 100%;overflow: auto;}#sk-container-id-5 input.sk-toggleable__control:checked~label.sk-toggleable__label-arrow:before {content: \"▾\";}#sk-container-id-5 div.sk-estimator input.sk-toggleable__control:checked~label.sk-toggleable__label {background-color: #d4ebff;}#sk-container-id-5 div.sk-label input.sk-toggleable__control:checked~label.sk-toggleable__label {background-color: #d4ebff;}#sk-container-id-5 input.sk-hidden--visually {border: 0;clip: rect(1px 1px 1px 1px);clip: rect(1px, 1px, 1px, 1px);height: 1px;margin: -1px;overflow: hidden;padding: 0;position: absolute;width: 1px;}#sk-container-id-5 div.sk-estimator {font-family: monospace;background-color: #f0f8ff;border: 1px dotted black;border-radius: 0.25em;box-sizing: border-box;margin-bottom: 0.5em;}#sk-container-id-5 div.sk-estimator:hover {background-color: #d4ebff;}#sk-container-id-5 div.sk-parallel-item::after {content: \"\";width: 100%;border-bottom: 1px solid gray;flex-grow: 1;}#sk-container-id-5 div.sk-label:hover label.sk-toggleable__label {background-color: #d4ebff;}#sk-container-id-5 div.sk-serial::before {content: \"\";position: absolute;border-left: 1px solid gray;box-sizing: border-box;top: 0;bottom: 0;left: 50%;z-index: 0;}#sk-container-id-5 div.sk-serial {display: flex;flex-direction: column;align-items: center;background-color: white;padding-right: 0.2em;padding-left: 0.2em;position: relative;}#sk-container-id-5 div.sk-item {position: relative;z-index: 1;}#sk-container-id-5 div.sk-parallel {display: flex;align-items: stretch;justify-content: center;background-color: white;position: relative;}#sk-container-id-5 div.sk-item::before, #sk-container-id-5 div.sk-parallel-item::before {content: \"\";position: absolute;border-left: 1px solid gray;box-sizing: border-box;top: 0;bottom: 0;left: 50%;z-index: -1;}#sk-container-id-5 div.sk-parallel-item {display: flex;flex-direction: column;z-index: 1;position: relative;background-color: white;}#sk-container-id-5 div.sk-parallel-item:first-child::after {align-self: flex-end;width: 50%;}#sk-container-id-5 div.sk-parallel-item:last-child::after {align-self: flex-start;width: 50%;}#sk-container-id-5 div.sk-parallel-item:only-child::after {width: 0;}#sk-container-id-5 div.sk-dashed-wrapped {border: 1px dashed gray;margin: 0 0.4em 0.5em 0.4em;box-sizing: border-box;padding-bottom: 0.4em;background-color: white;}#sk-container-id-5 div.sk-label label {font-family: monospace;font-weight: bold;display: inline-block;line-height: 1.2em;}#sk-container-id-5 div.sk-label-container {text-align: center;}#sk-container-id-5 div.sk-container {/* jupyter's `normalize.less` sets `[hidden] { display: none; }` but bootstrap.min.css set `[hidden] { display: none !important; }` so we also need the `!important` here to be able to override the default hidden behavior on the sphinx rendered scikit-learn.org. See: https://github.com/scikit-learn/scikit-learn/issues/21755 */display: inline-block !important;position: relative;}#sk-container-id-5 div.sk-text-repr-fallback {display: none;}</style><div id=\"sk-container-id-5\" class=\"sk-top-container\"><div class=\"sk-text-repr-fallback\"><pre>SVC(kernel=&#x27;poly&#x27;)</pre><b>In a Jupyter environment, please rerun this cell to show the HTML representation or trust the notebook. <br />On GitHub, the HTML representation is unable to render, please try loading this page with nbviewer.org.</b></div><div class=\"sk-container\" hidden><div class=\"sk-item\"><div class=\"sk-estimator sk-toggleable\"><input class=\"sk-toggleable__control sk-hidden--visually\" id=\"sk-estimator-id-5\" type=\"checkbox\" checked><label for=\"sk-estimator-id-5\" class=\"sk-toggleable__label sk-toggleable__label-arrow\">SVC</label><div class=\"sk-toggleable__content\"><pre>SVC(kernel=&#x27;poly&#x27;)</pre></div></div></div></div></div>"
            ]
          },
          "metadata": {},
          "execution_count": 54
        }
      ]
    },
    {
      "cell_type": "code",
      "source": [
        "test_tokens = token_generator(test_text)\n",
        "svm_poly_predictions = list()\n",
        "\n",
        "for token in test_tokens:\n",
        "  test_sparse_vector = sparse_vector_create(train_vocab_dict.doc2bow(token),len(train_vocab_dict))\n",
        "  x_test_tfidf = tfidf.transform(test_sparse_vector.reshape(1,-1))\n",
        "  svm_poly_predictions.append(SVM_poly.predict(x_test_tfidf)[0])"
      ],
      "metadata": {
        "id": "to5cKVaxXt02"
      },
      "execution_count": null,
      "outputs": []
    },
    {
      "cell_type": "code",
      "source": [
        "SVM_rbf = svm.SVC(C=1.0,kernel ='rbf')\n",
        "SVM_rbf.fit(x_train_tfidf,y_train)"
      ],
      "metadata": {
        "colab": {
          "base_uri": "https://localhost:8080/",
          "height": 75
        },
        "id": "SmQzD-n-beWs",
        "outputId": "3dad12c1-89fc-495b-c5b1-c390c15a9db7"
      },
      "execution_count": null,
      "outputs": [
        {
          "output_type": "execute_result",
          "data": {
            "text/plain": [
              "SVC()"
            ],
            "text/html": [
              "<style>#sk-container-id-6 {color: black;background-color: white;}#sk-container-id-6 pre{padding: 0;}#sk-container-id-6 div.sk-toggleable {background-color: white;}#sk-container-id-6 label.sk-toggleable__label {cursor: pointer;display: block;width: 100%;margin-bottom: 0;padding: 0.3em;box-sizing: border-box;text-align: center;}#sk-container-id-6 label.sk-toggleable__label-arrow:before {content: \"▸\";float: left;margin-right: 0.25em;color: #696969;}#sk-container-id-6 label.sk-toggleable__label-arrow:hover:before {color: black;}#sk-container-id-6 div.sk-estimator:hover label.sk-toggleable__label-arrow:before {color: black;}#sk-container-id-6 div.sk-toggleable__content {max-height: 0;max-width: 0;overflow: hidden;text-align: left;background-color: #f0f8ff;}#sk-container-id-6 div.sk-toggleable__content pre {margin: 0.2em;color: black;border-radius: 0.25em;background-color: #f0f8ff;}#sk-container-id-6 input.sk-toggleable__control:checked~div.sk-toggleable__content {max-height: 200px;max-width: 100%;overflow: auto;}#sk-container-id-6 input.sk-toggleable__control:checked~label.sk-toggleable__label-arrow:before {content: \"▾\";}#sk-container-id-6 div.sk-estimator input.sk-toggleable__control:checked~label.sk-toggleable__label {background-color: #d4ebff;}#sk-container-id-6 div.sk-label input.sk-toggleable__control:checked~label.sk-toggleable__label {background-color: #d4ebff;}#sk-container-id-6 input.sk-hidden--visually {border: 0;clip: rect(1px 1px 1px 1px);clip: rect(1px, 1px, 1px, 1px);height: 1px;margin: -1px;overflow: hidden;padding: 0;position: absolute;width: 1px;}#sk-container-id-6 div.sk-estimator {font-family: monospace;background-color: #f0f8ff;border: 1px dotted black;border-radius: 0.25em;box-sizing: border-box;margin-bottom: 0.5em;}#sk-container-id-6 div.sk-estimator:hover {background-color: #d4ebff;}#sk-container-id-6 div.sk-parallel-item::after {content: \"\";width: 100%;border-bottom: 1px solid gray;flex-grow: 1;}#sk-container-id-6 div.sk-label:hover label.sk-toggleable__label {background-color: #d4ebff;}#sk-container-id-6 div.sk-serial::before {content: \"\";position: absolute;border-left: 1px solid gray;box-sizing: border-box;top: 0;bottom: 0;left: 50%;z-index: 0;}#sk-container-id-6 div.sk-serial {display: flex;flex-direction: column;align-items: center;background-color: white;padding-right: 0.2em;padding-left: 0.2em;position: relative;}#sk-container-id-6 div.sk-item {position: relative;z-index: 1;}#sk-container-id-6 div.sk-parallel {display: flex;align-items: stretch;justify-content: center;background-color: white;position: relative;}#sk-container-id-6 div.sk-item::before, #sk-container-id-6 div.sk-parallel-item::before {content: \"\";position: absolute;border-left: 1px solid gray;box-sizing: border-box;top: 0;bottom: 0;left: 50%;z-index: -1;}#sk-container-id-6 div.sk-parallel-item {display: flex;flex-direction: column;z-index: 1;position: relative;background-color: white;}#sk-container-id-6 div.sk-parallel-item:first-child::after {align-self: flex-end;width: 50%;}#sk-container-id-6 div.sk-parallel-item:last-child::after {align-self: flex-start;width: 50%;}#sk-container-id-6 div.sk-parallel-item:only-child::after {width: 0;}#sk-container-id-6 div.sk-dashed-wrapped {border: 1px dashed gray;margin: 0 0.4em 0.5em 0.4em;box-sizing: border-box;padding-bottom: 0.4em;background-color: white;}#sk-container-id-6 div.sk-label label {font-family: monospace;font-weight: bold;display: inline-block;line-height: 1.2em;}#sk-container-id-6 div.sk-label-container {text-align: center;}#sk-container-id-6 div.sk-container {/* jupyter's `normalize.less` sets `[hidden] { display: none; }` but bootstrap.min.css set `[hidden] { display: none !important; }` so we also need the `!important` here to be able to override the default hidden behavior on the sphinx rendered scikit-learn.org. See: https://github.com/scikit-learn/scikit-learn/issues/21755 */display: inline-block !important;position: relative;}#sk-container-id-6 div.sk-text-repr-fallback {display: none;}</style><div id=\"sk-container-id-6\" class=\"sk-top-container\"><div class=\"sk-text-repr-fallback\"><pre>SVC()</pre><b>In a Jupyter environment, please rerun this cell to show the HTML representation or trust the notebook. <br />On GitHub, the HTML representation is unable to render, please try loading this page with nbviewer.org.</b></div><div class=\"sk-container\" hidden><div class=\"sk-item\"><div class=\"sk-estimator sk-toggleable\"><input class=\"sk-toggleable__control sk-hidden--visually\" id=\"sk-estimator-id-6\" type=\"checkbox\" checked><label for=\"sk-estimator-id-6\" class=\"sk-toggleable__label sk-toggleable__label-arrow\">SVC</label><div class=\"sk-toggleable__content\"><pre>SVC()</pre></div></div></div></div></div>"
            ]
          },
          "metadata": {},
          "execution_count": 58
        }
      ]
    },
    {
      "cell_type": "code",
      "source": [
        "test_tokens = token_generator(test_text)\n",
        "svm_rbf_predictions = list()\n",
        "\n",
        "for token in test_tokens:\n",
        "  test_sparse_vector = sparse_vector_create(train_vocab_dict.doc2bow(token),len(train_vocab_dict))\n",
        "  x_test_tfidf = tfidf.transform(test_sparse_vector.reshape(1,-1))\n",
        "  svm_rbf_predictions.append(SVM_rbf.predict(x_test_tfidf)[0])"
      ],
      "metadata": {
        "id": "IBacOddGbeox"
      },
      "execution_count": null,
      "outputs": []
    },
    {
      "cell_type": "code",
      "source": [
        "SVM_sigmoid = svm.SVC(C=1.0,kernel ='sigmoid')\n",
        "SVM_sigmoid.fit(x_train_tfidf,y_train)"
      ],
      "metadata": {
        "colab": {
          "base_uri": "https://localhost:8080/",
          "height": 75
        },
        "id": "GU3GALxlb4GS",
        "outputId": "22d62c36-2f0c-4933-da27-ed5142d30704"
      },
      "execution_count": null,
      "outputs": [
        {
          "output_type": "execute_result",
          "data": {
            "text/plain": [
              "SVC(kernel='sigmoid')"
            ],
            "text/html": [
              "<style>#sk-container-id-7 {color: black;background-color: white;}#sk-container-id-7 pre{padding: 0;}#sk-container-id-7 div.sk-toggleable {background-color: white;}#sk-container-id-7 label.sk-toggleable__label {cursor: pointer;display: block;width: 100%;margin-bottom: 0;padding: 0.3em;box-sizing: border-box;text-align: center;}#sk-container-id-7 label.sk-toggleable__label-arrow:before {content: \"▸\";float: left;margin-right: 0.25em;color: #696969;}#sk-container-id-7 label.sk-toggleable__label-arrow:hover:before {color: black;}#sk-container-id-7 div.sk-estimator:hover label.sk-toggleable__label-arrow:before {color: black;}#sk-container-id-7 div.sk-toggleable__content {max-height: 0;max-width: 0;overflow: hidden;text-align: left;background-color: #f0f8ff;}#sk-container-id-7 div.sk-toggleable__content pre {margin: 0.2em;color: black;border-radius: 0.25em;background-color: #f0f8ff;}#sk-container-id-7 input.sk-toggleable__control:checked~div.sk-toggleable__content {max-height: 200px;max-width: 100%;overflow: auto;}#sk-container-id-7 input.sk-toggleable__control:checked~label.sk-toggleable__label-arrow:before {content: \"▾\";}#sk-container-id-7 div.sk-estimator input.sk-toggleable__control:checked~label.sk-toggleable__label {background-color: #d4ebff;}#sk-container-id-7 div.sk-label input.sk-toggleable__control:checked~label.sk-toggleable__label {background-color: #d4ebff;}#sk-container-id-7 input.sk-hidden--visually {border: 0;clip: rect(1px 1px 1px 1px);clip: rect(1px, 1px, 1px, 1px);height: 1px;margin: -1px;overflow: hidden;padding: 0;position: absolute;width: 1px;}#sk-container-id-7 div.sk-estimator {font-family: monospace;background-color: #f0f8ff;border: 1px dotted black;border-radius: 0.25em;box-sizing: border-box;margin-bottom: 0.5em;}#sk-container-id-7 div.sk-estimator:hover {background-color: #d4ebff;}#sk-container-id-7 div.sk-parallel-item::after {content: \"\";width: 100%;border-bottom: 1px solid gray;flex-grow: 1;}#sk-container-id-7 div.sk-label:hover label.sk-toggleable__label {background-color: #d4ebff;}#sk-container-id-7 div.sk-serial::before {content: \"\";position: absolute;border-left: 1px solid gray;box-sizing: border-box;top: 0;bottom: 0;left: 50%;z-index: 0;}#sk-container-id-7 div.sk-serial {display: flex;flex-direction: column;align-items: center;background-color: white;padding-right: 0.2em;padding-left: 0.2em;position: relative;}#sk-container-id-7 div.sk-item {position: relative;z-index: 1;}#sk-container-id-7 div.sk-parallel {display: flex;align-items: stretch;justify-content: center;background-color: white;position: relative;}#sk-container-id-7 div.sk-item::before, #sk-container-id-7 div.sk-parallel-item::before {content: \"\";position: absolute;border-left: 1px solid gray;box-sizing: border-box;top: 0;bottom: 0;left: 50%;z-index: -1;}#sk-container-id-7 div.sk-parallel-item {display: flex;flex-direction: column;z-index: 1;position: relative;background-color: white;}#sk-container-id-7 div.sk-parallel-item:first-child::after {align-self: flex-end;width: 50%;}#sk-container-id-7 div.sk-parallel-item:last-child::after {align-self: flex-start;width: 50%;}#sk-container-id-7 div.sk-parallel-item:only-child::after {width: 0;}#sk-container-id-7 div.sk-dashed-wrapped {border: 1px dashed gray;margin: 0 0.4em 0.5em 0.4em;box-sizing: border-box;padding-bottom: 0.4em;background-color: white;}#sk-container-id-7 div.sk-label label {font-family: monospace;font-weight: bold;display: inline-block;line-height: 1.2em;}#sk-container-id-7 div.sk-label-container {text-align: center;}#sk-container-id-7 div.sk-container {/* jupyter's `normalize.less` sets `[hidden] { display: none; }` but bootstrap.min.css set `[hidden] { display: none !important; }` so we also need the `!important` here to be able to override the default hidden behavior on the sphinx rendered scikit-learn.org. See: https://github.com/scikit-learn/scikit-learn/issues/21755 */display: inline-block !important;position: relative;}#sk-container-id-7 div.sk-text-repr-fallback {display: none;}</style><div id=\"sk-container-id-7\" class=\"sk-top-container\"><div class=\"sk-text-repr-fallback\"><pre>SVC(kernel=&#x27;sigmoid&#x27;)</pre><b>In a Jupyter environment, please rerun this cell to show the HTML representation or trust the notebook. <br />On GitHub, the HTML representation is unable to render, please try loading this page with nbviewer.org.</b></div><div class=\"sk-container\" hidden><div class=\"sk-item\"><div class=\"sk-estimator sk-toggleable\"><input class=\"sk-toggleable__control sk-hidden--visually\" id=\"sk-estimator-id-7\" type=\"checkbox\" checked><label for=\"sk-estimator-id-7\" class=\"sk-toggleable__label sk-toggleable__label-arrow\">SVC</label><div class=\"sk-toggleable__content\"><pre>SVC(kernel=&#x27;sigmoid&#x27;)</pre></div></div></div></div></div>"
            ]
          },
          "metadata": {},
          "execution_count": 61
        }
      ]
    },
    {
      "cell_type": "code",
      "source": [
        "test_tokens = token_generator(test_text)\n",
        "svm_sigmoid_predictions = list()\n",
        "\n",
        "for token in test_tokens:\n",
        "  test_sparse_vector = sparse_vector_create(train_vocab_dict.doc2bow(token),len(train_vocab_dict))\n",
        "  x_test_tfidf = tfidf.transform(test_sparse_vector.reshape(1,-1))\n",
        "  svm_sigmoid_predictions.append(SVM_sigmoid.predict(x_test_tfidf)[0])"
      ],
      "metadata": {
        "colab": {
          "base_uri": "https://localhost:8080/"
        },
        "id": "SLuQwD5Sb4TI",
        "outputId": "44066cbd-40f2-455f-ae7a-48634b01dbc7"
      },
      "execution_count": null,
      "outputs": [
        {
          "output_type": "stream",
          "name": "stdout",
          "text": [
            "SVM sigmoid\n",
            "TN: 206, FP: 17, FN: 14 TP: 357\n",
            "Sensitivity (aka recall) is 0.9623\n",
            "Specificity is 0.9238\n"
          ]
        }
      ]
    },
    {
      "cell_type": "code",
      "source": [
        "print(\"SVM sigmoid\")\n",
        "svm_sigmoid_metric = metric_calc(y_test,svm_sigmoid_predictions)\n",
        "svm_sigmoid_metric.conf_matrix_values()\n",
        "svm_sigmoid_metric.sens_spec()\n",
        "\n",
        "print(\"SVM Polynomial\")\n",
        "svm_poly_metric = metric_calc(y_test,svm_poly_predictions)\n",
        "svm_poly_metric.conf_matrix_values()\n",
        "svm_poly_metric.sens_spec()\n",
        "\n",
        "print(\"SVM rbf\")\n",
        "svm_rbf_metric = metric_calc(y_test,svm_rbf_predictions)\n",
        "svm_rbf_metric.conf_matrix_values()\n",
        "svm_rbf_metric.sens_spec()\n",
        "\n",
        "print(\"SVM\")\n",
        "svm_metric = metric_calc(y_test,svm_predictions)\n",
        "svm_metric.conf_matrix_values()\n",
        "svm_metric.sens_spec()"
      ],
      "metadata": {
        "colab": {
          "base_uri": "https://localhost:8080/"
        },
        "id": "PgW8Ej5MJEmN",
        "outputId": "b8a6d5fc-00d1-42a6-88de-9727f204acc1"
      },
      "execution_count": null,
      "outputs": [
        {
          "output_type": "stream",
          "name": "stdout",
          "text": [
            "SVM sigmoid\n",
            "TN: 206, FP: 17, FN: 14 TP: 357\n",
            "Sensitivity (aka recall) is 0.9623\n",
            "Specificity is 0.9238\n",
            "SVM Polynomial\n",
            "TN: 192, FP: 31, FN: 8 TP: 363\n",
            "Sensitivity (aka recall) is 0.9784\n",
            "Specificity is 0.8610\n",
            "SVM rbf\n",
            "TN: 204, FP: 19, FN: 6 TP: 365\n",
            "Sensitivity (aka recall) is 0.9838\n",
            "Specificity is 0.9148\n",
            "SVM\n",
            "TN: 206, FP: 17, FN: 4 TP: 367\n",
            "Sensitivity (aka recall) is 0.9892\n",
            "Specificity is 0.9238\n"
          ]
        }
      ]
    },
    {
      "cell_type": "markdown",
      "source": [
        "The linear kernel seems to still have the best sensitivity and specificity, although the rbf kernel comes as a close second."
      ],
      "metadata": {
        "id": "PpM4jtX6JTjo"
      }
    },
    {
      "cell_type": "markdown",
      "source": [
        "###Implementing BERT:"
      ],
      "metadata": {
        "id": "ImuDCOlkqRks"
      }
    },
    {
      "cell_type": "markdown",
      "source": [
        "Sources:\n",
        "\n",
        "https://github.com/tensorflow/text/issues/963 \n",
        "https://github.com/codebasics/deep-learning-keras-tf-tutorial/blob/master/47_BERT_text_classification/BERT_email_classification-handle-imbalance.ipynb"
      ],
      "metadata": {
        "id": "0nQa6YMwJjDg"
      }
    },
    {
      "cell_type": "code",
      "source": [
        "!pip install -q \"tensorflow-text==2.11.*\""
      ],
      "metadata": {
        "colab": {
          "base_uri": "https://localhost:8080/"
        },
        "id": "qWEKKVmGv8cl",
        "outputId": "29e96e20-359b-4467-d923-54afa7f922f7"
      },
      "execution_count": null,
      "outputs": [
        {
          "output_type": "stream",
          "name": "stdout",
          "text": [
            "\u001b[2K     \u001b[90m━━━━━━━━━━━━━━━━━━━━━━━━━━━━━━━━━━━━━━━━\u001b[0m \u001b[32m5.8/5.8 MB\u001b[0m \u001b[31m58.2 MB/s\u001b[0m eta \u001b[36m0:00:00\u001b[0m\n",
            "\u001b[2K     \u001b[90m━━━━━━━━━━━━━━━━━━━━━━━━━━━━━━━━━━━━━━━\u001b[0m \u001b[32m588.3/588.3 MB\u001b[0m \u001b[31m3.1 MB/s\u001b[0m eta \u001b[36m0:00:00\u001b[0m\n",
            "\u001b[2K     \u001b[90m━━━━━━━━━━━━━━━━━━━━━━━━━━━━━━━━━━━━━━━━\u001b[0m \u001b[32m6.0/6.0 MB\u001b[0m \u001b[31m75.1 MB/s\u001b[0m eta \u001b[36m0:00:00\u001b[0m\n",
            "\u001b[2K     \u001b[90m━━━━━━━━━━━━━━━━━━━━━━━━━━━━━━━━━━━━━━━━\u001b[0m \u001b[32m1.7/1.7 MB\u001b[0m \u001b[31m43.9 MB/s\u001b[0m eta \u001b[36m0:00:00\u001b[0m\n",
            "\u001b[2K     \u001b[90m━━━━━━━━━━━━━━━━━━━━━━━━━━━━━━━━━━━━━━━━\u001b[0m \u001b[32m17.3/17.3 MB\u001b[0m \u001b[31m53.0 MB/s\u001b[0m eta \u001b[36m0:00:00\u001b[0m\n",
            "\u001b[2K     \u001b[90m━━━━━━━━━━━━━━━━━━━━━━━━━━━━━━━━━━━━━━\u001b[0m \u001b[32m439.2/439.2 KB\u001b[0m \u001b[31m29.1 MB/s\u001b[0m eta \u001b[36m0:00:00\u001b[0m\n",
            "\u001b[2K     \u001b[90m━━━━━━━━━━━━━━━━━━━━━━━━━━━━━━━━━━━━━━\u001b[0m \u001b[32m126.5/126.5 KB\u001b[0m \u001b[31m12.8 MB/s\u001b[0m eta \u001b[36m0:00:00\u001b[0m\n",
            "\u001b[?25h\u001b[31mERROR: pip's dependency resolver does not currently take into account all the packages that are installed. This behaviour is the source of the following dependency conflicts.\n",
            "scispacy 0.5.1 requires spacy<3.5.0,>=3.4.0, but you have spacy 3.0.9 which is incompatible.\n",
            "numba 0.56.4 requires numpy<1.24,>=1.18, but you have numpy 1.24.2 which is incompatible.\n",
            "librosa 0.10.0.post2 requires typing-extensions>=4.1.1, but you have typing-extensions 3.10.0.2 which is incompatible.\n",
            "flax 0.6.7 requires typing-extensions>=4.1.1, but you have typing-extensions 3.10.0.2 which is incompatible.\n",
            "en-core-web-sm 3.5.0 requires spacy<3.6.0,>=3.5.0, but you have spacy 3.0.9 which is incompatible.\n",
            "chex 0.1.7 requires typing-extensions>=4.2.0; python_version < \"3.11\", but you have typing-extensions 3.10.0.2 which is incompatible.\n",
            "arviz 0.15.1 requires typing-extensions>=4.1.0, but you have typing-extensions 3.10.0.2 which is incompatible.\u001b[0m\u001b[31m\n",
            "\u001b[0m"
          ]
        }
      ]
    },
    {
      "cell_type": "code",
      "source": [
        "import tensorflow_text as text\n",
        "import tensorflow as tf\n",
        "import tensorflow_hub as hub"
      ],
      "metadata": {
        "id": "zLrF65Ukw7_N"
      },
      "execution_count": null,
      "outputs": []
    },
    {
      "cell_type": "code",
      "source": [
        "bert_encoder = hub.KerasLayer(\"https://tfhub.dev/tensorflow/bert_en_uncased_L-12_H-768_A-12/4\")"
      ],
      "metadata": {
        "id": "O5FDkGYoq6Pd"
      },
      "execution_count": null,
      "outputs": []
    },
    {
      "cell_type": "code",
      "source": [
        "bert_preprocess = hub.KerasLayer(\"https://tfhub.dev/tensorflow/bert_en_uncased_preprocess/3\")"
      ],
      "metadata": {
        "id": "S0XXElDJzHHF"
      },
      "execution_count": null,
      "outputs": []
    },
    {
      "cell_type": "code",
      "source": [
        "# Bert layers\n",
        "text_input = tf.keras.layers.Input(shape=(), dtype=tf.string, name='text')\n",
        "preprocessed_text = bert_preprocess(text_input)\n",
        "outputs = bert_encoder(preprocessed_text)\n",
        "\n",
        "# Neural network layers\n",
        "l = tf.keras.layers.Dropout(0.1, name=\"dropout\")(outputs['pooled_output'])\n",
        "l = tf.keras.layers.Dense(1, activation='sigmoid', name=\"output\")(l)\n",
        "\n",
        "# Use inputs and outputs to construct a final model\n",
        "model = tf.keras.Model(inputs=[text_input], outputs = [l])"
      ],
      "metadata": {
        "id": "Ly8KW8B6xWnr"
      },
      "execution_count": null,
      "outputs": []
    },
    {
      "cell_type": "code",
      "source": [
        "model.summary()"
      ],
      "metadata": {
        "colab": {
          "base_uri": "https://localhost:8080/"
        },
        "id": "64goxinShofh",
        "outputId": "85d574df-875f-42d6-effe-fc24e929ea4d"
      },
      "execution_count": null,
      "outputs": [
        {
          "output_type": "stream",
          "name": "stdout",
          "text": [
            "Model: \"model_1\"\n",
            "__________________________________________________________________________________________________\n",
            " Layer (type)                   Output Shape         Param #     Connected to                     \n",
            "==================================================================================================\n",
            " text (InputLayer)              [(None,)]            0           []                               \n",
            "                                                                                                  \n",
            " keras_layer_1 (KerasLayer)     {'input_word_ids':   0           ['text[0][0]']                   \n",
            "                                (None, 128),                                                      \n",
            "                                 'input_type_ids':                                                \n",
            "                                (None, 128),                                                      \n",
            "                                 'input_mask': (Non                                               \n",
            "                                e, 128)}                                                          \n",
            "                                                                                                  \n",
            " keras_layer (KerasLayer)       {'sequence_output':  109482241   ['keras_layer_1[1][0]',          \n",
            "                                 (None, 128, 768),                'keras_layer_1[1][1]',          \n",
            "                                 'default': (None,                'keras_layer_1[1][2]']          \n",
            "                                768),                                                             \n",
            "                                 'pooled_output': (                                               \n",
            "                                None, 768),                                                       \n",
            "                                 'encoder_outputs':                                               \n",
            "                                 [(None, 128, 768),                                               \n",
            "                                 (None, 128, 768),                                                \n",
            "                                 (None, 128, 768),                                                \n",
            "                                 (None, 128, 768),                                                \n",
            "                                 (None, 128, 768),                                                \n",
            "                                 (None, 128, 768),                                                \n",
            "                                 (None, 128, 768),                                                \n",
            "                                 (None, 128, 768),                                                \n",
            "                                 (None, 128, 768),                                                \n",
            "                                 (None, 128, 768),                                                \n",
            "                                 (None, 128, 768),                                                \n",
            "                                 (None, 128, 768)]}                                               \n",
            "                                                                                                  \n",
            " dropout (Dropout)              (None, 768)          0           ['keras_layer[1][13]']           \n",
            "                                                                                                  \n",
            " output (Dense)                 (None, 1)            769         ['dropout[0][0]']                \n",
            "                                                                                                  \n",
            "==================================================================================================\n",
            "Total params: 109,483,010\n",
            "Trainable params: 769\n",
            "Non-trainable params: 109,482,241\n",
            "__________________________________________________________________________________________________\n"
          ]
        }
      ]
    },
    {
      "cell_type": "code",
      "source": [
        "train_df['normality']=train_df['label'].apply(lambda x: 1 if x=='abnormal' else 0)\n",
        "X_train = train_df[\"full-text\"]\n",
        "y_train = train_df[\"normality\"]"
      ],
      "metadata": {
        "id": "V5mKQD8Ykwu2"
      },
      "execution_count": null,
      "outputs": []
    },
    {
      "cell_type": "code",
      "source": [
        "METRICS = [\n",
        "      tf.keras.metrics.BinaryAccuracy(name='accuracy'),\n",
        "      tf.keras.metrics.Precision(name='precision'),\n",
        "      tf.keras.metrics.Recall(name='recall')\n",
        "]\n",
        "\n",
        "model.compile(optimizer='adam',\n",
        "              loss='binary_crossentropy',\n",
        "              metrics=METRICS)"
      ],
      "metadata": {
        "id": "eo6yKJcniE-2"
      },
      "execution_count": null,
      "outputs": []
    },
    {
      "cell_type": "code",
      "source": [
        "model.fit(X_train, y_train, epochs=3)"
      ],
      "metadata": {
        "colab": {
          "base_uri": "https://localhost:8080/",
          "height": 421
        },
        "id": "CBSYLcK4iZ9m",
        "outputId": "3872afb7-9187-4a72-e645-91b7f243536d"
      },
      "execution_count": null,
      "outputs": [
        {
          "output_type": "stream",
          "name": "stdout",
          "text": [
            "Epoch 1/3\n",
            "106/106 [==============================] - 1259s 12s/step - loss: 0.5375 - accuracy: 0.7224 - precision: 0.7473 - recall: 0.8389\n",
            "Epoch 2/3\n",
            "106/106 [==============================] - 1205s 11s/step - loss: 0.5344 - accuracy: 0.7272 - precision: 0.7600 - recall: 0.8227\n",
            "Epoch 3/3\n",
            "106/106 [==============================] - 1179s 11s/step - loss: 0.5191 - accuracy: 0.7358 - precision: 0.7665 - recall: 0.8294\n"
          ]
        },
        {
          "output_type": "error",
          "ename": "KeyboardInterrupt",
          "evalue": "ignored",
          "traceback": [
            "\u001b[0;31m---------------------------------------------------------------------------\u001b[0m",
            "\u001b[0;31mKeyboardInterrupt\u001b[0m                         Traceback (most recent call last)",
            "\u001b[0;32m<ipython-input-119-75fb492ee3c1>\u001b[0m in \u001b[0;36m<cell line: 1>\u001b[0;34m()\u001b[0m\n\u001b[0;32m----> 1\u001b[0;31m \u001b[0mmodel\u001b[0m\u001b[0;34m.\u001b[0m\u001b[0mfit\u001b[0m\u001b[0;34m(\u001b[0m\u001b[0mX_train\u001b[0m\u001b[0;34m,\u001b[0m \u001b[0my_train\u001b[0m\u001b[0;34m,\u001b[0m \u001b[0mepochs\u001b[0m\u001b[0;34m=\u001b[0m\u001b[0;36m3\u001b[0m\u001b[0;34m)\u001b[0m\u001b[0;34m\u001b[0m\u001b[0;34m\u001b[0m\u001b[0m\n\u001b[0m",
            "\u001b[0;32m/usr/local/lib/python3.9/dist-packages/keras/utils/traceback_utils.py\u001b[0m in \u001b[0;36merror_handler\u001b[0;34m(*args, **kwargs)\u001b[0m\n\u001b[1;32m     63\u001b[0m         \u001b[0mfiltered_tb\u001b[0m \u001b[0;34m=\u001b[0m \u001b[0;32mNone\u001b[0m\u001b[0;34m\u001b[0m\u001b[0;34m\u001b[0m\u001b[0m\n\u001b[1;32m     64\u001b[0m         \u001b[0;32mtry\u001b[0m\u001b[0;34m:\u001b[0m\u001b[0;34m\u001b[0m\u001b[0;34m\u001b[0m\u001b[0m\n\u001b[0;32m---> 65\u001b[0;31m             \u001b[0;32mreturn\u001b[0m \u001b[0mfn\u001b[0m\u001b[0;34m(\u001b[0m\u001b[0;34m*\u001b[0m\u001b[0margs\u001b[0m\u001b[0;34m,\u001b[0m \u001b[0;34m**\u001b[0m\u001b[0mkwargs\u001b[0m\u001b[0;34m)\u001b[0m\u001b[0;34m\u001b[0m\u001b[0;34m\u001b[0m\u001b[0m\n\u001b[0m\u001b[1;32m     66\u001b[0m         \u001b[0;32mexcept\u001b[0m \u001b[0mException\u001b[0m \u001b[0;32mas\u001b[0m \u001b[0me\u001b[0m\u001b[0;34m:\u001b[0m\u001b[0;34m\u001b[0m\u001b[0;34m\u001b[0m\u001b[0m\n\u001b[1;32m     67\u001b[0m             \u001b[0mfiltered_tb\u001b[0m \u001b[0;34m=\u001b[0m \u001b[0m_process_traceback_frames\u001b[0m\u001b[0;34m(\u001b[0m\u001b[0me\u001b[0m\u001b[0;34m.\u001b[0m\u001b[0m__traceback__\u001b[0m\u001b[0;34m)\u001b[0m\u001b[0;34m\u001b[0m\u001b[0;34m\u001b[0m\u001b[0m\n",
            "\u001b[0;31mKeyboardInterrupt\u001b[0m: "
          ]
        }
      ]
    },
    {
      "cell_type": "markdown",
      "source": [
        "Output (for reference):\n",
        "\n",
        "Epoch 1/3\n",
        "106/106 [==============================] - 1259s 12s/step - loss: 0.5375 - accuracy: 0.7224 - precision: 0.7473 - recall: 0.8389\n",
        "Epoch 2/3\n",
        "106/106 [==============================] - 1205s 11s/step - loss: 0.5344 - accuracy: 0.7272 - precision: 0.7600 - recall: 0.8227\n",
        "Epoch 3/3\n",
        "106/106 [==============================] - 1179s 11s/step - loss: 0.5191 - accuracy: 0.7358 - precision: 0.7665 - recall: 0.8294\n"
      ],
      "metadata": {
        "id": "2Dz9uXqx4rT2"
      }
    },
    {
      "cell_type": "code",
      "source": [
        "test_df['normality']=test_df['label'].apply(lambda x: 1 if x=='abnormal' else 0)\n",
        "X_test = test_df[\"full-text\"]\n",
        "y_test = test_df[\"normality\"]"
      ],
      "metadata": {
        "colab": {
          "base_uri": "https://localhost:8080/",
          "height": 719
        },
        "id": "yPprMXmN4VH_",
        "outputId": "d1fb8cec-b37a-450c-e5eb-837644df2df5"
      },
      "execution_count": null,
      "outputs": [
        {
          "output_type": "execute_result",
          "data": {
            "text/plain": [
              "        id  \\\n",
              "3913  3834   \n",
              "1723  717    \n",
              "2924  2261   \n",
              "3358  570    \n",
              "658   715    \n",
              "\n",
              "                                                                                                                                                                                                                                                                                                                                                                                       findings  \\\n",
              "3913  There is an S-shaped scoliosis of the thoracic spine. Heart size and pulmonary vascularity within normal limits. No focal infiltrate, pneumothorax or pleural effusion identified.                                                                                                                                                                                                          \n",
              "1723  The heart is normal in size. The mediastinum is unremarkable. The lungs are clear.                                                                                                                                                                                                                                                                                                          \n",
              "2924  Frontal and lateral views of the chest with overlying external cardiac monitor leads show normal size and configuration of the cardiac silhouette. Normal pulmonary vasculature and central airways. No focal airspace consolidation or pleural effusion. Incidental note XXXX of an azygos fissure. There are surgical clips, perhaps from cholecystectomy, in the right upper quadrant.   \n",
              "3358  Heart size within normal limits. No focal airspace disease. No pneumothorax or effusions.                                                                                                                                                                                                                                                                                                   \n",
              "658   There is chronic asymmetric elevation of the right hemidiaphragm. Compared with the prior study, there is mildly increased streaky airspace disease in the right lung base. Hilar prominence appears stable. There is no pneumothorax or large pleural effusion. Heart size is stable and grossly normal. There no acute bony findings.                                                     \n",
              "\n",
              "                                                                                                                                          impression  \\\n",
              "3913  No acute cardiopulmonary disease.                                                                                                                \n",
              "1723  No acute disease.                                                                                                                                \n",
              "2924  No acute or active cardiac, pulmonary or pleural disease.                                                                                        \n",
              "3358  No acute cardiopulmonary findings.                                                                                                               \n",
              "658   Chronic asymmetric elevation of the right hemidiaphragm with mildly increased right basilar airspace disease, atelectasis versus infiltrate. .   \n",
              "\n",
              "                                                                                                                                                                                                                                                                                                                                                                                                                                                                                   full-text  \\\n",
              "3913  There is an S-shaped scoliosis of the thoracic spine. Heart size and pulmonary vascularity within normal limits. No focal infiltrate, pneumothorax or pleural effusion identified. No acute cardiopulmonary disease.                                                                                                                                                                                                                                                                     \n",
              "1723  The heart is normal in size. The mediastinum is unremarkable. The lungs are clear. No acute disease.                                                                                                                                                                                                                                                                                                                                                                                     \n",
              "2924  Frontal and lateral views of the chest with overlying external cardiac monitor leads show normal size and configuration of the cardiac silhouette. Normal pulmonary vasculature and central airways. No focal airspace consolidation or pleural effusion. Incidental note XXXX of an azygos fissure. There are surgical clips, perhaps from cholecystectomy, in the right upper quadrant. No acute or active cardiac, pulmonary or pleural disease.                                      \n",
              "3358  Heart size within normal limits. No focal airspace disease. No pneumothorax or effusions. No acute cardiopulmonary findings.                                                                                                                                                                                                                                                                                                                                                             \n",
              "658   There is chronic asymmetric elevation of the right hemidiaphragm. Compared with the prior study, there is mildly increased streaky airspace disease in the right lung base. Hilar prominence appears stable. There is no pneumothorax or large pleural effusion. Heart size is stable and grossly normal. There no acute bony findings. Chronic asymmetric elevation of the right hemidiaphragm with mildly increased right basilar airspace disease, atelectasis versus infiltrate. .   \n",
              "\n",
              "         label  normality  \n",
              "3913  abnormal  1          \n",
              "1723  normal    0          \n",
              "2924  abnormal  1          \n",
              "3358  normal    0          \n",
              "658   abnormal  1          "
            ],
            "text/html": [
              "\n",
              "  <div id=\"df-dfb00c15-423e-43ea-82e3-96b302be0121\">\n",
              "    <div class=\"colab-df-container\">\n",
              "      <div>\n",
              "<style scoped>\n",
              "    .dataframe tbody tr th:only-of-type {\n",
              "        vertical-align: middle;\n",
              "    }\n",
              "\n",
              "    .dataframe tbody tr th {\n",
              "        vertical-align: top;\n",
              "    }\n",
              "\n",
              "    .dataframe thead th {\n",
              "        text-align: right;\n",
              "    }\n",
              "</style>\n",
              "<table border=\"1\" class=\"dataframe\">\n",
              "  <thead>\n",
              "    <tr style=\"text-align: right;\">\n",
              "      <th></th>\n",
              "      <th>id</th>\n",
              "      <th>findings</th>\n",
              "      <th>impression</th>\n",
              "      <th>full-text</th>\n",
              "      <th>label</th>\n",
              "      <th>normality</th>\n",
              "    </tr>\n",
              "  </thead>\n",
              "  <tbody>\n",
              "    <tr>\n",
              "      <th>3913</th>\n",
              "      <td>3834</td>\n",
              "      <td>There is an S-shaped scoliosis of the thoracic spine. Heart size and pulmonary vascularity within normal limits. No focal infiltrate, pneumothorax or pleural effusion identified.</td>\n",
              "      <td>No acute cardiopulmonary disease.</td>\n",
              "      <td>There is an S-shaped scoliosis of the thoracic spine. Heart size and pulmonary vascularity within normal limits. No focal infiltrate, pneumothorax or pleural effusion identified. No acute cardiopulmonary disease.</td>\n",
              "      <td>abnormal</td>\n",
              "      <td>1</td>\n",
              "    </tr>\n",
              "    <tr>\n",
              "      <th>1723</th>\n",
              "      <td>717</td>\n",
              "      <td>The heart is normal in size. The mediastinum is unremarkable. The lungs are clear.</td>\n",
              "      <td>No acute disease.</td>\n",
              "      <td>The heart is normal in size. The mediastinum is unremarkable. The lungs are clear. No acute disease.</td>\n",
              "      <td>normal</td>\n",
              "      <td>0</td>\n",
              "    </tr>\n",
              "    <tr>\n",
              "      <th>2924</th>\n",
              "      <td>2261</td>\n",
              "      <td>Frontal and lateral views of the chest with overlying external cardiac monitor leads show normal size and configuration of the cardiac silhouette. Normal pulmonary vasculature and central airways. No focal airspace consolidation or pleural effusion. Incidental note XXXX of an azygos fissure. There are surgical clips, perhaps from cholecystectomy, in the right upper quadrant.</td>\n",
              "      <td>No acute or active cardiac, pulmonary or pleural disease.</td>\n",
              "      <td>Frontal and lateral views of the chest with overlying external cardiac monitor leads show normal size and configuration of the cardiac silhouette. Normal pulmonary vasculature and central airways. No focal airspace consolidation or pleural effusion. Incidental note XXXX of an azygos fissure. There are surgical clips, perhaps from cholecystectomy, in the right upper quadrant. No acute or active cardiac, pulmonary or pleural disease.</td>\n",
              "      <td>abnormal</td>\n",
              "      <td>1</td>\n",
              "    </tr>\n",
              "    <tr>\n",
              "      <th>3358</th>\n",
              "      <td>570</td>\n",
              "      <td>Heart size within normal limits. No focal airspace disease. No pneumothorax or effusions.</td>\n",
              "      <td>No acute cardiopulmonary findings.</td>\n",
              "      <td>Heart size within normal limits. No focal airspace disease. No pneumothorax or effusions. No acute cardiopulmonary findings.</td>\n",
              "      <td>normal</td>\n",
              "      <td>0</td>\n",
              "    </tr>\n",
              "    <tr>\n",
              "      <th>658</th>\n",
              "      <td>715</td>\n",
              "      <td>There is chronic asymmetric elevation of the right hemidiaphragm. Compared with the prior study, there is mildly increased streaky airspace disease in the right lung base. Hilar prominence appears stable. There is no pneumothorax or large pleural effusion. Heart size is stable and grossly normal. There no acute bony findings.</td>\n",
              "      <td>Chronic asymmetric elevation of the right hemidiaphragm with mildly increased right basilar airspace disease, atelectasis versus infiltrate. .</td>\n",
              "      <td>There is chronic asymmetric elevation of the right hemidiaphragm. Compared with the prior study, there is mildly increased streaky airspace disease in the right lung base. Hilar prominence appears stable. There is no pneumothorax or large pleural effusion. Heart size is stable and grossly normal. There no acute bony findings. Chronic asymmetric elevation of the right hemidiaphragm with mildly increased right basilar airspace disease, atelectasis versus infiltrate. .</td>\n",
              "      <td>abnormal</td>\n",
              "      <td>1</td>\n",
              "    </tr>\n",
              "  </tbody>\n",
              "</table>\n",
              "</div>\n",
              "      <button class=\"colab-df-convert\" onclick=\"convertToInteractive('df-dfb00c15-423e-43ea-82e3-96b302be0121')\"\n",
              "              title=\"Convert this dataframe to an interactive table.\"\n",
              "              style=\"display:none;\">\n",
              "        \n",
              "  <svg xmlns=\"http://www.w3.org/2000/svg\" height=\"24px\"viewBox=\"0 0 24 24\"\n",
              "       width=\"24px\">\n",
              "    <path d=\"M0 0h24v24H0V0z\" fill=\"none\"/>\n",
              "    <path d=\"M18.56 5.44l.94 2.06.94-2.06 2.06-.94-2.06-.94-.94-2.06-.94 2.06-2.06.94zm-11 1L8.5 8.5l.94-2.06 2.06-.94-2.06-.94L8.5 2.5l-.94 2.06-2.06.94zm10 10l.94 2.06.94-2.06 2.06-.94-2.06-.94-.94-2.06-.94 2.06-2.06.94z\"/><path d=\"M17.41 7.96l-1.37-1.37c-.4-.4-.92-.59-1.43-.59-.52 0-1.04.2-1.43.59L10.3 9.45l-7.72 7.72c-.78.78-.78 2.05 0 2.83L4 21.41c.39.39.9.59 1.41.59.51 0 1.02-.2 1.41-.59l7.78-7.78 2.81-2.81c.8-.78.8-2.07 0-2.86zM5.41 20L4 18.59l7.72-7.72 1.47 1.35L5.41 20z\"/>\n",
              "  </svg>\n",
              "      </button>\n",
              "      \n",
              "  <style>\n",
              "    .colab-df-container {\n",
              "      display:flex;\n",
              "      flex-wrap:wrap;\n",
              "      gap: 12px;\n",
              "    }\n",
              "\n",
              "    .colab-df-convert {\n",
              "      background-color: #E8F0FE;\n",
              "      border: none;\n",
              "      border-radius: 50%;\n",
              "      cursor: pointer;\n",
              "      display: none;\n",
              "      fill: #1967D2;\n",
              "      height: 32px;\n",
              "      padding: 0 0 0 0;\n",
              "      width: 32px;\n",
              "    }\n",
              "\n",
              "    .colab-df-convert:hover {\n",
              "      background-color: #E2EBFA;\n",
              "      box-shadow: 0px 1px 2px rgba(60, 64, 67, 0.3), 0px 1px 3px 1px rgba(60, 64, 67, 0.15);\n",
              "      fill: #174EA6;\n",
              "    }\n",
              "\n",
              "    [theme=dark] .colab-df-convert {\n",
              "      background-color: #3B4455;\n",
              "      fill: #D2E3FC;\n",
              "    }\n",
              "\n",
              "    [theme=dark] .colab-df-convert:hover {\n",
              "      background-color: #434B5C;\n",
              "      box-shadow: 0px 1px 3px 1px rgba(0, 0, 0, 0.15);\n",
              "      filter: drop-shadow(0px 1px 2px rgba(0, 0, 0, 0.3));\n",
              "      fill: #FFFFFF;\n",
              "    }\n",
              "  </style>\n",
              "\n",
              "      <script>\n",
              "        const buttonEl =\n",
              "          document.querySelector('#df-dfb00c15-423e-43ea-82e3-96b302be0121 button.colab-df-convert');\n",
              "        buttonEl.style.display =\n",
              "          google.colab.kernel.accessAllowed ? 'block' : 'none';\n",
              "\n",
              "        async function convertToInteractive(key) {\n",
              "          const element = document.querySelector('#df-dfb00c15-423e-43ea-82e3-96b302be0121');\n",
              "          const dataTable =\n",
              "            await google.colab.kernel.invokeFunction('convertToInteractive',\n",
              "                                                     [key], {});\n",
              "          if (!dataTable) return;\n",
              "\n",
              "          const docLinkHtml = 'Like what you see? Visit the ' +\n",
              "            '<a target=\"_blank\" href=https://colab.research.google.com/notebooks/data_table.ipynb>data table notebook</a>'\n",
              "            + ' to learn more about interactive tables.';\n",
              "          element.innerHTML = '';\n",
              "          dataTable['output_type'] = 'display_data';\n",
              "          await google.colab.output.renderOutput(dataTable, element);\n",
              "          const docLink = document.createElement('div');\n",
              "          docLink.innerHTML = docLinkHtml;\n",
              "          element.appendChild(docLink);\n",
              "        }\n",
              "      </script>\n",
              "    </div>\n",
              "  </div>\n",
              "  "
            ]
          },
          "metadata": {},
          "execution_count": 121
        }
      ]
    },
    {
      "cell_type": "code",
      "source": [
        "model.evaluate(X_test, y_test)"
      ],
      "metadata": {
        "colab": {
          "base_uri": "https://localhost:8080/"
        },
        "id": "6duQvG664Vhf",
        "outputId": "a992255f-5914-42a0-b168-96aaa3074941"
      },
      "execution_count": null,
      "outputs": [
        {
          "output_type": "stream",
          "name": "stdout",
          "text": [
            "19/19 [==============================] - 220s 11s/step - loss: 0.4970 - accuracy: 0.7576 - precision: 0.7696 - recall: 0.8733\n"
          ]
        },
        {
          "output_type": "execute_result",
          "data": {
            "text/plain": [
              "[0.49704843759536743,\n",
              " 0.7575757503509521,\n",
              " 0.7695962190628052,\n",
              " 0.8733153343200684]"
            ]
          },
          "metadata": {},
          "execution_count": 123
        }
      ]
    },
    {
      "cell_type": "code",
      "source": [
        "y_predicted = model.predict(X_test)\n",
        "y_predicted = y_predicted.flatten()"
      ],
      "metadata": {
        "colab": {
          "base_uri": "https://localhost:8080/"
        },
        "id": "NtJSPUqJ6swn",
        "outputId": "901dcf89-358d-4609-ead1-60aadff7fb76"
      },
      "execution_count": null,
      "outputs": [
        {
          "output_type": "stream",
          "name": "stdout",
          "text": [
            "19/19 [==============================] - 218s 11s/step\n"
          ]
        }
      ]
    },
    {
      "cell_type": "code",
      "source": [
        "import numpy as np\n",
        "\n",
        "y_predicted = np.where(y_predicted > 0.5, 1, 0)\n",
        "y_predicted"
      ],
      "metadata": {
        "colab": {
          "base_uri": "https://localhost:8080/"
        },
        "id": "PinvUmO86tAA",
        "outputId": "094978c4-eba8-4cb4-c6bb-79d9c5a90314"
      },
      "execution_count": null,
      "outputs": [
        {
          "output_type": "execute_result",
          "data": {
            "text/plain": [
              "array([0, 1, 1, 1, 0, 0, 1, 1, 1, 1, 1, 1, 1, 1, 1, 0, 1, 0, 1, 1, 1, 1,\n",
              "       1, 1, 0, 0, 1, 0, 0, 0, 0, 1, 1, 1, 0, 1, 1, 1, 0, 0, 1, 0, 1, 0,\n",
              "       0, 1, 0, 1, 1, 1, 1, 1, 1, 0, 0, 1, 1, 0, 0, 1, 1, 1, 1, 1, 1, 1,\n",
              "       0, 0, 1, 0, 0, 1, 1, 0, 1, 1, 1, 1, 1, 1, 0, 1, 1, 0, 1, 0, 1, 1,\n",
              "       0, 0, 1, 0, 1, 1, 1, 1, 0, 1, 1, 0, 1, 1, 1, 1, 1, 1, 1, 0, 0, 1,\n",
              "       1, 0, 1, 1, 0, 1, 0, 1, 1, 1, 0, 1, 0, 1, 0, 1, 1, 0, 1, 1, 0, 1,\n",
              "       1, 0, 0, 1, 1, 0, 1, 1, 1, 1, 0, 0, 1, 1, 1, 1, 1, 1, 0, 1, 0, 1,\n",
              "       1, 1, 1, 1, 1, 1, 1, 0, 1, 1, 1, 1, 1, 0, 1, 1, 0, 1, 1, 0, 1, 1,\n",
              "       1, 1, 1, 1, 1, 1, 0, 1, 1, 1, 0, 1, 1, 1, 1, 1, 1, 1, 0, 1, 0, 0,\n",
              "       1, 1, 0, 0, 1, 1, 1, 0, 1, 1, 1, 1, 0, 0, 1, 1, 1, 1, 1, 1, 1, 1,\n",
              "       1, 0, 0, 0, 0, 0, 0, 0, 1, 1, 1, 1, 0, 1, 1, 1, 1, 1, 1, 0, 1, 1,\n",
              "       1, 0, 0, 1, 0, 0, 1, 0, 1, 0, 1, 1, 1, 1, 1, 0, 1, 1, 0, 1, 1, 1,\n",
              "       1, 1, 1, 1, 0, 1, 1, 0, 0, 1, 1, 0, 1, 1, 0, 1, 1, 0, 1, 0, 1, 0,\n",
              "       1, 0, 1, 0, 1, 1, 1, 1, 0, 1, 0, 0, 1, 1, 0, 0, 1, 0, 0, 1, 1, 1,\n",
              "       1, 0, 1, 0, 1, 1, 0, 1, 0, 1, 1, 0, 0, 1, 1, 1, 1, 1, 1, 0, 1, 0,\n",
              "       0, 1, 1, 1, 1, 1, 1, 1, 0, 1, 1, 0, 1, 1, 1, 1, 1, 1, 1, 1, 0, 1,\n",
              "       1, 1, 1, 1, 0, 1, 0, 1, 1, 1, 1, 0, 1, 0, 1, 1, 1, 0, 1, 1, 1, 1,\n",
              "       1, 1, 1, 1, 0, 0, 1, 1, 1, 1, 0, 0, 0, 1, 1, 1, 1, 1, 0, 1, 1, 1,\n",
              "       1, 1, 0, 0, 1, 1, 1, 1, 1, 0, 1, 1, 1, 0, 0, 1, 1, 1, 1, 1, 1, 1,\n",
              "       1, 1, 0, 0, 1, 1, 1, 1, 1, 0, 0, 1, 1, 1, 1, 1, 1, 0, 1, 1, 0, 1,\n",
              "       1, 1, 1, 0, 1, 0, 1, 1, 1, 1, 0, 1, 1, 1, 1, 1, 0, 1, 1, 1, 1, 1,\n",
              "       1, 1, 1, 1, 0, 1, 0, 0, 0, 1, 1, 0, 1, 0, 1, 1, 0, 0, 0, 0, 1, 0,\n",
              "       0, 0, 1, 0, 0, 1, 1, 0, 1, 1, 1, 0, 0, 1, 1, 1, 1, 1, 1, 1, 1, 0,\n",
              "       1, 0, 1, 0, 1, 1, 1, 1, 1, 0, 1, 1, 0, 1, 1, 1, 1, 1, 1, 1, 1, 0,\n",
              "       1, 1, 1, 1, 1, 1, 1, 1, 1, 1, 0, 1, 1, 1, 1, 1, 1, 0, 0, 1, 1, 1,\n",
              "       1, 1, 1, 1, 1, 1, 1, 1, 1, 1, 1, 1, 0, 1, 1, 1, 1, 1, 1, 1, 1, 1,\n",
              "       1, 1, 1, 1, 1, 0, 0, 1, 1, 1, 1, 1, 1, 0, 0, 1, 0, 0, 1, 1, 0, 1])"
            ]
          },
          "metadata": {},
          "execution_count": 125
        }
      ]
    },
    {
      "cell_type": "code",
      "source": [
        "from sklearn.metrics import confusion_matrix, classification_report\n",
        "\n",
        "cm = confusion_matrix(y_test, y_predicted)\n",
        "cm "
      ],
      "metadata": {
        "colab": {
          "base_uri": "https://localhost:8080/"
        },
        "id": "ITk1HwcY6tLY",
        "outputId": "0dec29e4-92c1-425d-b809-36a94a713593"
      },
      "execution_count": null,
      "outputs": [
        {
          "output_type": "execute_result",
          "data": {
            "text/plain": [
              "array([[126,  97],\n",
              "       [ 47, 324]])"
            ]
          },
          "metadata": {},
          "execution_count": 126
        }
      ]
    },
    {
      "cell_type": "code",
      "source": [
        "from matplotlib import pyplot as plt\n",
        "import seaborn as sn\n",
        "sn.heatmap(cm, annot=True, fmt='d')\n",
        "plt.xlabel('Predicted')\n",
        "plt.ylabel('True')\n",
        "plt.title(\"Confusion Matrix Heatmap for BERT Model\")"
      ],
      "metadata": {
        "colab": {
          "base_uri": "https://localhost:8080/",
          "height": 490
        },
        "id": "n_cZfIcc8DaJ",
        "outputId": "80a29ac2-23a0-4f85-ee65-bc88e46f34f3"
      },
      "execution_count": null,
      "outputs": [
        {
          "output_type": "execute_result",
          "data": {
            "text/plain": [
              "Text(0.5, 1.0, 'Confusion Matrix Heatmap for BERT Model')"
            ]
          },
          "metadata": {},
          "execution_count": 171
        },
        {
          "output_type": "display_data",
          "data": {
            "text/plain": [
              "<Figure size 640x480 with 2 Axes>"
            ],
            "image/png": "[encoded data removed]"
          },
          "metadata": {}
        }
      ]
    },
    {
      "cell_type": "code",
      "source": [
        "print(classification_report(y_test, y_predicted))"
      ],
      "metadata": {
        "colab": {
          "base_uri": "https://localhost:8080/"
        },
        "id": "AnX6dFJ38OkY",
        "outputId": "1af4a129-0724-442a-847e-4a07b4c8f9f6"
      },
      "execution_count": null,
      "outputs": [
        {
          "output_type": "stream",
          "name": "stdout",
          "text": [
            "              precision    recall  f1-score   support\n",
            "\n",
            "           0       0.73      0.57      0.64       223\n",
            "           1       0.77      0.87      0.82       371\n",
            "\n",
            "    accuracy                           0.76       594\n",
            "   macro avg       0.75      0.72      0.73       594\n",
            "weighted avg       0.75      0.76      0.75       594\n",
            "\n"
          ]
        }
      ]
    },
    {
      "cell_type": "markdown",
      "source": [
        "We can compare this confusion matrix heatmap to the SVM's heatmap in order to see which model is better:"
      ],
      "metadata": {
        "id": "WSwgWTtZbhwO"
      }
    },
    {
      "cell_type": "code",
      "source": [
        "svm_cm = confusion_matrix(y_test, svm_predictions)\n",
        "svm_cm "
      ],
      "metadata": {
        "colab": {
          "base_uri": "https://localhost:8080/"
        },
        "id": "8afY3_M3anun",
        "outputId": "26d3a7b4-56f9-4ccd-e9b3-91a3193be9a6"
      },
      "execution_count": null,
      "outputs": [
        {
          "output_type": "execute_result",
          "data": {
            "text/plain": [
              "array([[206,  17],\n",
              "       [  4, 367]])"
            ]
          },
          "metadata": {},
          "execution_count": 168
        }
      ]
    },
    {
      "cell_type": "code",
      "source": [
        "from matplotlib import pyplot as plt\n",
        "import seaborn as sn\n",
        "sn.heatmap(svm_cm, annot=True, fmt='d')\n",
        "plt.xlabel('Predicted')\n",
        "plt.ylabel('True')\n",
        "plt.title(\"Confusion Matrix Heatmap for SVM Model\")"
      ],
      "metadata": {
        "colab": {
          "base_uri": "https://localhost:8080/",
          "height": 490
        },
        "id": "qu2xkzK_a6TL",
        "outputId": "8f80e1c8-b6d5-49fb-a57f-cdb98879db64"
      },
      "execution_count": null,
      "outputs": [
        {
          "output_type": "execute_result",
          "data": {
            "text/plain": [
              "Text(0.5, 1.0, 'Confusion Matrix Heatmap for SVM Model')"
            ]
          },
          "metadata": {},
          "execution_count": 170
        },
        {
          "output_type": "display_data",
          "data": {
            "text/plain": [
              "<Figure size 640x480 with 2 Axes>"
            ],
            "image/png": "[encoded data removed]"
          },
          "metadata": {}
        }
      ]
    },
    {
      "cell_type": "code",
      "source": [],
      "metadata": {
        "id": "E6bWMkJKbu8N"
      },
      "execution_count": null,
      "outputs": []
    }
  ]
}